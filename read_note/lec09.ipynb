{
 "cells": [
  {
   "cell_type": "markdown",
   "metadata": {},
   "source": [
    "### Data Abstraction"
   ]
  },
  {
   "cell_type": "markdown",
   "metadata": {},
   "source": [
    "- Functions are abstractions that represent computations and actions.\n",
    "- In the old days, one described programs as hierarchies of actions: procedural decomposition.\n",
    "- Starting in the 1970's, emphasis moved to the data that the functions operate on.\n",
    "- An abstract data type represents some kind of thing and the  oeprations upon it. \n",
    "- Instances of the type are often generically called objects.\n",
    "- We can usefully organize out programs around the abstract data types in them.\n",
    "- For each type, we define an interface that describes for users (\"clients\") of that type of data what operations are available. \n",
    "- Typically, the interface consists of functions.\n",
    "- The collection of specifications (syntactic and semantic -- see lecture #6) constitute a specification of the type.\n",
    "- We call ADTs abstract because clients ideally need not know internals."
   ]
  },
  {
   "cell_type": "markdown",
   "metadata": {},
   "source": [
    "### Functions as Data Abstractions (I)"
   ]
  },
  {
   "cell_type": "markdown",
   "metadata": {},
   "source": [
    "- Functions can serve as objects.\n",
    "- In the path-finding example, the blocked argument was a function. \n",
    "- But it essentially represented data: the set of places that were blocked."
   ]
  },
  {
   "cell_type": "markdown",
   "metadata": {},
   "source": [
    "### Rational Numbers"
   ]
  },
  {
   "cell_type": "markdown",
   "metadata": {},
   "source": [
    "- The book uses \"rational number\" as an example of an AST:"
   ]
  },
  {
   "cell_type": "code",
   "execution_count": null,
   "metadata": {
    "collapsed": true
   },
   "outputs": [],
   "source": [
    "def make_rat(n, d):\n",
    "    \"\"\"The rational number n/d, assuming n, d are integers, d!= 0\"\"\"\n",
    "    \n",
    "def add_rat(x, y):\n",
    "    \"\"\"The sum of rational numbers x and y.\"\"\"\n",
    "    \n",
    "def mul_rat(x, y):\n",
    "    \"\"\"The product of rational number r.\"\"\"\n",
    "    \n",
    "def numer(r):\n",
    "    \"\"\"The numerator of rational number r.\"\"\"\n",
    "    \n",
    "def denom(r):\n",
    "    \"\"\"The denominator of rational number r.\"\"\""
   ]
  },
  {
   "cell_type": "markdown",
   "metadata": {},
   "source": [
    "- These definitions pretend that x, y, and r really ar rational numbers.\n",
    "- But from this point of view, numer and denom are problematic. Why?"
   ]
  },
  {
   "cell_type": "markdown",
   "metadata": {},
   "source": [
    "> Since rational is not defined yet."
   ]
  },
  {
   "cell_type": "markdown",
   "metadata": {},
   "source": [
    "### A Better Specification"
   ]
  },
  {
   "cell_type": "markdown",
   "metadata": {},
   "source": [
    "- Problem is that \"the numerator (denominator) of r\" is not well-defined for a raional number.\n",
    "- If make_rat really produced rational numbers, then make_rat(2,4) and make_rat(1,2) ought to be identical. So should make_rat(1, -1) and make_rat(-1, 1).\n",
    "- So a better specification would be"
   ]
  },
  {
   "cell_type": "code",
   "execution_count": null,
   "metadata": {
    "collapsed": true
   },
   "outputs": [],
   "source": [
    "def numer(r):\n",
    "    \"\"\"The numerator of raional number r in lowest terms.\"\"\"\n",
    "    \n",
    "def denom(r):\n",
    "    \"\"\"The denominator of rational number r in lowest terms. \n",
    "    Always positive.\"\"\""
   ]
  },
  {
   "cell_type": "markdown",
   "metadata": {},
   "source": [
    "### Representation as Functions(I)"
   ]
  },
  {
   "cell_type": "markdown",
   "metadata": {},
   "source": [
    "- We have a tool that can implement this specification now: functions."
   ]
  },
  {
   "cell_type": "code",
   "execution_count": null,
   "metadata": {
    "collapsed": true
   },
   "outputs": [],
   "source": [
    "from math import gcd \n",
    "\n",
    "def make_rat(n, d):\n",
    "    \"\"\"The rational number n/d, assuming n, d are integers, d!=0\"\"\"\n",
    "    g = gcd(n, d) if d > 0 else -gcd(n, d)\n",
    "    n //= g; d //= g\n",
    "    return lambda which: n if which == 0 else d\n",
    "\n",
    "def numer(r):\n",
    "    \"\"\"The numerator of rational number r.\"\"\"\n",
    "    return r(0)\n",
    "\n",
    "def denom(r):\n",
    "    \"\"\"The denominator of rational number r.\"\"\"\n",
    "    return r(1)\n",
    "\n"
   ]
  },
  {
   "cell_type": "markdown",
   "metadata": {},
   "source": [
    "### Abstraction Violations and DRY"
   ]
  },
  {
   "cell_type": "markdown",
   "metadata": {},
   "source": [
    "- Having creatged an abstraction(make_rat, numer, denom), use it:\n",
    "  - Then, later changes of representation will affect less code. \n",
    "  - Code will be clearer, since well-chosen names in the API make intent clear. "
   ]
  },
  {
   "cell_type": "code",
   "execution_count": null,
   "metadata": {
    "collapsed": true
   },
   "outputs": [],
   "source": [
    "def add_rat(x, y):\n",
    "    return make_rat(numer(x) * denom(y) + numer(y) * denom(x),\n",
    "                    denom(x) * denom(y))\n",
    "\n",
    "def mul_rat(x, y):\n",
    "    \"\"\"The product of rational numbers x and y.\"\"\"\n",
    "    return make_rat(numer(x) * numer(y), denom(x) * denom(y))"
   ]
  },
  {
   "cell_type": "markdown",
   "metadata": {},
   "source": [
    "> With the definition of make_rat (used gcd already), numer, and denom. The way to get numerator and denominator are defined. Thus we can get these elements with specific methods. "
   ]
  },
  {
   "cell_type": "markdown",
   "metadata": {},
   "source": [
    "> The above program like An API of rational. The clients will not care how it implemented, as long as they can get what they want by using the API. Thus, if the programmer want to update the implementation of rational, less code need to be changed and users will not know."
   ]
  },
  {
   "cell_type": "markdown",
   "metadata": {},
   "source": [
    "### Objects in Python"
   ]
  },
  {
   "cell_type": "markdown",
   "metadata": {},
   "source": [
    "- In Python 3, every value is a reference to an object. \n",
    "- Variables of object correspond (roughly) to classes (types).\n",
    "- Each object has some set of attributes, accessible using dot notation, which are values:\n",
    "  - E.Attr, where E is a simple expression and Attr is a name, means \"The current value of the Attr attribute of the object referred to by the value of E.\"\n",
    "- Among these attributes are those whose values are a kind of function known as a method.\n",
    "- For historical reasons or notational calrity, there are often alternative ways to access attributes thant dot notation:"
   ]
  },
  {
   "cell_type": "code",
   "execution_count": 8,
   "metadata": {
    "collapsed": false
   },
   "outputs": [
    {
     "name": "stdout",
     "output_type": "stream",
     "text": [
      "10\n"
     ]
    }
   ],
   "source": [
    "#from operator import add, sub, mul\n",
    "x = 5\n",
    "b = x.__add__(5)\n",
    "print(b)"
   ]
  },
  {
   "cell_type": "code",
   "execution_count": 9,
   "metadata": {
    "collapsed": false
   },
   "outputs": [
    {
     "data": {
      "text/plain": [
       "4"
      ]
     },
     "execution_count": 9,
     "metadata": {},
     "output_type": "execute_result"
    }
   ],
   "source": [
    "L = [1, 2, 3, 4]\n",
    "L.__getitem__(3)"
   ]
  },
  {
   "cell_type": "code",
   "execution_count": 10,
   "metadata": {
    "collapsed": false
   },
   "outputs": [
    {
     "data": {
      "text/plain": [
       "4"
      ]
     },
     "execution_count": 10,
     "metadata": {},
     "output_type": "execute_result"
    }
   ],
   "source": [
    "L[3]"
   ]
  },
  {
   "cell_type": "code",
   "execution_count": 11,
   "metadata": {
    "collapsed": false
   },
   "outputs": [
    {
     "data": {
      "text/plain": [
       "10"
      ]
     },
     "execution_count": 11,
     "metadata": {},
     "output_type": "execute_result"
    }
   ],
   "source": [
    "s = \"Monkey Lin\"\n",
    "s.__len__()"
   ]
  },
  {
   "cell_type": "code",
   "execution_count": 12,
   "metadata": {
    "collapsed": false
   },
   "outputs": [
    {
     "data": {
      "text/plain": [
       "10"
      ]
     },
     "execution_count": 12,
     "metadata": {},
     "output_type": "execute_result"
    }
   ],
   "source": [
    "len(s)"
   ]
  },
  {
   "cell_type": "markdown",
   "metadata": {},
   "source": [
    "### Primitive Types: Numbers"
   ]
  },
  {
   "cell_type": "markdown",
   "metadata": {},
   "source": [
    "- A primitive type is one that is built into a language, possibly with characteristics or syntax that cannot be written into user-defined types. \n",
    "- In Python, numbers are such types: have their own literals and internal attributes that are not accessible to the programmer. \n",
    "- Python distinguishes from four types:\n",
    "  - int: Integers\n",
    "  - bool: Limited integers restricted to two values equivalent to  and 1: False and True\n",
    "  - float: A subset of the rational numbers used to approximate real-valued quantities. \n",
    "  - complex: A sebset of the rational complex numbers used to approximate complex-valued quantities."
   ]
  },
  {
   "cell_type": "markdown",
   "metadata": {},
   "source": [
    "### Primitive Types: Tuples"
   ]
  },
  {
   "cell_type": "markdown",
   "metadata": {},
   "source": [
    "- tuple is another type with special syntax\n",
    "- To create construct a tuple, use a sequence of expressions in parentheses:"
   ]
  },
  {
   "cell_type": "code",
   "execution_count": 13,
   "metadata": {
    "collapsed": true
   },
   "outputs": [],
   "source": [
    "x = (1)"
   ]
  },
  {
   "cell_type": "code",
   "execution_count": 14,
   "metadata": {
    "collapsed": true
   },
   "outputs": [],
   "source": [
    "y = (1, )"
   ]
  },
  {
   "cell_type": "code",
   "execution_count": 15,
   "metadata": {
    "collapsed": false
   },
   "outputs": [
    {
     "name": "stdout",
     "output_type": "stream",
     "text": [
      "1\n",
      "(1,)\n"
     ]
    }
   ],
   "source": [
    "print(x)\n",
    "print(y)"
   ]
  },
  {
   "cell_type": "code",
   "execution_count": 16,
   "metadata": {
    "collapsed": false
   },
   "outputs": [
    {
     "data": {
      "text/plain": [
       "(1, 'Hello', (3, 4))"
      ]
     },
     "execution_count": 16,
     "metadata": {},
     "output_type": "execute_result"
    }
   ],
   "source": [
    "()      # The tuple with no values\n",
    "(1, 2)  # A pair: tuple with two items\n",
    "(1, )   # A singleton tuple: use comma to distinguish from (1).\n",
    "(1, \"Hello\", (3, 4)) # Any mix of values possible."
   ]
  },
  {
   "cell_type": "markdown",
   "metadata": {},
   "source": [
    "### Tuples in Python (II)"
   ]
  },
  {
   "cell_type": "markdown",
   "metadata": {},
   "source": [
    "- Basically, one can select values from a tuple and compare or print them, but little else.\n",
    "- Select by time number:"
   ]
  },
  {
   "cell_type": "code",
   "execution_count": 17,
   "metadata": {
    "collapsed": false
   },
   "outputs": [
    {
     "name": "stdout",
     "output_type": "stream",
     "text": [
      "7 5\n",
      "7 5\n",
      "7 5\n"
     ]
    }
   ],
   "source": [
    "x = (1, 7, 5)\n",
    "print(x[1], x[2])\n",
    "from operator import getitem\n",
    "print(getitem(x, 1), getitem(x, 2))\n",
    "print(x.__getitem__(1), x.__getitem__(2)) "
   ]
  },
  {
   "cell_type": "markdown",
   "metadata": {},
   "source": [
    "- Or select by \"unpacking\" (syntactic sugar):"
   ]
  },
  {
   "cell_type": "code",
   "execution_count": 18,
   "metadata": {
    "collapsed": false
   },
   "outputs": [
    {
     "name": "stdout",
     "output_type": "stream",
     "text": [
      "(2, 3) 5\n",
      "2 5\n"
     ]
    }
   ],
   "source": [
    "x = (1, (2, 3), 5)\n",
    "a, b, c = x\n",
    "print(b, c)\n",
    "d, (e, f), g = x\n",
    "print(e, g)"
   ]
  },
  {
   "cell_type": "markdown",
   "metadata": {},
   "source": [
    "- A useful way to return multiple things from a function."
   ]
  },
  {
   "cell_type": "code",
   "execution_count": null,
   "metadata": {
    "collapsed": true
   },
   "outputs": [],
   "source": []
  }
 ],
 "metadata": {
  "kernelspec": {
   "display_name": "Python 3",
   "language": "python",
   "name": "python3"
  },
  "language_info": {
   "codemirror_mode": {
    "name": "ipython",
    "version": 3
   },
   "file_extension": ".py",
   "mimetype": "text/x-python",
   "name": "python",
   "nbconvert_exporter": "python",
   "pygments_lexer": "ipython3",
   "version": "3.5.1"
  }
 },
 "nbformat": 4,
 "nbformat_minor": 0
}
