{
 "cells": [
  {
   "cell_type": "markdown",
   "metadata": {},
   "source": [
    "### Subproblems and Self-Similarity"
   ]
  },
  {
   "cell_type": "markdown",
   "metadata": {},
   "source": [
    "- Recursive routiones arise when solving a problem naturally involves solving smaller instances of the same problem.\n",
    "- A classic example where the subproblems are visible is Sierpinski's Triangle (aka bit Sierpinski's Gasket).\n",
    "- This triangle may be formed by repeatedly replacing a figure, initially a solid triangle, with three quarter-sized images of itself (1/2 size in each dimension), arranged in a triangle.\n",
    "- Or we can think creating a \"triangle of order N and size S\" by drawing either\n",
    "   - a solid triangle with side S if N = 0, or \n",
    "   - three triangles of size S/2 and order N - 1 arranged in a triangle."
   ]
  },
  {
   "cell_type": "markdown",
   "metadata": {},
   "source": [
    "### The Gasket in Python"
   ]
  },
  {
   "cell_type": "markdown",
   "metadata": {},
   "source": [
    "- We can describe this as a recursive Python program that produces Postscript output."
   ]
  },
  {
   "cell_type": "code",
   "execution_count": 4,
   "metadata": {
    "collapsed": false
   },
   "outputs": [],
   "source": [
    "import sys\n",
    "from math import *\n",
    "sin60 = sqrt(3) / 2\n",
    "def make_gasket(x, y, s, n, output):\n",
    "    \"\"\"Write Postscript code for a Sierpinski's gasket of order N \n",
    "    with lower-left corner at (X, Y) and side S on OUTPUT.\"\"\"\n",
    "    if n == 0:\n",
    "        draw_solid_triangle(x, y, s, output)\n",
    "    else:\n",
    "        make_gasket(x, y, s/2, n - 1, output)\n",
    "        make_gasket(x + s/2, y, s/2, n - 1, output)\n",
    "        make_gasket(x + s/4, y+sin60*s/2, s/2, n-1, output)"
   ]
  },
  {
   "cell_type": "code",
   "execution_count": 3,
   "metadata": {
    "collapsed": true
   },
   "outputs": [],
   "source": [
    "def draw_solid_triangle(x, y, s, outpu):\n",
    "    \"\"\"Draw a solid triangle lower-left corner at (X, Y) and side S.\"\"\"\n",
    "    print(\"{0} {1} moveto \"\n",
    "          \"{2} 0 rlineto \"\n",
    "          \"-{3} {4} rlineto \"\n",
    "          \"closepath fill\"\n",
    "          .format(x, y, s, s/2, s*sin60), file = output)"
   ]
  },
  {
   "cell_type": "code",
   "execution_count": 5,
   "metadata": {
    "collapsed": true
   },
   "outputs": [],
   "source": [
    "def draw_gasket(n, output=sys.stdout):\n",
    "    print(\"%!\", file=output)\n",
    "    make_gasket(100, 100, 400, 8, output)\n",
    "    print(\"showpage\", file=output)"
   ]
  },
  {
   "cell_type": "code",
   "execution_count": 8,
   "metadata": {
    "collapsed": true
   },
   "outputs": [],
   "source": [
    "from subprocess import Popen, PIPE, DEVNULL\n",
    "def make_displayer():\n",
    "    \"\"\"Create a Ghostscript process that displays its input (sent in through\n",
    "    .stdin).\"\"\"\n",
    "    return Popen(\"gs\", stdin=PIPE, stdout=DEVNULL)"
   ]
  },
  {
   "cell_type": "code",
   "execution_count": 9,
   "metadata": {
    "collapsed": false
   },
   "outputs": [
    {
     "ename": "TypeError",
     "evalue": "a bytes-like object is required, not 'str'",
     "output_type": "error",
     "traceback": [
      "\u001b[1;31m---------------------------------------------------------------------------\u001b[0m",
      "\u001b[1;31mTypeError\u001b[0m                                 Traceback (most recent call last)",
      "\u001b[1;32m<ipython-input-9-1cba4f3d07b3>\u001b[0m in \u001b[0;36m<module>\u001b[1;34m()\u001b[0m\n\u001b[0;32m      1\u001b[0m \u001b[0md\u001b[0m \u001b[1;33m=\u001b[0m \u001b[0mmake_displayer\u001b[0m\u001b[1;33m(\u001b[0m\u001b[1;33m)\u001b[0m\u001b[1;33m\u001b[0m\u001b[0m\n\u001b[1;32m----> 2\u001b[1;33m \u001b[0mdraw_gasket\u001b[0m\u001b[1;33m(\u001b[0m\u001b[1;36m5\u001b[0m\u001b[1;33m,\u001b[0m \u001b[0md\u001b[0m\u001b[1;33m.\u001b[0m\u001b[0mstdin\u001b[0m\u001b[1;33m)\u001b[0m\u001b[1;33m\u001b[0m\u001b[0m\n\u001b[0m",
      "\u001b[1;32m<ipython-input-5-b41763577b78>\u001b[0m in \u001b[0;36mdraw_gasket\u001b[1;34m(n, output)\u001b[0m\n\u001b[0;32m      1\u001b[0m \u001b[1;32mdef\u001b[0m \u001b[0mdraw_gasket\u001b[0m\u001b[1;33m(\u001b[0m\u001b[0mn\u001b[0m\u001b[1;33m,\u001b[0m \u001b[0moutput\u001b[0m\u001b[1;33m=\u001b[0m\u001b[0msys\u001b[0m\u001b[1;33m.\u001b[0m\u001b[0mstdout\u001b[0m\u001b[1;33m)\u001b[0m\u001b[1;33m:\u001b[0m\u001b[1;33m\u001b[0m\u001b[0m\n\u001b[1;32m----> 2\u001b[1;33m     \u001b[0mprint\u001b[0m\u001b[1;33m(\u001b[0m\u001b[1;34m\"%!\"\u001b[0m\u001b[1;33m,\u001b[0m \u001b[0mfile\u001b[0m\u001b[1;33m=\u001b[0m\u001b[0moutput\u001b[0m\u001b[1;33m)\u001b[0m\u001b[1;33m\u001b[0m\u001b[0m\n\u001b[0m\u001b[0;32m      3\u001b[0m     \u001b[0mmake_gasket\u001b[0m\u001b[1;33m(\u001b[0m\u001b[1;36m100\u001b[0m\u001b[1;33m,\u001b[0m \u001b[1;36m100\u001b[0m\u001b[1;33m,\u001b[0m \u001b[1;36m400\u001b[0m\u001b[1;33m,\u001b[0m \u001b[1;36m8\u001b[0m\u001b[1;33m,\u001b[0m \u001b[0moutput\u001b[0m\u001b[1;33m)\u001b[0m\u001b[1;33m\u001b[0m\u001b[0m\n\u001b[0;32m      4\u001b[0m     \u001b[0mprint\u001b[0m\u001b[1;33m(\u001b[0m\u001b[1;34m\"showpage\"\u001b[0m\u001b[1;33m,\u001b[0m \u001b[0mfile\u001b[0m\u001b[1;33m=\u001b[0m\u001b[0moutput\u001b[0m\u001b[1;33m)\u001b[0m\u001b[1;33m\u001b[0m\u001b[0m\n",
      "\u001b[1;31mTypeError\u001b[0m: a bytes-like object is required, not 'str'"
     ]
    }
   ],
   "source": [
    "d = make_displayer()\n",
    "draw_gasket(5, d.stdin)"
   ]
  },
  {
   "cell_type": "code",
   "execution_count": 10,
   "metadata": {
    "collapsed": false
   },
   "outputs": [
    {
     "ename": "SyntaxError",
     "evalue": "invalid syntax (<ipython-input-10-a3bee428d6bd>, line 1)",
     "output_type": "error",
     "traceback": [
      "\u001b[1;36m  File \u001b[1;32m\"<ipython-input-10-a3bee428d6bd>\"\u001b[1;36m, line \u001b[1;32m1\u001b[0m\n\u001b[1;33m    import \"/meida/wen/Study/cs61a/code/07.py\"\u001b[0m\n\u001b[1;37m                                             ^\u001b[0m\n\u001b[1;31mSyntaxError\u001b[0m\u001b[1;31m:\u001b[0m invalid syntax\n"
     ]
    }
   ],
   "source": [
    "import \"/meida/wen/Study/cs61a/code/07.py\""
   ]
  },
  {
   "cell_type": "code",
   "execution_count": 1,
   "metadata": {
    "collapsed": true
   },
   "outputs": [],
   "source": [
    "def is_path(blocked, x0, y0):\n",
    "    if blocked(x0, y0):\n",
    "        return False\n",
    "    elif y0 == 0:\n",
    "        return True\n",
    "    else:\n",
    "        return (is_path(blocked, x0-1, y0-1)\n",
    "               or is_path(blocked, x0, y0-1)\n",
    "               or is_path(blocked, x0+1, y0-1))"
   ]
  },
  {
   "cell_type": "code",
   "execution_count": 2,
   "metadata": {
    "collapsed": true
   },
   "outputs": [],
   "source": [
    "def num_paths(blocked, x0, y0):\n",
    "    if blocked(x0, y0):\n",
    "        return 0\n",
    "    elif y0 == 0:\n",
    "        return 1\n",
    "    else:\n",
    "        return num_paths(blocked, x0, y0-1) \\\n",
    "             + num_paths(blocked, x0-1, y0-1) \\\n",
    "             + num_paths(blocked, x0+1, y0-1)"
   ]
  },
  {
   "cell_type": "code",
   "execution_count": 3,
   "metadata": {
    "collapsed": true
   },
   "outputs": [],
   "source": [
    "def find_path(blocked, x0, y0):\n",
    "    if blocked(x0, y0):\n",
    "        return None\n",
    "    elif y0 == 0:\n",
    "        return str((x0, y0))\n",
    "    else:\n",
    "        for c in x0 - 1, x0, x0 + 1:\n",
    "            p = find_path(blocked, c, y0 - 1)\n",
    "            if p is not None:\n",
    "                return str( (x0, y0) ) + \" \" + p\n",
    "        return None"
   ]
  },
  {
   "cell_type": "code",
   "execution_count": null,
   "metadata": {
    "collapsed": true
   },
   "outputs": [],
   "source": []
  }
 ],
 "metadata": {
  "kernelspec": {
   "display_name": "Python 3",
   "language": "python",
   "name": "python3"
  },
  "language_info": {
   "codemirror_mode": {
    "name": "ipython",
    "version": 3
   },
   "file_extension": ".py",
   "mimetype": "text/x-python",
   "name": "python",
   "nbconvert_exporter": "python",
   "pygments_lexer": "ipython3",
   "version": "3.5.1"
  }
 },
 "nbformat": 4,
 "nbformat_minor": 0
}
