{
 "cells": [
  {
   "cell_type": "markdown",
   "metadata": {},
   "source": [
    "# Lec #6: Recursion"
   ]
  },
  {
   "cell_type": "markdown",
   "metadata": {},
   "source": [
    "### Philosophy of Functions (I)"
   ]
  },
  {
   "cell_type": "markdown",
   "metadata": {},
   "source": [
    "- Specifies a **contract** between caller and function implementor.\n",
    "- Syntactic specification gives syntax for calling (number of arguments)\n",
    "- Semantic specification tells what it does: \n",
    "   - Preconditions are requirements on the caller.\n",
    "   - Postconditions are promises from the function's implementor"
   ]
  },
  {
   "cell_type": "markdown",
   "metadata": {},
   "source": [
    "### Philosophy of Functions (II)"
   ]
  },
  {
   "cell_type": "markdown",
   "metadata": {},
   "source": [
    "- Ideally, the specification (syntatic and semantic) should suffice to use the function (i.e. without seeing the body)\n",
    "- There is a separation of concerns here:\n",
    "   - The caller (client) is concerned with providing values of x, a, b, and c and using the result, but not how the result is computed.\n",
    "   - The implmentor is concerned with how the result is computed, but not where x, a, b, and c come from or how the value is used.\n",
    "   - From the client's point of view, sqrt is an abstraction from the set of possible ways to compute this result.\n",
    "   - We call this particular kind function abstraction.\n",
    "- Programming is largely about choosing abstractions that lead to clear, fast, and maintainable programs."
   ]
  },
  {
   "cell_type": "markdown",
   "metadata": {},
   "source": [
    "### Philosophy of Functions(III)"
   ]
  },
  {
   "cell_type": "markdown",
   "metadata": {},
   "source": [
    "- Each funcion should have exactly one, logically coherent and well defined job. \n",
    "   - Intellectual manageability.\n",
    "   - Ease of testing\n",
    "- Functions should be properly documented, either by having names (and parameter names) that are unambiduously understandable, or by having comments (docstrings in Python) that accurately describe them.\n",
    "   - Should be able to understand code that calls a function without reading the body of the function\n",
    "- Don't Repeat Yourself (DRY).\n",
    "   - Simplifies revisions\n",
    "   - Isolates problems"
   ]
  },
  {
   "cell_type": "markdown",
   "metadata": {},
   "source": [
    "### Philosophy of Functions(IV)"
   ]
  },
  {
   "cell_type": "markdown",
   "metadata": {},
   "source": [
    "- Corollary DRY: Make functions general\n",
    "    - copy-paste leads to maintenance headaches\n",
    "- Taking two (nearly) repeated sections of program code and turning them into calls to a common function is an example of refactoring.\n",
    "- Keep names of functions and parameters meaningful:"
   ]
  },
  {
   "cell_type": "markdown",
   "metadata": {},
   "source": [
    "### Simple Linear Recursions (Review)"
   ]
  },
  {
   "cell_type": "markdown",
   "metadata": {},
   "source": [
    "- We've been dealing with recursive function (those that call themselves, directly or indirectly) for a while now. \n",
    "- From Lecture #3"
   ]
  },
  {
   "cell_type": "code",
   "execution_count": 1,
   "metadata": {
    "collapsed": true
   },
   "outputs": [],
   "source": [
    "def sum_squares(N):\n",
    "    \"\"\"The sum of K**2 for K from 1 to N (inclusive).\"\"\"\n",
    "    if N < 1:\n",
    "        return 0\n",
    "    else:\n",
    "        return N**2 + sum_squares(N - 1)"
   ]
  },
  {
   "cell_type": "markdown",
   "metadata": {},
   "source": [
    "This is a simple linear recursion, with one recursive call per function instantiation. "
   ]
  },
  {
   "cell_type": "code",
   "execution_count": null,
   "metadata": {
    "collapsed": true
   },
   "outputs": [],
   "source": [
    "Can imagine a call as an expansion:\n",
    "sum_squares(3) => 3**2 + sum_squares(2)\n",
    "               => 3**2 + 2**2 + sum_squares(1)\n",
    "               => 3**2 + 2**2 + 1**2 + sum_squares(0)\n",
    "               => 3**2 + 2**2 + 1**2 + 0 => 14"
   ]
  },
  {
   "cell_type": "markdown",
   "metadata": {},
   "source": [
    "- Each call in this expansion corresponds to an environment frame, linked to the global frame."
   ]
  },
  {
   "cell_type": "markdown",
   "metadata": {},
   "source": [
    "### Tail Recursion"
   ]
  },
  {
   "cell_type": "markdown",
   "metadata": {},
   "source": [
    "- We've also seen a special kind of linear recursion that is strongly linked to iteration:"
   ]
  },
  {
   "cell_type": "code",
   "execution_count": 3,
   "metadata": {
    "collapsed": true
   },
   "outputs": [],
   "source": [
    "# iterative version from 1 to N \n",
    "def sum_squares(N):\n",
    "    \"\"\"The sum of K**2 for K from 1 to N (inclusive).\"\"\"\n",
    "    accum = 0\n",
    "    k = 1 \n",
    "    while k <= N:\n",
    "        accum += k**2\n",
    "        k += 1\n",
    "    return accum"
   ]
  },
  {
   "cell_type": "code",
   "execution_count": 2,
   "metadata": {
    "collapsed": true
   },
   "outputs": [],
   "source": [
    "# recursive version, but only maintain two parameters\n",
    "def sum_squares(N):\n",
    "    \"\"\"The sum of K**2 for K from 1 to N (inclusive).\"\"\"\n",
    "    def part_sum(k, accum):\n",
    "        if k <= N:\n",
    "            return part_sum(k+1, accum + k**2)\n",
    "        else:\n",
    "            return accum\n",
    "    part_sum(1, 0)"
   ]
  },
  {
   "cell_type": "markdown",
   "metadata": {},
   "source": [
    "- The right version is a tail-recursive function: the recursive call is either the returned value or very last action performed."
   ]
  },
  {
   "cell_type": "markdown",
   "metadata": {},
   "source": [
    "### Recursive Thinking "
   ]
  },
  {
   "cell_type": "markdown",
   "metadata": {},
   "source": [
    "- So far in this lecture, I've shown recursive functions by tracing or repeated expansion of their bodies. \n",
    "- But when you call a function from the Python library, you don't look at its implementation, just its documentation (\"the contract\").\n",
    "- Recursive thinking is the extension of this same discipline to functions as you are defining them.\n",
    "- When implementing sum_squares, we reason as follows:\n",
    "   - Base case: We know the answer is 0 if there is nothing to sum (N < 1) \n",
    "   - Otherwise, we observe that the answer is N**2 plus the sum of the positive integers from 1 to N - 1\n",
    "   - So when N >= 1, we should return N**2 + sum_squares(N-1).\n",
    "- This \"recursive leap of faith\" works as long as we can guarantee we'll hit the base case. "
   ]
  },
  {
   "cell_type": "code",
   "execution_count": null,
   "metadata": {
    "collapsed": true
   },
   "outputs": [],
   "source": []
  },
  {
   "cell_type": "code",
   "execution_count": null,
   "metadata": {
    "collapsed": true
   },
   "outputs": [],
   "source": []
  },
  {
   "cell_type": "code",
   "execution_count": null,
   "metadata": {
    "collapsed": true
   },
   "outputs": [],
   "source": []
  },
  {
   "cell_type": "code",
   "execution_count": null,
   "metadata": {
    "collapsed": true
   },
   "outputs": [],
   "source": []
  },
  {
   "cell_type": "code",
   "execution_count": null,
   "metadata": {
    "collapsed": true
   },
   "outputs": [],
   "source": []
  },
  {
   "cell_type": "code",
   "execution_count": null,
   "metadata": {
    "collapsed": true
   },
   "outputs": [],
   "source": []
  },
  {
   "cell_type": "code",
   "execution_count": null,
   "metadata": {
    "collapsed": true
   },
   "outputs": [],
   "source": []
  },
  {
   "cell_type": "code",
   "execution_count": null,
   "metadata": {
    "collapsed": true
   },
   "outputs": [],
   "source": []
  },
  {
   "cell_type": "code",
   "execution_count": null,
   "metadata": {
    "collapsed": true
   },
   "outputs": [],
   "source": []
  },
  {
   "cell_type": "code",
   "execution_count": null,
   "metadata": {
    "collapsed": true
   },
   "outputs": [],
   "source": []
  },
  {
   "cell_type": "code",
   "execution_count": null,
   "metadata": {
    "collapsed": true
   },
   "outputs": [],
   "source": []
  },
  {
   "cell_type": "code",
   "execution_count": null,
   "metadata": {
    "collapsed": true
   },
   "outputs": [],
   "source": []
  },
  {
   "cell_type": "code",
   "execution_count": null,
   "metadata": {
    "collapsed": true
   },
   "outputs": [],
   "source": []
  }
 ],
 "metadata": {
  "kernelspec": {
   "display_name": "Python 3",
   "language": "python",
   "name": "python3"
  },
  "language_info": {
   "codemirror_mode": {
    "name": "ipython",
    "version": 3
   },
   "file_extension": ".py",
   "mimetype": "text/x-python",
   "name": "python",
   "nbconvert_exporter": "python",
   "pygments_lexer": "ipython3",
   "version": "3.5.1"
  }
 },
 "nbformat": 4,
 "nbformat_minor": 0
}
