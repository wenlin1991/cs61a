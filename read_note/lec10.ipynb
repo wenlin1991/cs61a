{
 "cells": [
  {
   "cell_type": "markdown",
   "metadata": {},
   "source": [
    "### Sequences"
   ]
  },
  {
   "cell_type": "markdown",
   "metadata": {},
   "source": [
    "- The term sequence refers generally to a data structure consisting of an indexed collection of values.\n",
    "- That is, there is a first, second, third value (which cs types call #0, #1, #2, etc.\n",
    "- A sequence may be finit (with a length) or infinite\n",
    "- As an object, it may be mutable (elements can change) or immutable. \n",
    "- There are numerous alternative interfaces (i.e., sets of operations) for manipulating it. \n",
    "- And, of course, numerous alternative implementations.\n",
    "- Todayj: immutable, finite sequences, recursively defined."
   ]
  },
  {
   "cell_type": "markdown",
   "metadata": {},
   "source": [
    "### A Recursive Definition "
   ]
  },
  {
   "cell_type": "markdown",
   "metadata": {},
   "source": [
    "- A possible definition: A sequence consists of \n",
    "  - An empty sequence, or\n",
    "  - A first element and a sequence consisting of the elements of the sequence other than the first - the rest of the sequence or tail.\n",
    "- The definition is clearly recursive (\"a sequence consists of ... a sequence ...\"), so let's call it an rlist for now.\n",
    "- Suggests the folloing ADT interface:"
   ]
  },
  {
   "cell_type": "code",
   "execution_count": null,
   "metadata": {
    "collapsed": true
   },
   "outputs": [],
   "source": [
    "empty_rlist = ...\n",
    "def make_rlist(first, rest = empty_rlist):\n",
    "    \"\"\"A recursive list, r, such that first(r) is FIRST and \n",
    "    rest(r) is REST, which must be an rlist.\"\"\"\n",
    "def first(r):\n",
    "    \"\"\"The first item in R\"\"\"\n",
    "def rest(r):\n",
    "    \"\"\"The tail of R.\"\"\"\n",
    "def isempty(r):\n",
    "    \"\"\"True iff R is the empty sequence.\"\"\""
   ]
  },
  {
   "cell_type": "markdown",
   "metadata": {},
   "source": [
    "### Implementation with Pairs"
   ]
  },
  {
   "cell_type": "markdown",
   "metadata": {},
   "source": [
    "- An obvious implementation uses two-elements tuples(pairs). The result is called a linked list."
   ]
  },
  {
   "cell_type": "code",
   "execution_count": 1,
   "metadata": {
    "collapsed": true
   },
   "outputs": [],
   "source": [
    "empty_rlist = None\n",
    "def make_rlist(first, rest = empty_rlist):\n",
    "    return first, rest\n",
    "def first(r):\n",
    "    return r[0]\n",
    "def rest(r):\n",
    "    return r[1]"
   ]
  },
  {
   "cell_type": "code",
   "execution_count": 4,
   "metadata": {
    "collapsed": false
   },
   "outputs": [
    {
     "data": {
      "text/plain": [
       "2"
      ]
     },
     "execution_count": 4,
     "metadata": {},
     "output_type": "execute_result"
    }
   ],
   "source": [
    "r_test=make_rlist(2,3)\n",
    "first(r_test)"
   ]
  },
  {
   "cell_type": "code",
   "execution_count": 5,
   "metadata": {
    "collapsed": true
   },
   "outputs": [],
   "source": [
    "test_again = make_rlist(1, r_test)"
   ]
  },
  {
   "cell_type": "code",
   "execution_count": 6,
   "metadata": {
    "collapsed": false
   },
   "outputs": [
    {
     "data": {
      "text/plain": [
       "(2, 3)"
      ]
     },
     "execution_count": 6,
     "metadata": {},
     "output_type": "execute_result"
    }
   ],
   "source": [
    "rest(test_again)"
   ]
  },
  {
   "cell_type": "markdown",
   "metadata": {},
   "source": [
    "### From Recursive Structure to Recursive Algorithm"
   ]
  },
  {
   "cell_type": "markdown",
   "metadata": {},
   "source": [
    "- The cases in the recursive definition of list often suggest a recursive approach to implementing functions on them. \n",
    "- Example: length of an rlist:"
   ]
  },
  {
   "cell_type": "code",
   "execution_count": 7,
   "metadata": {
    "collapsed": true
   },
   "outputs": [],
   "source": [
    "def len_rlist(s):\n",
    "    \"\"\"The length of rlist 's'.\"\"\"\n",
    "    if isempty(s):\n",
    "        return 0\n",
    "    else:\n",
    "        return 1 + len_rlist(rest(s))"
   ]
  },
  {
   "cell_type": "markdown",
   "metadata": {},
   "source": [
    "### Another Example: Selection"
   ]
  },
  {
   "cell_type": "markdown",
   "metadata": {},
   "source": [
    "- Want to extract item #k from an rlist (number from 0).\n",
    "- Recursively:"
   ]
  },
  {
   "cell_type": "code",
   "execution_count": 10,
   "metadata": {
    "collapsed": true
   },
   "outputs": [],
   "source": [
    "def getitem_rlist(s, i):\n",
    "    \"\"\"Return the element at index 'i' of recursive list 's'.\n",
    "    >>> L = make_rlist(2, make_rlist(3, make_rlist(4)))\n",
    "    >>> getitem_rlist(L, 1)\n",
    "    3\"\"\"\n",
    "    if i == 0:\n",
    "        return first(s)\n",
    "    else:\n",
    "        return (rest(s), i - 1)"
   ]
  },
  {
   "cell_type": "code",
   "execution_count": 13,
   "metadata": {
    "collapsed": false
   },
   "outputs": [
    {
     "data": {
      "text/plain": [
       "((2, 3), 0)"
      ]
     },
     "execution_count": 13,
     "metadata": {},
     "output_type": "execute_result"
    }
   ],
   "source": [
    "getitem_rlist(test_again, 1)"
   ]
  },
  {
   "cell_type": "markdown",
   "metadata": {},
   "source": [
    "### Iterative getitem_rlist"
   ]
  },
  {
   "cell_type": "code",
   "execution_count": 14,
   "metadata": {
    "collapsed": true
   },
   "outputs": [],
   "source": [
    "def getitem_rlist(s, i):\n",
    "    \"\"\"Return the element at index 'i' of recursive list 's'.\"\"\"\n",
    "    while i != 0:\n",
    "        s, i = rest(s), i-1\n",
    "    return first(s)"
   ]
  },
  {
   "cell_type": "markdown",
   "metadata": {},
   "source": [
    "### On to Higher Orders "
   ]
  },
  {
   "cell_type": "code",
   "execution_count": 15,
   "metadata": {
    "collapsed": true
   },
   "outputs": [],
   "source": [
    "def map_rlist(f, s):\n",
    "    \"\"\"The rlist of values F(x) for each element x of rlist \n",
    "    S in order.\"\"\"\n",
    "    if isempty(s):\n",
    "        return empty_rlist\n",
    "    else:\n",
    "        return make_rlist(f(first(s)), map_rlist(rest(s)))"
   ]
  },
  {
   "cell_type": "markdown",
   "metadata": {},
   "source": [
    "- So map_rlist(lambda x: x ** 2, L) produces a list of squaers.\n",
    "- Python 3 produces a different kind of result from its map function; we'll get to it. \n",
    "- Iterative version not so easy here!"
   ]
  },
  {
   "cell_type": "markdown",
   "metadata": {},
   "source": [
    "### Filtering"
   ]
  },
  {
   "cell_type": "markdown",
   "metadata": {},
   "source": [
    "- Map unconditionally applies its function argument to elements of a list. It is essentially a loop. \n",
    "- The analog of applying an if statement ot items in a list is called:"
   ]
  },
  {
   "cell_type": "code",
   "execution_count": 16,
   "metadata": {
    "collapsed": true
   },
   "outputs": [],
   "source": [
    "def filter_rlist(cond, seq):\n",
    "    \"\"\"The rlist consisting of the subsequence of \n",
    "    rlist 'seq' for which the 1-argument function 'cond' \n",
    "    returns a true value.\"\"\"\n",
    "    if isempty(seq):\n",
    "        return seq\n",
    "    elif cond(first(seq)):\n",
    "        return make_rlist(first(seq), filter_rlist(cond, rest(seq)))\n",
    "    else:\n",
    "        return filter_rlist(cond, rest(seq))"
   ]
  },
  {
   "cell_type": "markdown",
   "metadata": {},
   "source": [
    "- Oops! Not tail-recursive. Iteration is problematic(again). \n",
    "- In fact, until we get to talking about mutable recursive lists, we won't be able to do it iteratively without creating an extra list along the way."
   ]
  },
  {
   "cell_type": "markdown",
   "metadata": {},
   "source": [
    "### Python's Sequences"
   ]
  },
  {
   "cell_type": "markdown",
   "metadata": {},
   "source": [
    "- Rlists are sequences with a particular choice of interface that emphasizes their recursive structure. \n",
    "- Python has a much different approach to sequences built into its standard data structures, one that emphasizes their iterative characteristics. \n",
    "- There are several different kinds of sequence embodied in the standard types: tuples, lists, ranges, iterators, and generators. We'll start with the first two, which are run-of-the mill data strucutes."
   ]
  },
  {
   "cell_type": "markdown",
   "metadata": {},
   "source": [
    "### Sequence Features"
   ]
  },
  {
   "cell_type": "markdown",
   "metadata": {},
   "source": [
    "- For this part of the course, where we emphasize computation by construction rather than modification, the interesting characteristics include:\n",
    "  - Explicit Construction:\n",
    "    t = (2, 0, 9, 10, 11) # Tuple\n",
    "    L = [2, 0, 9, 10, 11] # List\n",
    "    R = range(2, 13)      # Integers 2-12\n",
    "    RO = range(13)        # Integers 0-12\n",
    "    E = range(2, 13, 2)   # Even integers 2-12\n",
    "    S = \"Hello, world!\"   # Strings\n",
    "  - Indexing:\n",
    "    t[2] == L[2] == 9, R[2] == 4\n",
    "    t[-1] == t[len(t) - 1] == 11\n",
    "    S[1] == \"e\"\n",
    "  - Slicing\n",
    "    t[1:4] == (t[1], t[2], t[3]) == (0, 9, 10),\n",
    "    t[2:] = t[2:len(t)] == (9, 10, 11)\n",
    "    t[::2] == t[0:len(t):2] \n",
    "    t[::-1] == (11, 10, 9, 0, 2)\n",
    "    S[0:5] == \"Hello\", S[0:5:2] == \"Hlo\", S[4::-1] =\"olleH\""
   ]
  },
  {
   "cell_type": "markdown",
   "metadata": {},
   "source": [
    "### Sequence Iteration: For Loops"
   ]
  },
  {
   "cell_type": "markdown",
   "metadata": {},
   "source": [
    "- We can write more compact and clear versions of while loops:"
   ]
  },
  {
   "cell_type": "code",
   "execution_count": 18,
   "metadata": {
    "collapsed": false
   },
   "outputs": [
    {
     "name": "stdout",
     "output_type": "stream",
     "text": [
      "32\n"
     ]
    }
   ],
   "source": [
    "t = (2, 0, 9, 10, 11)\n",
    "s = 0\n",
    "for x in t:\n",
    "    s += x\n",
    "print(s)"
   ]
  },
  {
   "cell_type": "markdown",
   "metadata": {},
   "source": [
    "- Iteration over numbers is really the same, conceptually:"
   ]
  },
  {
   "cell_type": "code",
   "execution_count": 20,
   "metadata": {
    "collapsed": false
   },
   "outputs": [
    {
     "name": "stdout",
     "output_type": "stream",
     "text": [
      "45\n"
     ]
    }
   ],
   "source": [
    "s = 0\n",
    "for i in range(1, 10):\n",
    "    s += i\n",
    "print(s)"
   ]
  },
  {
   "cell_type": "markdown",
   "metadata": {},
   "source": [
    "### High-Order Manipulation of Sequences"
   ]
  },
  {
   "cell_type": "markdown",
   "metadata": {},
   "source": [
    "- Python3 difines map (just as on rlists), as well as accumulate (called reduce), and filter on sequences just we did on rlists. \n",
    "- So to compute the sum of the even Fibonacci numbers among the first 12 numbers of that sequence, we could proceed like this:\n"
   ]
  },
  {
   "cell_type": "markdown",
   "metadata": {},
   "source": [
    "### List Comprehensions"
   ]
  },
  {
   "cell_type": "markdown",
   "metadata": {},
   "source": [
    "- In fact, one doesn't often need map and filter bacause Python has a succint syntax for expressing their application: the list comprehension. \n",
    "- Full form: \n",
    "  [ <expression> for <var> in <sequence expression> \n",
    "                 if <boolean expression> ]\n",
    "- Example: Squares of the prime number up to 100. \n",
    "  [ x*x for x in range(101) if isprime(x) ]"
   ]
  },
  {
   "cell_type": "markdown",
   "metadata": {},
   "source": [
    "### An aside: Sequences in Unix"
   ]
  },
  {
   "cell_type": "markdown",
   "metadata": {},
   "source": [
    "- Many Unix utilities operate on streams of characters, which are sequences.\n",
    "- With the help of pipes, one can do amazing things. One of my fafvorites:\n",
    "  tr -c -s '[:alpha:]' '[\\n*]' < FILE | \\"
   ]
  },
  {
   "cell_type": "code",
   "execution_count": null,
   "metadata": {
    "collapsed": true
   },
   "outputs": [],
   "source": []
  },
  {
   "cell_type": "code",
   "execution_count": null,
   "metadata": {
    "collapsed": true
   },
   "outputs": [],
   "source": []
  },
  {
   "cell_type": "code",
   "execution_count": null,
   "metadata": {
    "collapsed": true
   },
   "outputs": [],
   "source": []
  },
  {
   "cell_type": "code",
   "execution_count": null,
   "metadata": {
    "collapsed": true
   },
   "outputs": [],
   "source": []
  },
  {
   "cell_type": "code",
   "execution_count": null,
   "metadata": {
    "collapsed": true
   },
   "outputs": [],
   "source": []
  },
  {
   "cell_type": "code",
   "execution_count": null,
   "metadata": {
    "collapsed": true
   },
   "outputs": [],
   "source": []
  },
  {
   "cell_type": "code",
   "execution_count": null,
   "metadata": {
    "collapsed": true
   },
   "outputs": [],
   "source": []
  },
  {
   "cell_type": "code",
   "execution_count": null,
   "metadata": {
    "collapsed": true
   },
   "outputs": [],
   "source": []
  },
  {
   "cell_type": "code",
   "execution_count": null,
   "metadata": {
    "collapsed": true
   },
   "outputs": [],
   "source": []
  },
  {
   "cell_type": "code",
   "execution_count": null,
   "metadata": {
    "collapsed": true
   },
   "outputs": [],
   "source": []
  },
  {
   "cell_type": "code",
   "execution_count": null,
   "metadata": {
    "collapsed": true
   },
   "outputs": [],
   "source": []
  }
 ],
 "metadata": {
  "kernelspec": {
   "display_name": "Python 3",
   "language": "python",
   "name": "python3"
  },
  "language_info": {
   "codemirror_mode": {
    "name": "ipython",
    "version": 3
   },
   "file_extension": ".py",
   "mimetype": "text/x-python",
   "name": "python",
   "nbconvert_exporter": "python",
   "pygments_lexer": "ipython3",
   "version": "3.5.1"
  }
 },
 "nbformat": 4,
 "nbformat_minor": 0
}
