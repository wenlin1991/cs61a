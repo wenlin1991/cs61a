{
 "cells": [
  {
   "cell_type": "markdown",
   "metadata": {},
   "source": [
    "### Inheritance and Nonlocal"
   ]
  },
  {
   "cell_type": "markdown",
   "metadata": {},
   "source": [
    "### 1. Object Oriented Programming"
   ]
  },
  {
   "cell_type": "markdown",
   "metadata": {},
   "source": [
    "- class: a template for creating objects\n",
    "- instance: a single object created from a class\n",
    "- instance attribute: a property of an object, specific to an instance\n",
    "- class attribute: a property of an object, shared by all instances of the same class\n",
    "- method: an action (function) taht all instances of a class may perform"
   ]
  },
  {
   "cell_type": "markdown",
   "metadata": {},
   "source": [
    "### 1.1 Questions "
   ]
  },
  {
   "cell_type": "markdown",
   "metadata": {},
   "source": [
    "`1.` Below we have defined the classes Instructor, Student, and TeachingAssistant, implementing some of what was described above. Remember that we pass the self argument implicitly to instance methods when using dot-notation. "
   ]
  },
  {
   "cell_type": "code",
   "execution_count": 1,
   "metadata": {
    "collapsed": true
   },
   "outputs": [],
   "source": [
    "class Instructor:\n",
    "    degree = \"PhD\" # this is a class attribute\n",
    "    def __init__(self, name):\n",
    "        self.name = name # this is an instance attribute\n",
    "        \n",
    "    def lecture(self, topic):\n",
    "        print(\"Today we're learning about \" + topic)\n",
    "        \n",
    "hilfinger = Instructor(\"Professor Hilfinger\")"
   ]
  },
  {
   "cell_type": "code",
   "execution_count": 2,
   "metadata": {
    "collapsed": true
   },
   "outputs": [],
   "source": [
    "class Student:\n",
    "    instructor = hilfinger\n",
    "    \n",
    "    def __init__(self, name, ta):\n",
    "        self.name = name\n",
    "        self.understanding = 0\n",
    "        ta.add_student(self)\n",
    "        \n",
    "    def attend_lecture(self, topic):\n",
    "        Student.instructor.lecture(topic)\n",
    "        print(Student.instructor.name + \" is awesome!\")\n",
    "        self.understanding += 1\n",
    "        \n",
    "    def visit_office_hours(self, staff):\n",
    "        staff.assist(self)\n",
    "        print(\"Thanks, \" + staff.name)"
   ]
  },
  {
   "cell_type": "code",
   "execution_count": 7,
   "metadata": {
    "collapsed": true
   },
   "outputs": [],
   "source": [
    "class TeachingAssistant:\n",
    "    def __init__(self, name):\n",
    "        self.name = name\n",
    "        self.students = {}\n",
    "        \n",
    "    def add_student(self, student):\n",
    "        self.students[student.name] = student\n",
    "        \n",
    "    def assist(self, student):\n",
    "        student.understanding += 1"
   ]
  },
  {
   "cell_type": "code",
   "execution_count": 8,
   "metadata": {
    "collapsed": false
   },
   "outputs": [
    {
     "name": "stdout",
     "output_type": "stream",
     "text": [
      "Today we're learning about OOP\n",
      "Professor Hilfinger is awesome!\n"
     ]
    }
   ],
   "source": [
    "soumik = TeachingAssistant(\"Soumik\")\n",
    "kelly = Student(\"Kelly\", soumik)\n",
    "kelly.attend_lecture(\"OOP\")"
   ]
  },
  {
   "cell_type": "code",
   "execution_count": 9,
   "metadata": {
    "collapsed": false
   },
   "outputs": [
    {
     "name": "stdout",
     "output_type": "stream",
     "text": [
      "Today we're learning about trees\n",
      "Professor Hilfinger is awesome!\n"
     ]
    }
   ],
   "source": [
    "kristin = Student(\"Kristin\", soumik)\n",
    "kristin.attend_lecture(\"trees\")\n",
    "#Today we're learning about trees\n",
    "#Professor Hilfinger is awesome!"
   ]
  },
  {
   "cell_type": "code",
   "execution_count": 10,
   "metadata": {
    "collapsed": false
   },
   "outputs": [
    {
     "name": "stdout",
     "output_type": "stream",
     "text": [
      "Thanks, James\n"
     ]
    }
   ],
   "source": [
    "kristin.visit_office_hours(TeachingAssistant(\"James\"))\n",
    "# Thanks, James"
   ]
  },
  {
   "cell_type": "code",
   "execution_count": 12,
   "metadata": {
    "collapsed": false
   },
   "outputs": [
    {
     "data": {
      "text/plain": [
       "1"
      ]
     },
     "execution_count": 12,
     "metadata": {},
     "output_type": "execute_result"
    }
   ],
   "source": [
    "kelly.understanding\n",
    "#1"
   ]
  },
  {
   "cell_type": "code",
   "execution_count": 13,
   "metadata": {
    "collapsed": false
   },
   "outputs": [
    {
     "data": {
      "text/plain": [
       "2"
      ]
     },
     "execution_count": 13,
     "metadata": {},
     "output_type": "execute_result"
    }
   ],
   "source": [
    "soumik.students[\"Kristin\"].understanding\n",
    "# 2"
   ]
  },
  {
   "cell_type": "code",
   "execution_count": 14,
   "metadata": {
    "collapsed": false
   },
   "outputs": [
    {
     "name": "stdout",
     "output_type": "stream",
     "text": [
      "Today we're learning about lists\n",
      "Professor DeNero is awesome!\n"
     ]
    }
   ],
   "source": [
    "Student.instructor = Instructor(\"Professor DeNero\")\n",
    "Student.attend_lecture(kelly, \"lists\")\n",
    "#Today we're learning about lists\n",
    "#Professor DeNero is awesome!"
   ]
  },
  {
   "cell_type": "markdown",
   "metadata": {},
   "source": [
    "### 2. Inheritance "
   ]
  },
  {
   "cell_type": "markdown",
   "metadata": {},
   "source": [
    "Let's explore another powerful object-oriented programming tool: inheritance. Suppose we want to write Dog and Cat classes. Here is our first attempt:"
   ]
  },
  {
   "cell_type": "code",
   "execution_count": 15,
   "metadata": {
    "collapsed": true
   },
   "outputs": [],
   "source": [
    "class Dog(object):\n",
    "    def __init__(self, name, owner, color):\n",
    "        self.name = name \n",
    "        self.owner = owner\n",
    "        self.color = color\n",
    "        \n",
    "    def eat(self, thing):\n",
    "        print(self.name + \" ate a \" + str(thing) + \"!\")\n",
    "        \n",
    "    def talk(self):\n",
    "        print(self.name + \" says woof!\")\n",
    "        \n",
    "class Cat(object):\n",
    "    def __init__(self, name, owner, lives=9):\n",
    "        self.name = name\n",
    "        self.owner = owner\n",
    "        self.lives = lives\n",
    "        \n",
    "    def eat(self, thing):\n",
    "        print(self.name + \" ate a \" + str(thing) + \"!\")\n",
    "        \n",
    "    def talk(self):\n",
    "        print(self.name + \" says meow!\")"
   ]
  },
  {
   "cell_type": "markdown",
   "metadata": {},
   "source": [
    "Notice that the only difference between both the Dog and Cat classes are the talk method as well as the color and lives attributes. That's a lot of repeated code!\n",
    "This is where inheritance comes in. In Python, a class can inherit the instance variables and methods of anohter class without having to type them all out again. For examples:"
   ]
  },
  {
   "cell_type": "code",
   "execution_count": null,
   "metadata": {
    "collapsed": true
   },
   "outputs": [],
   "source": [
    "class Foo(object):\n",
    "    # base class\n",
    "    \n",
    "class Bar(Foo):\n",
    "    \n",
    "    # subclass"
   ]
  },
  {
   "cell_type": "markdown",
   "metadata": {},
   "source": [
    "Bar inherits from Foo. We call Foo the base class (the class that is being inherited) and Bar the subclass (the class that does the inheriting)."
   ]
  },
  {
   "cell_type": "markdown",
   "metadata": {},
   "source": [
    "Notice that Foo also inherits from the object class. In Python, object is the top-level base class that provides basic functionality; everything inherits from it, even when you don't specify a class to inherit from. "
   ]
  },
  {
   "cell_type": "markdown",
   "metadata": {},
   "source": [
    "One common use of inheritance is to represent a hierarchical relationship between two or more classes where one class is a more specific version of the other class. For example, a dog is a pet. "
   ]
  },
  {
   "cell_type": "code",
   "execution_count": 19,
   "metadata": {
    "collapsed": true
   },
   "outputs": [],
   "source": [
    "class Pet(object):\n",
    "    def __init__(self, name, owner):\n",
    "        self.is_alive = True\n",
    "        self.name = name\n",
    "        self.owner = owner\n",
    "        \n",
    "    def eat(self, thing):\n",
    "        print(self.name + \" ate a \" + str(thing) + \"!\")\n",
    "        \n",
    "    def talk(self):\n",
    "        print(self.name)"
   ]
  },
  {
   "cell_type": "code",
   "execution_count": 20,
   "metadata": {
    "collapsed": true
   },
   "outputs": [],
   "source": [
    "class Dog(Pet):\n",
    "    def __init__(self, name, owner, color):\n",
    "        Pet.__init__(self, name, owner)\n",
    "        self.color = color\n",
    "        \n",
    "    def talk(self):\n",
    "        print(self.name + ' says woof!')"
   ]
  },
  {
   "cell_type": "markdown",
   "metadata": {},
   "source": [
    "By making Dog a subclass of Pet, we did not have to redefine self.name, self.owner, or eat. However, since want Dog to talk differently, we did redefine, or override, the talk method. "
   ]
  },
  {
   "cell_type": "markdown",
   "metadata": {},
   "source": [
    "`The line Pet.__init__(self, name, owner) in the dog class is necessary for inheriting the instance attributes and methods from Pet. Notice that when we call Pet.__init__, we need to pass in self as a regualr argument (that is, inside the parentheses, rather than by dot-notation) since Pet is a class, not an instance. `"
   ]
  },
  {
   "cell_type": "markdown",
   "metadata": {},
   "source": [
    "### 2.1 Questions"
   ]
  },
  {
   "cell_type": "markdown",
   "metadata": {},
   "source": [
    "`1.` Implement the Cat class by inheriting from the Pet class. Make sure to use superclass methods whereever possible. In addition, add a lose_life method to the Cat class."
   ]
  },
  {
   "cell_type": "code",
   "execution_count": 21,
   "metadata": {
    "collapsed": true
   },
   "outputs": [],
   "source": [
    "class Cat(Pet):\n",
    "    def __init__(self, name, owner, lives=9):\n",
    "        Pet.__init__(self, name, owner)\n",
    "        self.lives = lives\n",
    "        \n",
    "    def talk(self):\n",
    "        print(self.name + ' says meow!')\n",
    "        \n",
    "    def lose_life(self):\n",
    "        if self.lives <= 0:\n",
    "            self.is_alive = False\n",
    "        else:\n",
    "            self.lives -= 1"
   ]
  },
  {
   "cell_type": "markdown",
   "metadata": {},
   "source": [
    "`2.` Assume these commands are entered in order. What would Python output?"
   ]
  },
  {
   "cell_type": "code",
   "execution_count": 24,
   "metadata": {
    "collapsed": true
   },
   "outputs": [],
   "source": [
    "class Foo(object):\n",
    "    def __init__(self, a):\n",
    "        self.a = a\n",
    "    def garply(self):\n",
    "        return self.baz(self.a)\n",
    "    \n",
    "class Bar(Foo):\n",
    "    a = 1\n",
    "    def baz(self, val):\n",
    "        return val"
   ]
  },
  {
   "cell_type": "code",
   "execution_count": 26,
   "metadata": {
    "collapsed": false
   },
   "outputs": [
    {
     "data": {
      "text/plain": [
       "4"
      ]
     },
     "execution_count": 26,
     "metadata": {},
     "output_type": "execute_result"
    }
   ],
   "source": [
    "f = Foo(4)\n",
    "b = Bar(3)\n",
    "f.a"
   ]
  },
  {
   "cell_type": "code",
   "execution_count": 27,
   "metadata": {
    "collapsed": false
   },
   "outputs": [
    {
     "data": {
      "text/plain": [
       "3"
      ]
     },
     "execution_count": 27,
     "metadata": {},
     "output_type": "execute_result"
    }
   ],
   "source": [
    "b.a\n",
    "# 3"
   ]
  },
  {
   "cell_type": "code",
   "execution_count": 28,
   "metadata": {
    "collapsed": false
   },
   "outputs": [
    {
     "ename": "AttributeError",
     "evalue": "'Foo' object has no attribute 'baz'",
     "output_type": "error",
     "traceback": [
      "\u001b[1;31m---------------------------------------------------------------------------\u001b[0m",
      "\u001b[1;31mAttributeError\u001b[0m                            Traceback (most recent call last)",
      "\u001b[1;32m<ipython-input-28-06b22b25257b>\u001b[0m in \u001b[0;36m<module>\u001b[1;34m()\u001b[0m\n\u001b[1;32m----> 1\u001b[1;33m \u001b[0mf\u001b[0m\u001b[1;33m.\u001b[0m\u001b[0mgarply\u001b[0m\u001b[1;33m(\u001b[0m\u001b[1;33m)\u001b[0m\u001b[1;33m\u001b[0m\u001b[0m\n\u001b[0m",
      "\u001b[1;32m<ipython-input-24-3b73727081e6>\u001b[0m in \u001b[0;36mgarply\u001b[1;34m(self)\u001b[0m\n\u001b[0;32m      3\u001b[0m         \u001b[0mself\u001b[0m\u001b[1;33m.\u001b[0m\u001b[0ma\u001b[0m \u001b[1;33m=\u001b[0m \u001b[0ma\u001b[0m\u001b[1;33m\u001b[0m\u001b[0m\n\u001b[0;32m      4\u001b[0m     \u001b[1;32mdef\u001b[0m \u001b[0mgarply\u001b[0m\u001b[1;33m(\u001b[0m\u001b[0mself\u001b[0m\u001b[1;33m)\u001b[0m\u001b[1;33m:\u001b[0m\u001b[1;33m\u001b[0m\u001b[0m\n\u001b[1;32m----> 5\u001b[1;33m         \u001b[1;32mreturn\u001b[0m \u001b[0mself\u001b[0m\u001b[1;33m.\u001b[0m\u001b[0mbaz\u001b[0m\u001b[1;33m(\u001b[0m\u001b[0mself\u001b[0m\u001b[1;33m.\u001b[0m\u001b[0ma\u001b[0m\u001b[1;33m)\u001b[0m\u001b[1;33m\u001b[0m\u001b[0m\n\u001b[0m\u001b[0;32m      6\u001b[0m \u001b[1;33m\u001b[0m\u001b[0m\n\u001b[0;32m      7\u001b[0m \u001b[1;32mclass\u001b[0m \u001b[0mBar\u001b[0m\u001b[1;33m(\u001b[0m\u001b[0mFoo\u001b[0m\u001b[1;33m)\u001b[0m\u001b[1;33m:\u001b[0m\u001b[1;33m\u001b[0m\u001b[0m\n",
      "\u001b[1;31mAttributeError\u001b[0m: 'Foo' object has no attribute 'baz'"
     ]
    }
   ],
   "source": [
    "f.garply()"
   ]
  },
  {
   "cell_type": "code",
   "execution_count": 29,
   "metadata": {
    "collapsed": false
   },
   "outputs": [
    {
     "data": {
      "text/plain": [
       "3"
      ]
     },
     "execution_count": 29,
     "metadata": {},
     "output_type": "execute_result"
    }
   ],
   "source": [
    "b.garply()\n",
    "#3"
   ]
  },
  {
   "cell_type": "code",
   "execution_count": 30,
   "metadata": {
    "collapsed": false
   },
   "outputs": [
    {
     "data": {
      "text/plain": [
       "9"
      ]
     },
     "execution_count": 30,
     "metadata": {},
     "output_type": "execute_result"
    }
   ],
   "source": [
    "b.a = 9\n",
    "b.garply()\n",
    "# 9"
   ]
  },
  {
   "cell_type": "code",
   "execution_count": 31,
   "metadata": {
    "collapsed": false
   },
   "outputs": [
    {
     "data": {
      "text/plain": [
       "16"
      ]
     },
     "execution_count": 31,
     "metadata": {},
     "output_type": "execute_result"
    }
   ],
   "source": [
    "f.baz = lambda val: val * val\n",
    "f.garply()\n",
    "# 16"
   ]
  },
  {
   "cell_type": "markdown",
   "metadata": {},
   "source": [
    "### 2.2 Extra Questions "
   ]
  },
  {
   "cell_type": "markdown",
   "metadata": {},
   "source": [
    "`1.` More cats! Fill in the methods for NoisyCat, which is just like a normal Cat. However, NoisyCat talks a lot, printing twice whatever a Cat syas."
   ]
  },
  {
   "cell_type": "code",
   "execution_count": 33,
   "metadata": {
    "collapsed": true
   },
   "outputs": [],
   "source": [
    "class NoisyCat(Cat):\n",
    "    \"\"\"A cat that repeats things twice.\"\"\"\n",
    "    def __init__(self, name, owner, lives=9):\n",
    "        Cat.__init__(self, name, owner, lives)\n",
    "        \n",
    "    def talk(self):\n",
    "        \"\"\"Repeat what a Cat says twice.\"\"\"\n",
    "        Cat.talk(self)\n",
    "        Cat.talk(self)\n",
    "        "
   ]
  },
  {
   "cell_type": "markdown",
   "metadata": {},
   "source": [
    "`2.` What would Python print? "
   ]
  },
  {
   "cell_type": "code",
   "execution_count": 34,
   "metadata": {
    "collapsed": true
   },
   "outputs": [],
   "source": [
    "class A:\n",
    "    def f(self):\n",
    "        return 2\n",
    "    def g(self, obj, x):\n",
    "        if x == 0:\n",
    "            return A.f(obj)\n",
    "        return obj.f() + self.g(self, x - 1)\n",
    "    \n",
    "class B(A):\n",
    "    def f(self):\n",
    "        return 4"
   ]
  },
  {
   "cell_type": "code",
   "execution_count": 35,
   "metadata": {
    "collapsed": false
   },
   "outputs": [
    {
     "data": {
      "text/plain": [
       "2"
      ]
     },
     "execution_count": 35,
     "metadata": {},
     "output_type": "execute_result"
    }
   ],
   "source": [
    "x, y = A(), B()\n",
    "x.f()\n",
    "# 2"
   ]
  },
  {
   "cell_type": "code",
   "execution_count": 36,
   "metadata": {
    "collapsed": false
   },
   "outputs": [
    {
     "ename": "TypeError",
     "evalue": "f() missing 1 required positional argument: 'self'",
     "output_type": "error",
     "traceback": [
      "\u001b[1;31m---------------------------------------------------------------------------\u001b[0m",
      "\u001b[1;31mTypeError\u001b[0m                                 Traceback (most recent call last)",
      "\u001b[1;32m<ipython-input-36-e5f071a8b221>\u001b[0m in \u001b[0;36m<module>\u001b[1;34m()\u001b[0m\n\u001b[1;32m----> 1\u001b[1;33m \u001b[0mB\u001b[0m\u001b[1;33m.\u001b[0m\u001b[0mf\u001b[0m\u001b[1;33m(\u001b[0m\u001b[1;33m)\u001b[0m\u001b[1;33m\u001b[0m\u001b[0m\n\u001b[0m\u001b[0;32m      2\u001b[0m \u001b[1;31m# 4\u001b[0m\u001b[1;33m\u001b[0m\u001b[1;33m\u001b[0m\u001b[0m\n",
      "\u001b[1;31mTypeError\u001b[0m: f() missing 1 required positional argument: 'self'"
     ]
    }
   ],
   "source": [
    "B.f()\n",
    "# 4"
   ]
  },
  {
   "cell_type": "code",
   "execution_count": 37,
   "metadata": {
    "collapsed": false
   },
   "outputs": [
    {
     "data": {
      "text/plain": [
       "4"
      ]
     },
     "execution_count": 37,
     "metadata": {},
     "output_type": "execute_result"
    }
   ],
   "source": [
    "x.g(x, 1)\n",
    "# 4"
   ]
  },
  {
   "cell_type": "code",
   "execution_count": 38,
   "metadata": {
    "collapsed": false
   },
   "outputs": [
    {
     "data": {
      "text/plain": [
       "8"
      ]
     },
     "execution_count": 38,
     "metadata": {},
     "output_type": "execute_result"
    }
   ],
   "source": [
    "y.g(x, 2)\n",
    "# 10"
   ]
  },
  {
   "cell_type": "markdown",
   "metadata": {},
   "source": [
    "`3.` Implement the Yolo class so that the following interpreter session work as expected."
   ]
  },
  {
   "cell_type": "code",
   "execution_count": 41,
   "metadata": {
    "collapsed": false
   },
   "outputs": [
    {
     "data": {
      "text/plain": [
       "4"
      ]
     },
     "execution_count": 41,
     "metadata": {},
     "output_type": "execute_result"
    }
   ],
   "source": [
    "class Yolo:\n",
    "    def __init__(self, motto):\n",
    "        self.motto = motto\n",
    "    def g(self, x):\n",
    "        return self.motto + x\n",
    "    \n",
    "\n",
    "x = Yolo(1)\n",
    "x.g(3)"
   ]
  },
  {
   "cell_type": "code",
   "execution_count": 42,
   "metadata": {
    "collapsed": false
   },
   "outputs": [
    {
     "data": {
      "text/plain": [
       "6"
      ]
     },
     "execution_count": 42,
     "metadata": {},
     "output_type": "execute_result"
    }
   ],
   "source": [
    "x.g(5)"
   ]
  },
  {
   "cell_type": "code",
   "execution_count": 43,
   "metadata": {
    "collapsed": false
   },
   "outputs": [
    {
     "data": {
      "text/plain": [
       "10"
      ]
     },
     "execution_count": 43,
     "metadata": {},
     "output_type": "execute_result"
    }
   ],
   "source": [
    "x.motto=5\n",
    "x.g(5)"
   ]
  },
  {
   "cell_type": "markdown",
   "metadata": {},
   "source": [
    "### 3. Nonlocal"
   ]
  },
  {
   "cell_type": "markdown",
   "metadata": {},
   "source": [
    "Until now, you've been able to access variables in parent frames, but you have not been able to modify them. The nonlocal keyword can be used to modify a variable in the parent frame ourside the current frame. For example, consider stepper, which uses nonlocal to modify num:\n"
   ]
  },
  {
   "cell_type": "code",
   "execution_count": 44,
   "metadata": {
    "collapsed": true
   },
   "outputs": [],
   "source": [
    "def stepper(num):\n",
    "    def step():\n",
    "        nonlocal num\n",
    "        num = num + 1\n",
    "        return num\n",
    "    return step"
   ]
  },
  {
   "cell_type": "markdown",
   "metadata": {},
   "source": [
    "- Global variables cannot be modified using the nonlocal keyword.\n",
    "- Variables in the current frame cannot be overriden using the nonlocal keyword"
   ]
  },
  {
   "cell_type": "markdown",
   "metadata": {},
   "source": [
    "### `3.1` Some common misconceptions"
   ]
  },
  {
   "cell_type": "markdown",
   "metadata": {},
   "source": [
    "`1.` What is wrong with the following code?"
   ]
  },
  {
   "cell_type": "code",
   "execution_count": 46,
   "metadata": {
    "collapsed": false
   },
   "outputs": [
    {
     "ename": "SyntaxError",
     "evalue": "no binding for nonlocal 'a' found (<ipython-input-46-ec1749e6c5d4>, line 3)",
     "output_type": "error",
     "traceback": [
      "\u001b[1;36m  File \u001b[1;32m\"<ipython-input-46-ec1749e6c5d4>\"\u001b[1;36m, line \u001b[1;32m3\u001b[0m\n\u001b[1;33m    nonlocal a\u001b[0m\n\u001b[1;31mSyntaxError\u001b[0m\u001b[1;31m:\u001b[0m no binding for nonlocal 'a' found\n"
     ]
    }
   ],
   "source": [
    "a = 5\n",
    "def another_add_one():\n",
    "    nonlocal a\n",
    "    a += 1\n",
    "    \n",
    "another_add_one()\n",
    "# Modify global variable"
   ]
  },
  {
   "cell_type": "markdown",
   "metadata": {},
   "source": [
    "`2.` What is wrong with the following code?"
   ]
  },
  {
   "cell_type": "code",
   "execution_count": 49,
   "metadata": {
    "collapsed": false
   },
   "outputs": [
    {
     "ename": "SyntaxError",
     "evalue": "name 'y' is parameter and nonlocal (<ipython-input-49-974a347adde2>, line 3)",
     "output_type": "error",
     "traceback": [
      "\u001b[1;36m  File \u001b[1;32m\"<ipython-input-49-974a347adde2>\"\u001b[1;36m, line \u001b[1;32m3\u001b[0m\n\u001b[1;33m    nonlocal x, y\u001b[0m\n\u001b[1;31mSyntaxError\u001b[0m\u001b[1;31m:\u001b[0m name 'y' is parameter and nonlocal\n"
     ]
    }
   ],
   "source": [
    "def adder(x):\n",
    "    def add(y):\n",
    "        nonlocal x, y\n",
    "        x += y\n",
    "        return x\n",
    "    return add\n",
    "adder(2)(3)"
   ]
  },
  {
   "cell_type": "markdown",
   "metadata": {},
   "source": [
    "### 3.2 Fill in the Blank"
   ]
  },
  {
   "cell_type": "markdown",
   "metadata": {},
   "source": [
    "`1.` The bathtub below simulates an epic battle between Finn and Kylo Ren over a populace of rubber duckies. Fill in the body of ducky so that all dotests pass."
   ]
  },
  {
   "cell_type": "code",
   "execution_count": 53,
   "metadata": {
    "collapsed": true
   },
   "outputs": [],
   "source": [
    "def bathtub(n):\n",
    "    \"\"\"\n",
    "    >>> annihilator = bathtub(500) # the force awakens...\n",
    "    >>> kylo_ren = annihilator(10)\n",
    "    >>> kylo_ren()\n",
    "    490 rubber duckies left\n",
    "    >>> finn = annihilator(-20)\n",
    "    >>> finn()\n",
    "    510 rubber duckies left\n",
    "    >>> kylo_ren()\n",
    "    500 rubber duckies left\n",
    "    \"\"\"\n",
    "    def ducky_annihilator(rate):\n",
    "        def ducky():\n",
    "            nonlocal n\n",
    "            n = n - rate\n",
    "            print(n, 'rubber duckies left')\n",
    "        return ducky\n",
    "    return ducky_annihilator\n",
    "    "
   ]
  },
  {
   "cell_type": "code",
   "execution_count": 54,
   "metadata": {
    "collapsed": false
   },
   "outputs": [
    {
     "name": "stdout",
     "output_type": "stream",
     "text": [
      "Finding tests in NoName\n",
      "Trying:\n",
      "    annihilator = bathtub(500) # the force awakens...\n",
      "Expecting nothing\n",
      "ok\n",
      "Trying:\n",
      "    kylo_ren = annihilator(10)\n",
      "Expecting nothing\n",
      "ok\n",
      "Trying:\n",
      "    kylo_ren()\n",
      "Expecting:\n",
      "    490 rubber duckies left\n",
      "ok\n",
      "Trying:\n",
      "    finn = annihilator(-20)\n",
      "Expecting nothing\n",
      "ok\n",
      "Trying:\n",
      "    finn()\n",
      "Expecting:\n",
      "    510 rubber duckies left\n",
      "ok\n",
      "Trying:\n",
      "    kylo_ren()\n",
      "Expecting:\n",
      "    500 rubber duckies left\n",
      "ok\n"
     ]
    }
   ],
   "source": [
    "from doctest import run_docstring_examples\n",
    "run_docstring_examples(bathtub, globals(), True)"
   ]
  },
  {
   "cell_type": "code",
   "execution_count": null,
   "metadata": {
    "collapsed": true
   },
   "outputs": [],
   "source": []
  }
 ],
 "metadata": {
  "kernelspec": {
   "display_name": "Python 3",
   "language": "python",
   "name": "python3"
  },
  "language_info": {
   "codemirror_mode": {
    "name": "ipython",
    "version": 3
   },
   "file_extension": ".py",
   "mimetype": "text/x-python",
   "name": "python",
   "nbconvert_exporter": "python",
   "pygments_lexer": "ipython3",
   "version": "3.5.1"
  }
 },
 "nbformat": 4,
 "nbformat_minor": 0
}
