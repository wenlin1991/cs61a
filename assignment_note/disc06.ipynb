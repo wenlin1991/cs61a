{
 "cells": [
  {
   "cell_type": "markdown",
   "metadata": {},
   "source": [
    "### Inheritance and Nonlocal"
   ]
  },
  {
   "cell_type": "markdown",
   "metadata": {},
   "source": [
    "### 1. Object Oriented Programming"
   ]
  },
  {
   "cell_type": "markdown",
   "metadata": {},
   "source": [
    "- class: a template for creating objects\n",
    "- instance: a single object created from a class\n",
    "- instance attribute: a property of an object, specific to an instance\n",
    "- class attribute: a property of an object, shared by all instances of the same class\n",
    "- method: an action (function) taht all instances of a class may perform"
   ]
  },
  {
   "cell_type": "markdown",
   "metadata": {},
   "source": [
    "### 1.1 Questions "
   ]
  },
  {
   "cell_type": "markdown",
   "metadata": {},
   "source": [
    "`1.` Below we have defined the classes Instructor, Student, and TeachingAssistant, implementing some of what was described above. Remember that we pass the self argument implicitly to instance methods when using dot-notation. "
   ]
  },
  {
   "cell_type": "code",
   "execution_count": 1,
   "metadata": {
    "collapsed": true
   },
   "outputs": [],
   "source": [
    "class Instructor:\n",
    "    degree = \"PhD\" # this is a class attribute\n",
    "    def __init__(self, name):\n",
    "        self.name = name # this is an instance attribute\n",
    "        \n",
    "    def lecture(self, topic):\n",
    "        print(\"Today we're learning about \" + topic)\n",
    "        \n",
    "hilfinger = Instructor(\"Professor Hilfinger\")"
   ]
  },
  {
   "cell_type": "code",
   "execution_count": 2,
   "metadata": {
    "collapsed": true
   },
   "outputs": [],
   "source": [
    "class Student:\n",
    "    instructor = hilfinger\n",
    "    \n",
    "    def __init__(self, name, ta):\n",
    "        self.name = name\n",
    "        self.understanding = 0\n",
    "        ta.add_student(self)\n",
    "        \n",
    "    def attend_lecture(self, topic):\n",
    "        Student.instructor.lecture(topic)\n",
    "        print(Student.instructor.name + \" is awesome!\")\n",
    "        self.understanding += 1\n",
    "        \n",
    "    def visit_office_hours(self, staff):\n",
    "        staff.assist(self)\n",
    "        print(\"Thanks, \" + staff.name)"
   ]
  },
  {
   "cell_type": "code",
   "execution_count": 7,
   "metadata": {
    "collapsed": true
   },
   "outputs": [],
   "source": [
    "class TeachingAssistant:\n",
    "    def __init__(self, name):\n",
    "        self.name = name\n",
    "        self.students = {}\n",
    "        \n",
    "    def add_student(self, student):\n",
    "        self.students[student.name] = student\n",
    "        \n",
    "    def assist(self, student):\n",
    "        student.understanding += 1"
   ]
  },
  {
   "cell_type": "code",
   "execution_count": 8,
   "metadata": {
    "collapsed": false
   },
   "outputs": [
    {
     "name": "stdout",
     "output_type": "stream",
     "text": [
      "Today we're learning about OOP\n",
      "Professor Hilfinger is awesome!\n"
     ]
    }
   ],
   "source": [
    "soumik = TeachingAssistant(\"Soumik\")\n",
    "kelly = Student(\"Kelly\", soumik)\n",
    "kelly.attend_lecture(\"OOP\")"
   ]
  },
  {
   "cell_type": "code",
   "execution_count": 9,
   "metadata": {
    "collapsed": false
   },
   "outputs": [
    {
     "name": "stdout",
     "output_type": "stream",
     "text": [
      "Today we're learning about trees\n",
      "Professor Hilfinger is awesome!\n"
     ]
    }
   ],
   "source": [
    "kristin = Student(\"Kristin\", soumik)\n",
    "kristin.attend_lecture(\"trees\")\n",
    "#Today we're learning about trees\n",
    "#Professor Hilfinger is awesome!"
   ]
  },
  {
   "cell_type": "code",
   "execution_count": 10,
   "metadata": {
    "collapsed": false
   },
   "outputs": [
    {
     "name": "stdout",
     "output_type": "stream",
     "text": [
      "Thanks, James\n"
     ]
    }
   ],
   "source": [
    "kristin.visit_office_hours(TeachingAssistant(\"James\"))\n",
    "# Thanks, James"
   ]
  },
  {
   "cell_type": "code",
   "execution_count": 12,
   "metadata": {
    "collapsed": false
   },
   "outputs": [
    {
     "data": {
      "text/plain": [
       "1"
      ]
     },
     "execution_count": 12,
     "metadata": {},
     "output_type": "execute_result"
    }
   ],
   "source": [
    "kelly.understanding\n",
    "#1"
   ]
  },
  {
   "cell_type": "code",
   "execution_count": 13,
   "metadata": {
    "collapsed": false
   },
   "outputs": [
    {
     "data": {
      "text/plain": [
       "2"
      ]
     },
     "execution_count": 13,
     "metadata": {},
     "output_type": "execute_result"
    }
   ],
   "source": [
    "soumik.students[\"Kristin\"].understanding\n",
    "# 2"
   ]
  },
  {
   "cell_type": "code",
   "execution_count": 14,
   "metadata": {
    "collapsed": false
   },
   "outputs": [
    {
     "name": "stdout",
     "output_type": "stream",
     "text": [
      "Today we're learning about lists\n",
      "Professor DeNero is awesome!\n"
     ]
    }
   ],
   "source": [
    "Student.instructor = Instructor(\"Professor DeNero\")\n",
    "Student.attend_lecture(kelly, \"lists\")\n",
    "#Today we're learning about lists\n",
    "#Professor DeNero is awesome!"
   ]
  },
  {
   "cell_type": "markdown",
   "metadata": {},
   "source": [
    "### 2. Inheritance "
   ]
  },
  {
   "cell_type": "markdown",
   "metadata": {},
   "source": [
    "Let's explore another powerful object-oriented programming tool: inheritance. Suppose we want to write Dog and Cat classes. Here is our first attempt:"
   ]
  },
  {
   "cell_type": "code",
   "execution_count": 15,
   "metadata": {
    "collapsed": true
   },
   "outputs": [],
   "source": [
    "class Dog(object):\n",
    "    def __init__(self, name, owner, color):\n",
    "        self.name = name \n",
    "        self.owner = owner\n",
    "        self.color = color\n",
    "        \n",
    "    def eat(self, thing):\n",
    "        print(self.name + \" ate a \" + str(thing) + \"!\")\n",
    "        \n",
    "    def talk(self):\n",
    "        print(self.name + \" says woof!\")\n",
    "        \n",
    "class Cat(object):\n",
    "    def __init__(self, name, owner, lives=9):\n",
    "        self.name = name\n",
    "        self.owner = owner\n",
    "        self.lives = lives\n",
    "        \n",
    "    def eat(self, thing):\n",
    "        print(self.name + \" ate a \" + str(thing) + \"!\")\n",
    "        \n",
    "    def talk(self):\n",
    "        print(self.name + \" says meow!\")"
   ]
  },
  {
   "cell_type": "markdown",
   "metadata": {},
   "source": [
    "Notice that the only difference between both the Dog and Cat classes are the talk method as well as the color and lives attributes. That's a lot of repeated code!\n",
    "This is where inheritance comes in. In Python, a class can inherit the instance variables and methods of anohter class without having to type them all out again. For examples:"
   ]
  },
  {
   "cell_type": "code",
   "execution_count": null,
   "metadata": {
    "collapsed": true
   },
   "outputs": [],
   "source": [
    "class Foo(object):\n",
    "    # base class\n",
    "    \n",
    "class Bar(Foo):\n",
    "    \n",
    "    # subclass"
   ]
  },
  {
   "cell_type": "markdown",
   "metadata": {},
   "source": [
    "Bar inherits from Foo. We call Foo the base class (the class that is being inherited) and Bar the subclass (the class that does the inheriting)."
   ]
  },
  {
   "cell_type": "markdown",
   "metadata": {},
   "source": [
    "Notice that Foo also inherits from the object class. In Python, object is the top-level base class that provides basic functionality; everything inherits from it, even when you don't specify a class to inherit from. "
   ]
  },
  {
   "cell_type": "markdown",
   "metadata": {},
   "source": [
    "One common use of inheritance is to represent a hierarchical relationship between two or more classes where one class is a more specific version of the other class. For example, a dog is a pet. "
   ]
  },
  {
   "cell_type": "code",
   "execution_count": 19,
   "metadata": {
    "collapsed": true
   },
   "outputs": [],
   "source": [
    "class Pet(object):\n",
    "    def __init__(self, name, owner):\n",
    "        self.is_alive = True\n",
    "        self.name = name\n",
    "        self.owner = owner\n",
    "        \n",
    "    def eat(self, thing):\n",
    "        print(self.name + \" ate a \" + str(thing) + \"!\")\n",
    "        \n",
    "    def talk(self):\n",
    "        print(self.name)"
   ]
  },
  {
   "cell_type": "code",
   "execution_count": 20,
   "metadata": {
    "collapsed": true
   },
   "outputs": [],
   "source": [
    "class Dog(Pet):\n",
    "    def __init__(self, name, owner, color):\n",
    "        Pet.__init__(self, name, owner)\n",
    "        self.color = color\n",
    "        \n",
    "    def talk(self):\n",
    "        print(self.name + ' says woof!')"
   ]
  },
  {
   "cell_type": "markdown",
   "metadata": {},
   "source": [
    "By making Dog a subclass of Pet, we did not have to redefine self.name, self.owner, or eat. However, since want Dog to talk differently, we did redefine, or override, the talk method. "
   ]
  },
  {
   "cell_type": "markdown",
   "metadata": {},
   "source": [
    "`The line Pet.__init__(self, name, owner) in the dog class is necessary for inheriting the instance attributes and methods from Pet. Notice that when we call Pet.__init__, we need to pass in self as a regualr argument (that is, inside the parentheses, rather than by dot-notation) since Pet is a class, not an instance. `"
   ]
  },
  {
   "cell_type": "markdown",
   "metadata": {},
   "source": [
    "### 2.1 Questions"
   ]
  },
  {
   "cell_type": "markdown",
   "metadata": {},
   "source": [
    "`1.` Implement the Cat class by inheriting from the Pet class. Make sure to use superclass methods whereever possible. In addition, add a lose_life method to the Cat class."
   ]
  },
  {
   "cell_type": "code",
   "execution_count": 21,
   "metadata": {
    "collapsed": true
   },
   "outputs": [],
   "source": [
    "class Cat(Pet):\n",
    "    def __init__(self, name, owner, lives=9):\n",
    "        Pet.__init__(self, name, owner)\n",
    "        self.lives = lives\n",
    "        \n",
    "    def talk(self):\n",
    "        print(self.name + ' says meow!')\n",
    "        \n",
    "    def lose_life(self):\n",
    "        if self.lives <= 0:\n",
    "            self.is_alive = False\n",
    "        else:\n",
    "            self.lives -= 1"
   ]
  },
  {
   "cell_type": "markdown",
   "metadata": {},
   "source": [
    "`2.` Assume these commands are entered in order. What would Python output?"
   ]
  },
  {
   "cell_type": "code",
   "execution_count": 24,
   "metadata": {
    "collapsed": true
   },
   "outputs": [],
   "source": [
    "class Foo(object):\n",
    "    def __init__(self, a):\n",
    "        self.a = a\n",
    "    def garply(self):\n",
    "        return self.baz(self.a)\n",
    "    \n",
    "class Bar(Foo):\n",
    "    a = 1\n",
    "    def baz(self, val):\n",
    "        return val"
   ]
  },
  {
   "cell_type": "code",
   "execution_count": 26,
   "metadata": {
    "collapsed": false
   },
   "outputs": [
    {
     "data": {
      "text/plain": [
       "4"
      ]
     },
     "execution_count": 26,
     "metadata": {},
     "output_type": "execute_result"
    }
   ],
   "source": [
    "f = Foo(4)\n",
    "b = Bar(3)\n",
    "f.a"
   ]
  },
  {
   "cell_type": "code",
   "execution_count": 27,
   "metadata": {
    "collapsed": false
   },
   "outputs": [
    {
     "data": {
      "text/plain": [
       "3"
      ]
     },
     "execution_count": 27,
     "metadata": {},
     "output_type": "execute_result"
    }
   ],
   "source": [
    "b.a\n",
    "# 3"
   ]
  },
  {
   "cell_type": "code",
   "execution_count": 28,
   "metadata": {
    "collapsed": false
   },
   "outputs": [
    {
     "ename": "AttributeError",
     "evalue": "'Foo' object has no attribute 'baz'",
     "output_type": "error",
     "traceback": [
      "\u001b[1;31m---------------------------------------------------------------------------\u001b[0m",
      "\u001b[1;31mAttributeError\u001b[0m                            Traceback (most recent call last)",
      "\u001b[1;32m<ipython-input-28-06b22b25257b>\u001b[0m in \u001b[0;36m<module>\u001b[1;34m()\u001b[0m\n\u001b[1;32m----> 1\u001b[1;33m \u001b[0mf\u001b[0m\u001b[1;33m.\u001b[0m\u001b[0mgarply\u001b[0m\u001b[1;33m(\u001b[0m\u001b[1;33m)\u001b[0m\u001b[1;33m\u001b[0m\u001b[0m\n\u001b[0m",
      "\u001b[1;32m<ipython-input-24-3b73727081e6>\u001b[0m in \u001b[0;36mgarply\u001b[1;34m(self)\u001b[0m\n\u001b[0;32m      3\u001b[0m         \u001b[0mself\u001b[0m\u001b[1;33m.\u001b[0m\u001b[0ma\u001b[0m \u001b[1;33m=\u001b[0m \u001b[0ma\u001b[0m\u001b[1;33m\u001b[0m\u001b[0m\n\u001b[0;32m      4\u001b[0m     \u001b[1;32mdef\u001b[0m \u001b[0mgarply\u001b[0m\u001b[1;33m(\u001b[0m\u001b[0mself\u001b[0m\u001b[1;33m)\u001b[0m\u001b[1;33m:\u001b[0m\u001b[1;33m\u001b[0m\u001b[0m\n\u001b[1;32m----> 5\u001b[1;33m         \u001b[1;32mreturn\u001b[0m \u001b[0mself\u001b[0m\u001b[1;33m.\u001b[0m\u001b[0mbaz\u001b[0m\u001b[1;33m(\u001b[0m\u001b[0mself\u001b[0m\u001b[1;33m.\u001b[0m\u001b[0ma\u001b[0m\u001b[1;33m)\u001b[0m\u001b[1;33m\u001b[0m\u001b[0m\n\u001b[0m\u001b[0;32m      6\u001b[0m \u001b[1;33m\u001b[0m\u001b[0m\n\u001b[0;32m      7\u001b[0m \u001b[1;32mclass\u001b[0m \u001b[0mBar\u001b[0m\u001b[1;33m(\u001b[0m\u001b[0mFoo\u001b[0m\u001b[1;33m)\u001b[0m\u001b[1;33m:\u001b[0m\u001b[1;33m\u001b[0m\u001b[0m\n",
      "\u001b[1;31mAttributeError\u001b[0m: 'Foo' object has no attribute 'baz'"
     ]
    }
   ],
   "source": [
    "f.garply()"
   ]
  },
  {
   "cell_type": "code",
   "execution_count": 29,
   "metadata": {
    "collapsed": false
   },
   "outputs": [
    {
     "data": {
      "text/plain": [
       "3"
      ]
     },
     "execution_count": 29,
     "metadata": {},
     "output_type": "execute_result"
    }
   ],
   "source": [
    "b.garply()\n",
    "#3"
   ]
  },
  {
   "cell_type": "code",
   "execution_count": 30,
   "metadata": {
    "collapsed": false
   },
   "outputs": [
    {
     "data": {
      "text/plain": [
       "9"
      ]
     },
     "execution_count": 30,
     "metadata": {},
     "output_type": "execute_result"
    }
   ],
   "source": [
    "b.a = 9\n",
    "b.garply()\n",
    "# 9"
   ]
  },
  {
   "cell_type": "code",
   "execution_count": 31,
   "metadata": {
    "collapsed": false
   },
   "outputs": [
    {
     "data": {
      "text/plain": [
       "16"
      ]
     },
     "execution_count": 31,
     "metadata": {},
     "output_type": "execute_result"
    }
   ],
   "source": [
    "f.baz = lambda val: val * val\n",
    "f.garply()\n",
    "# 16"
   ]
  },
  {
   "cell_type": "markdown",
   "metadata": {},
   "source": [
    "### 2.2 Extra Questions "
   ]
  },
  {
   "cell_type": "markdown",
   "metadata": {},
   "source": [
    "`1.` More cats! Fill in the methods for NoisyCat, which is just like a normal Cat. However, NoisyCat talks a lot, printing twice whatever a Cat syas."
   ]
  },
  {
   "cell_type": "code",
   "execution_count": 33,
   "metadata": {
    "collapsed": true
   },
   "outputs": [],
   "source": [
    "class NoisyCat(Cat):\n",
    "    \"\"\"A cat that repeats things twice.\"\"\"\n",
    "    def __init__(self, name, owner, lives=9):\n",
    "        Cat.__init__(self, name, owner, lives)\n",
    "        \n",
    "    def talk(self):\n",
    "        \"\"\"Repeat what a Cat says twice.\"\"\"\n",
    "        Cat.talk(self)\n",
    "        Cat.talk(self)\n",
    "        "
   ]
  },
  {
   "cell_type": "code",
   "execution_count": null,
   "metadata": {
    "collapsed": true
   },
   "outputs": [],
   "source": []
  }
 ],
 "metadata": {
  "kernelspec": {
   "display_name": "Python 3",
   "language": "python",
   "name": "python3"
  },
  "language_info": {
   "codemirror_mode": {
    "name": "ipython",
    "version": 3
   },
   "file_extension": ".py",
   "mimetype": "text/x-python",
   "name": "python",
   "nbconvert_exporter": "python",
   "pygments_lexer": "ipython3",
   "version": "3.5.1"
  }
 },
 "nbformat": 4,
 "nbformat_minor": 0
}
