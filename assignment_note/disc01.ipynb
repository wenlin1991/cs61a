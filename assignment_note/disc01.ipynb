{
 "cells": [
  {
   "cell_type": "markdown",
   "metadata": {},
   "source": [
    "# Control and High order Function "
   ]
  },
  {
   "cell_type": "code",
   "execution_count": 5,
   "metadata": {
    "collapsed": true
   },
   "outputs": [],
   "source": [
    "from doctest import run_docstring_examples"
   ]
  },
  {
   "cell_type": "markdown",
   "metadata": {},
   "source": [
    "## 1.3 Questions"
   ]
  },
  {
   "cell_type": "code",
   "execution_count": 3,
   "metadata": {
    "collapsed": false
   },
   "outputs": [],
   "source": [
    "# Question 1\n",
    "def wears_jacket(temp, raining):\n",
    "    \"\"\"\n",
    "    >>> rain = False\n",
    "    >>> wears_jacket(90, rain)\n",
    "    False\n",
    "    >>> wears_jacket(40, rain)\n",
    "    True\n",
    "    >>> wears_jacket(100, True)\n",
    "    True\n",
    "    \"\"\"\n",
    "    if temp < 60 or raining == True:\n",
    "        return True\n",
    "    else:\n",
    "        return False"
   ]
  },
  {
   "cell_type": "code",
   "execution_count": 4,
   "metadata": {
    "collapsed": false
   },
   "outputs": [
    {
     "name": "stdout",
     "output_type": "stream",
     "text": [
      "Finding tests in NoName\n",
      "Trying:\n",
      "    rain = False\n",
      "Expecting nothing\n",
      "ok\n",
      "Trying:\n",
      "    wears_jacket(90, rain)\n",
      "Expecting:\n",
      "    False\n",
      "ok\n",
      "Trying:\n",
      "    wears_jacket(40, rain)\n",
      "Expecting:\n",
      "    True\n",
      "ok\n",
      "Trying:\n",
      "    wears_jacket(100, True)\n",
      "Expecting:\n",
      "    True\n",
      "ok\n"
     ]
    }
   ],
   "source": [
    "run_docstring_examples(wears_jacket, globals(), True)"
   ]
  },
  {
   "cell_type": "code",
   "execution_count": 13,
   "metadata": {
    "collapsed": true
   },
   "outputs": [],
   "source": [
    "# Question 2\n",
    "def handle_overflow(s1, s2):\n",
    "    \"\"\"\n",
    "    >>> handle_overflow(27, 15)\n",
    "    No overflow.\n",
    "    >>> handle_overflow(35, 29)\n",
    "    1 spot left in Section 2.\n",
    "    >>> handle_overflow(20, 32)\n",
    "    10 spots left in Section 1.\n",
    "    >>> handle_overflow(35, 30)\n",
    "    No space left in either section.\n",
    "    \"\"\"\n",
    "    avai_sec1 = 30 - s1\n",
    "    avai_sec2 = 30 - s2\n",
    "    avai_info1 = \"{} spot left in Section {}.\"\n",
    "    avai_info2 = \"{} spots left in Section {}.\"\n",
    "    if avai_sec1 <= 0 and avai_sec2 <= 0:\n",
    "        print(\"No space left in either section.\")\n",
    "    elif avai_sec1 <= 0 and avai_sec2 > 0:\n",
    "        if avai_sec2 == 1:\n",
    "            print(avai_info1.format(avai_sec2, 2))\n",
    "        else: \n",
    "            print(avai_info2.format(avai_sec2, 2))\n",
    "    elif avai_sec1 > 0 and avai_sec2 <= 0:\n",
    "        if avai_sec1 == 1:\n",
    "            print(avai_info1.format(avai_sec1, 1))\n",
    "        else:\n",
    "            print(avai_info2.format(avai_sec1, 1))\n",
    "    else:\n",
    "        print(\"No overflow.\")"
   ]
  },
  {
   "cell_type": "code",
   "execution_count": 14,
   "metadata": {
    "collapsed": false
   },
   "outputs": [
    {
     "name": "stdout",
     "output_type": "stream",
     "text": [
      "Finding tests in NoName\n",
      "Trying:\n",
      "    handle_overflow(27, 15)\n",
      "Expecting:\n",
      "    No overflow.\n",
      "ok\n",
      "Trying:\n",
      "    handle_overflow(35, 29)\n",
      "Expecting:\n",
      "    1 spot left in Section 2.\n",
      "ok\n",
      "Trying:\n",
      "    handle_overflow(20, 32)\n",
      "Expecting:\n",
      "    10 spots left in Section 1.\n",
      "ok\n",
      "Trying:\n",
      "    handle_overflow(35, 30)\n",
      "Expecting:\n",
      "    No space left in either section.\n",
      "ok\n"
     ]
    }
   ],
   "source": [
    "run_docstring_examples(handle_overflow, globals(), True)"
   ]
  },
  {
   "cell_type": "markdown",
   "metadata": {},
   "source": [
    "### 1.5 Questions"
   ]
  },
  {
   "cell_type": "code",
   "execution_count": null,
   "metadata": {
    "collapsed": true
   },
   "outputs": [],
   "source": [
    "def square(x):\n",
    "    return x * x\n",
    "\n",
    "def so_slow(num):\n",
    "    x = num\n",
    "    while x > 0:\n",
    "        x = x + 1\n",
    "    return x / 0\n",
    "\n",
    "square(so_slow(5))"
   ]
  },
  {
   "cell_type": "code",
   "execution_count": 6,
   "metadata": {
    "collapsed": true
   },
   "outputs": [],
   "source": [
    "def is_prime(n):\n",
    "    i, counter = 2, 0\n",
    "    if n == 2:\n",
    "        return True\n",
    "    while i < n:\n",
    "        if n % i == 0:\n",
    "            counter += 1\n",
    "        i += 1\n",
    "    if counter > 0:\n",
    "        return False\n",
    "    else:\n",
    "        return True"
   ]
  },
  {
   "cell_type": "code",
   "execution_count": 7,
   "metadata": {
    "collapsed": false
   },
   "outputs": [
    {
     "data": {
      "text/plain": [
       "True"
      ]
     },
     "execution_count": 7,
     "metadata": {},
     "output_type": "execute_result"
    }
   ],
   "source": [
    "is_prime(2)"
   ]
  },
  {
   "cell_type": "code",
   "execution_count": 8,
   "metadata": {
    "collapsed": false
   },
   "outputs": [
    {
     "data": {
      "text/plain": [
       "True"
      ]
     },
     "execution_count": 8,
     "metadata": {},
     "output_type": "execute_result"
    }
   ],
   "source": [
    "is_prime(7)"
   ]
  },
  {
   "cell_type": "code",
   "execution_count": 9,
   "metadata": {
    "collapsed": false
   },
   "outputs": [
    {
     "data": {
      "text/plain": [
       "False"
      ]
     },
     "execution_count": 9,
     "metadata": {},
     "output_type": "execute_result"
    }
   ],
   "source": [
    "is_prime(15)"
   ]
  },
  {
   "cell_type": "markdown",
   "metadata": {
    "collapsed": true
   },
   "source": [
    "### Question 1.6"
   ]
  },
  {
   "cell_type": "code",
   "execution_count": 18,
   "metadata": {
    "collapsed": true
   },
   "outputs": [],
   "source": [
    "def fizzbuzz(n):\n",
    "    \"\"\"\n",
    "       >>> result = fizzbuzz(16)\n",
    "       1\n",
    "       2\n",
    "       fizz\n",
    "       4\n",
    "       buzz\n",
    "       fizz\n",
    "       7\n",
    "       8\n",
    "       fizz\n",
    "       buzz\n",
    "       11\n",
    "       fizz\n",
    "       13\n",
    "       14\n",
    "       fizzbuzz\n",
    "       16\n",
    "       >>> result is None\n",
    "       True\n",
    "    \"\"\"\n",
    "    for i in range(1, n+1):\n",
    "        if i % 3 == 0 and i % 5 != 0:\n",
    "            print(\"fizz\")\n",
    "        elif i % 5 == 0 and i % 3 != 0:\n",
    "            print(\"buzz\")\n",
    "        elif i % 3 == 0 and i % 5 == 0:\n",
    "            print(\"fizzbuzz\")\n",
    "        else:\n",
    "            print(i)"
   ]
  },
  {
   "cell_type": "code",
   "execution_count": 19,
   "metadata": {
    "collapsed": false,
    "scrolled": true
   },
   "outputs": [
    {
     "name": "stdout",
     "output_type": "stream",
     "text": [
      "Finding tests in NoName\n",
      "Trying:\n",
      "    result = fizzbuzz(16)\n",
      "Expecting:\n",
      "    1\n",
      "    2\n",
      "    fizz\n",
      "    4\n",
      "    buzz\n",
      "    fizz\n",
      "    7\n",
      "    8\n",
      "    fizz\n",
      "    buzz\n",
      "    11\n",
      "    fizz\n",
      "    13\n",
      "    14\n",
      "    fizzbuzz\n",
      "    16\n",
      "ok\n",
      "Trying:\n",
      "    result is None\n",
      "Expecting:\n",
      "    True\n",
      "ok\n"
     ]
    }
   ],
   "source": [
    "run_docstring_examples(fizzbuzz, globals(), True)"
   ]
  },
  {
   "cell_type": "code",
   "execution_count": 11,
   "metadata": {
    "collapsed": false
   },
   "outputs": [],
   "source": [
    "def choose(n, k):\n",
    "    \"\"\"Returns the number of ways to choose K item from \n",
    "    N items.\n",
    "    >>> choose(5, 2)\n",
    "    10\n",
    "    >>> choose(20, 6)\n",
    "    38760\n",
    "    \"\"\"\n",
    "    i, numerator = n-k+1, 1\n",
    "    while i <= n:\n",
    "        numerator = numerator * i\n",
    "        i += 1\n",
    "    g, denominator = 1, 1\n",
    "    while g <= k:\n",
    "        denominator = denominator * g\n",
    "        g += 1\n",
    "    return numerator // denominator"
   ]
  },
  {
   "cell_type": "code",
   "execution_count": 12,
   "metadata": {
    "collapsed": false
   },
   "outputs": [
    {
     "name": "stdout",
     "output_type": "stream",
     "text": [
      "Finding tests in NoName\n",
      "Trying:\n",
      "    choose(5, 2)\n",
      "Expecting:\n",
      "    10\n",
      "ok\n",
      "Trying:\n",
      "    choose(20, 6)\n",
      "Expecting:\n",
      "    38760\n",
      "ok\n"
     ]
    }
   ],
   "source": [
    "run_docstring_examples(choose, globals(), True)"
   ]
  },
  {
   "cell_type": "markdown",
   "metadata": {
    "collapsed": true
   },
   "source": [
    "### High Order Functions"
   ]
  },
  {
   "cell_type": "code",
   "execution_count": 13,
   "metadata": {
    "collapsed": true
   },
   "outputs": [],
   "source": [
    "def negate(f, x):\n",
    "    return -f(x)\n",
    "\n",
    "def square(n):\n",
    "    return n*n\n",
    "\n",
    "def double(n):\n",
    "    return 2 * n"
   ]
  },
  {
   "cell_type": "code",
   "execution_count": 14,
   "metadata": {
    "collapsed": false
   },
   "outputs": [
    {
     "data": {
      "text/plain": [
       "-25"
      ]
     },
     "execution_count": 14,
     "metadata": {},
     "output_type": "execute_result"
    }
   ],
   "source": [
    "negate(square, 5) #-25"
   ]
  },
  {
   "cell_type": "code",
   "execution_count": 15,
   "metadata": {
    "collapsed": false
   },
   "outputs": [
    {
     "data": {
      "text/plain": [
       "38"
      ]
     },
     "execution_count": 15,
     "metadata": {},
     "output_type": "execute_result"
    }
   ],
   "source": [
    "negate(double, -19) # 38"
   ]
  },
  {
   "cell_type": "code",
   "execution_count": 16,
   "metadata": {
    "collapsed": false
   },
   "outputs": [
    {
     "data": {
      "text/plain": [
       "32"
      ]
     },
     "execution_count": 16,
     "metadata": {},
     "output_type": "execute_result"
    }
   ],
   "source": [
    "negate(double, negate(square, -4)) # 32"
   ]
  },
  {
   "cell_type": "code",
   "execution_count": 20,
   "metadata": {
    "collapsed": true
   },
   "outputs": [],
   "source": [
    "def keep_ints(cond, n):\n",
    "    \"\"\"Print out all integers 1..i..n where cond(i) is true\n",
    "    \n",
    "    >>> def is_even(x):\n",
    "    ...     return x % 2 == 0\n",
    "    >>> keep_ints(is_even, 5)\n",
    "    2\n",
    "    4\n",
    "    \"\"\"\n",
    "    for i in range(1, n+1):\n",
    "        if cond(i):\n",
    "            print(i)"
   ]
  },
  {
   "cell_type": "code",
   "execution_count": 21,
   "metadata": {
    "collapsed": false
   },
   "outputs": [
    {
     "name": "stdout",
     "output_type": "stream",
     "text": [
      "Finding tests in NoName\n",
      "Trying:\n",
      "    def is_even(x):\n",
      "        return x % 2 == 0\n",
      "Expecting nothing\n",
      "ok\n",
      "Trying:\n",
      "    keep_ints(is_even, 5)\n",
      "Expecting:\n",
      "    2\n",
      "    4\n",
      "ok\n"
     ]
    }
   ],
   "source": [
    "run_docstring_examples(keep_ints, globals(), True)"
   ]
  },
  {
   "cell_type": "code",
   "execution_count": 22,
   "metadata": {
    "collapsed": true
   },
   "outputs": [],
   "source": [
    "def outer(n):\n",
    "    def inner(m):\n",
    "        return n - m\n",
    "    return inner"
   ]
  },
  {
   "cell_type": "code",
   "execution_count": 23,
   "metadata": {
    "collapsed": false
   },
   "outputs": [
    {
     "data": {
      "text/plain": [
       "<function __main__.outer.<locals>.inner>"
      ]
     },
     "execution_count": 23,
     "metadata": {},
     "output_type": "execute_result"
    }
   ],
   "source": [
    "outer(61) # function"
   ]
  },
  {
   "cell_type": "code",
   "execution_count": 24,
   "metadata": {
    "collapsed": false
   },
   "outputs": [
    {
     "data": {
      "text/plain": [
       "6"
      ]
     },
     "execution_count": 24,
     "metadata": {},
     "output_type": "execute_result"
    }
   ],
   "source": [
    "f = outer(10)\n",
    "f(4) # 6"
   ]
  },
  {
   "cell_type": "code",
   "execution_count": 25,
   "metadata": {
    "collapsed": false
   },
   "outputs": [
    {
     "data": {
      "text/plain": [
       "1"
      ]
     },
     "execution_count": 25,
     "metadata": {},
     "output_type": "execute_result"
    }
   ],
   "source": [
    "outer(5)(4) #1"
   ]
  },
  {
   "cell_type": "code",
   "execution_count": 27,
   "metadata": {
    "collapsed": false
   },
   "outputs": [],
   "source": [
    "def keep_ints(n):\n",
    "    \"\"\"Returns a function which takes one parameter cond and\n",
    "    prints out all integers 1..i..n where calling cond(i)\n",
    "    returns True.\n",
    "    >>> def is_even(x):\n",
    "    ...     # Even numbers have remainder 0 when divided by 2.\n",
    "    ...     return x % 2 == 0\n",
    "    >>> keep_ints(5)(is_even)\n",
    "    2\n",
    "    4\n",
    "    \"\"\"\n",
    "    def helper(cond):\n",
    "        for i in range(1, n+1):\n",
    "            if cond(i):\n",
    "                print(i)\n",
    "    return helper"
   ]
  },
  {
   "cell_type": "code",
   "execution_count": 28,
   "metadata": {
    "collapsed": false
   },
   "outputs": [
    {
     "name": "stdout",
     "output_type": "stream",
     "text": [
      "Finding tests in NoName\n",
      "Trying:\n",
      "    def is_even(x):\n",
      "        # Even numbers have remainder 0 when divided by 2.\n",
      "        return x % 2 == 0\n",
      "Expecting nothing\n",
      "ok\n",
      "Trying:\n",
      "    keep_ints(5)(is_even)\n",
      "Expecting:\n",
      "    2\n",
      "    4\n",
      "ok\n"
     ]
    }
   ],
   "source": [
    "run_docstring_examples(keep_ints, globals(), True)"
   ]
  },
  {
   "cell_type": "code",
   "execution_count": null,
   "metadata": {
    "collapsed": true
   },
   "outputs": [],
   "source": []
  }
 ],
 "metadata": {
  "kernelspec": {
   "display_name": "Python 3",
   "language": "python",
   "name": "python3"
  },
  "language_info": {
   "codemirror_mode": {
    "name": "ipython",
    "version": 3
   },
   "file_extension": ".py",
   "mimetype": "text/x-python",
   "name": "python",
   "nbconvert_exporter": "python",
   "pygments_lexer": "ipython3",
   "version": "3.5.1"
  }
 },
 "nbformat": 4,
 "nbformat_minor": 0
}
