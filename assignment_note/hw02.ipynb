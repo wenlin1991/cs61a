{
 "cells": [
  {
   "cell_type": "markdown",
   "metadata": {},
   "source": [
    "### Question 1: Product"
   ]
  },
  {
   "cell_type": "markdown",
   "metadata": {},
   "source": [
    "The summation(term, n) function from lecture adds up term(1) + .... + term(n) Write a similar product(n, term) function that returns term(1) * ... * term(n). Show how to define the factorial function in terms of product. Hint: Try using the identity for factorial."
   ]
  },
  {
   "cell_type": "code",
   "execution_count": 17,
   "metadata": {
    "collapsed": true
   },
   "outputs": [],
   "source": [
    "from doctest import run_docstring_examples"
   ]
  },
  {
   "cell_type": "code",
   "execution_count": 2,
   "metadata": {
    "collapsed": false
   },
   "outputs": [
    {
     "name": "stdout",
     "output_type": "stream",
     "text": [
      "Finding tests in NoName\n",
      "Trying:\n",
      "    product(3, identity) # 1 * 2 * 3\n",
      "Expecting:\n",
      "    6\n",
      "ok\n",
      "Trying:\n",
      "    product(5, identity) # 1 * 2 * 3 * 4 * 5\n",
      "Expecting:\n",
      "    120\n",
      "ok\n",
      "Trying:\n",
      "    product(3, square)  # 1^2 * 2^2 * 3^2\n",
      "Expecting:\n",
      "    36\n",
      "ok\n",
      "Trying:\n",
      "    product(5, square)  # 1^2 * 2^2 * 3^2 * 4^2 * 5^2\n",
      "Expecting:\n",
      "    14400\n",
      "ok\n"
     ]
    }
   ],
   "source": [
    "def identity(x):\n",
    "    return x\n",
    "\n",
    "def square(x):\n",
    "    return x * x\n",
    "\n",
    "def product(n, term):\n",
    "    \"\"\"Return the product of the first n terms in a sequence.\n",
    "    n    -- a positive integer\n",
    "    term -- a function that takes one argument\n",
    "    \n",
    "    >>> product(3, identity) # 1 * 2 * 3\n",
    "    6\n",
    "    >>> product(5, identity) # 1 * 2 * 3 * 4 * 5\n",
    "    120\n",
    "    >>> product(3, square)  # 1^2 * 2^2 * 3^2\n",
    "    36\n",
    "    >>> product(5, square)  # 1^2 * 2^2 * 3^2 * 4^2 * 5^2\n",
    "    14400\n",
    "    \"\"\"\n",
    "    total, k = 1, 1\n",
    "    while k <= n:\n",
    "        total, k = total * term(k), k+1\n",
    "    return total\n",
    "\n",
    "run_docstring_examples(product, globals(), True)"
   ]
  },
  {
   "cell_type": "markdown",
   "metadata": {},
   "source": [
    "Take a function as argument and update it with the loop item k. "
   ]
  },
  {
   "cell_type": "code",
   "execution_count": 3,
   "metadata": {
    "collapsed": false
   },
   "outputs": [
    {
     "data": {
      "text/plain": [
       "55"
      ]
     },
     "execution_count": 3,
     "metadata": {},
     "output_type": "execute_result"
    }
   ],
   "source": [
    "def summation(n, term):\n",
    "    total, k = 0, 1\n",
    "    while k <= n:\n",
    "        total, k = total + term(k), k+1\n",
    "    return total\n",
    "\n",
    "summation(10, identity)"
   ]
  },
  {
   "cell_type": "code",
   "execution_count": 4,
   "metadata": {
    "collapsed": true
   },
   "outputs": [],
   "source": [
    "def sum_high_order(func):\n",
    "    def g(x):\n",
    "        def h(y):\n",
    "            return func(x, y)\n",
    "        return h\n",
    "    return g"
   ]
  },
  {
   "cell_type": "code",
   "execution_count": 5,
   "metadata": {
    "collapsed": false
   },
   "outputs": [
    {
     "data": {
      "text/plain": [
       "10"
      ]
     },
     "execution_count": 5,
     "metadata": {},
     "output_type": "execute_result"
    }
   ],
   "source": [
    "from operator import add\n",
    "add_5 = sum_high_order(add)(5)\n",
    "add_5(5)"
   ]
  },
  {
   "cell_type": "code",
   "execution_count": 8,
   "metadata": {
    "collapsed": false
   },
   "outputs": [
    {
     "name": "stdout",
     "output_type": "stream",
     "text": [
      "Finding tests in NoName\n",
      "Trying:\n",
      "    factorial(4)\n",
      "Expecting:\n",
      "    24\n",
      "ok\n",
      "Trying:\n",
      "    factorial(6)\n",
      "Expecting:\n",
      "    720\n",
      "ok\n",
      "Trying:\n",
      "    from construct_check import check\n",
      "Expecting nothing\n",
      "ok\n",
      "Trying:\n",
      "    check(HW_SOURCE_FILE, 'factorial', ['Recursion', 'For', 'While'])\n",
      "Expecting:\n",
      "    True\n",
      "**********************************************************************\n",
      "File \"__main__\", line 9, in NoName\n",
      "Failed example:\n",
      "    check(HW_SOURCE_FILE, 'factorial', ['Recursion', 'For', 'While'])\n",
      "Exception raised:\n",
      "    Traceback (most recent call last):\n",
      "      File \"/home/wen/anaconda2/envs/snakes/lib/python3.5/doctest.py\", line 1320, in __run\n",
      "        compileflags, 1), test.globs)\n",
      "      File \"<doctest NoName[3]>\", line 1, in <module>\n",
      "        check(HW_SOURCE_FILE, 'factorial', ['Recursion', 'For', 'While'])\n",
      "    NameError: name 'HW_SOURCE_FILE' is not defined\n"
     ]
    }
   ],
   "source": [
    "def factorial(n):\n",
    "    \"\"\"Return n factorial for n >= 0 by calling product.\n",
    "    \n",
    "    >>> factorial(4)\n",
    "    24\n",
    "    >>> factorial(6)\n",
    "    720\n",
    "    >>> from construct_check import check\n",
    "    >>> check(HW_SOURCE_FILE, 'factorial', ['Recursion', 'For', 'While'])\n",
    "    True\n",
    "    \"\"\"\n",
    "    return product(n, identity)\n",
    "\n",
    "run_docstring_examples(factorial, globals(), True)"
   ]
  },
  {
   "cell_type": "markdown",
   "metadata": {},
   "source": [
    "### Question 2: Accumulate"
   ]
  },
  {
   "cell_type": "markdown",
   "metadata": {},
   "source": [
    "Show that both summation and product are instances of a more general function, called accumulate, with the following signature:"
   ]
  },
  {
   "cell_type": "code",
   "execution_count": 6,
   "metadata": {
    "collapsed": false
   },
   "outputs": [
    {
     "name": "stdout",
     "output_type": "stream",
     "text": [
      "Finding tests in NoName\n",
      "Trying:\n",
      "    accumulate(add, 0, 5, identity)  #0 + 1 + 2 + 3 + 4 + 5\n",
      "Expecting:\n",
      "    15\n",
      "ok\n",
      "Trying:\n",
      "    accumulate(add, 11, 5, identity) # 11 + 1 + 2 + 3 + 4 + 5\n",
      "Expecting:\n",
      "    26\n",
      "ok\n",
      "Trying:\n",
      "    accumulate(add, 11, 0, identity) # 11\n",
      "Expecting:\n",
      "    11\n",
      "ok\n",
      "Trying:\n",
      "    accumulate(add, 11, 3, square)  # 11 + 1^2 + 2^2 + 3^2\n",
      "Expecting:\n",
      "    25\n",
      "ok\n",
      "Trying:\n",
      "    accumulate(mul, 2, 3, square) # 2 * 1^2 * 2^2 * 3^2\n",
      "Expecting:\n",
      "    72\n",
      "ok\n"
     ]
    }
   ],
   "source": [
    "from operator import add, mul\n",
    "\n",
    "def accumulate(combiner, base, n, term):    0\n",
    "\n",
    "    \"\"\"Return the result of combining the first N items in a sequence. The\n",
    "    terms to be combined are TERM(1), TERM(2), ..., TERM(N). COMBINER is a\n",
    "    two-argument function. Treating COMBINER as if it were a binary operator,\n",
    "    then return value is\n",
    "    \n",
    "    >>> accumulate(add, 0, 5, identity)  #0 + 1 + 2 + 3 + 4 + 5\n",
    "    15\n",
    "    >>> accumulate(add, 11, 5, identity) # 11 + 1 + 2 + 3 + 4 + 5\n",
    "    26\n",
    "    >>> accumulate(add, 11, 0, identity) # 11\n",
    "    11\n",
    "    >>> accumulate(add, 11, 3, square)  # 11 + 1^2 + 2^2 + 3^2\n",
    "    25\n",
    "    >>> accumulate(mul, 2, 3, square) # 2 * 1^2 * 2^2 * 3^2\n",
    "    72\n",
    "    \"\"\"\n",
    "    total, k = base, 1\n",
    "    while k <= n:\n",
    "        total, k= combiner(total, term(k)), k+1\n",
    "    return total\n",
    "\n",
    "run_docstring_examples(accumulate, globals(), True)"
   ]
  },
  {
   "cell_type": "code",
   "execution_count": 7,
   "metadata": {
    "collapsed": false
   },
   "outputs": [
    {
     "name": "stdout",
     "output_type": "stream",
     "text": [
      "Finding tests in NoName\n",
      "Trying:\n",
      "    summation_using_accumulate(5, square)\n",
      "Expecting:\n",
      "    55\n",
      "ok\n",
      "Trying:\n",
      "    summation_using_accumulate(5, triple)\n",
      "Expecting:\n",
      "    45\n",
      "ok\n"
     ]
    }
   ],
   "source": [
    "def triple(x):\n",
    "    return x*3\n",
    "\n",
    "def summation_using_accumulate(n, term):\n",
    "    \"\"\"Returns the sum of TERM(1) + ... + TERM(N). The implementation\n",
    "    uses accumulate.\n",
    "    \n",
    "    >>> summation_using_accumulate(5, square)\n",
    "    55\n",
    "    >>> summation_using_accumulate(5, triple)\n",
    "    45\n",
    "    \"\"\"\n",
    "    return accumulate(add, 0, n, term)\n",
    "\n",
    "run_docstring_examples(summation_using_accumulate, globals(), True)"
   ]
  },
  {
   "cell_type": "code",
   "execution_count": 8,
   "metadata": {
    "collapsed": false
   },
   "outputs": [
    {
     "name": "stdout",
     "output_type": "stream",
     "text": [
      "Finding tests in NoName\n",
      "Trying:\n",
      "    product_using_accumulate(4, square)\n",
      "Expecting:\n",
      "    576\n",
      "ok\n",
      "Trying:\n",
      "    product_using_accumulate(6, triple)\n",
      "Expecting:\n",
      "    524880\n",
      "ok\n"
     ]
    }
   ],
   "source": [
    "from operator import mul\n",
    "\n",
    "def product_using_accumulate(n, term):\n",
    "    \"\"\"An implementation of product using accumulate.\n",
    "    \n",
    "    >>> product_using_accumulate(4, square)\n",
    "    576\n",
    "    >>> product_using_accumulate(6, triple)\n",
    "    524880\n",
    "    \"\"\"\n",
    "    return accumulate(mul, 1, n, term)\n",
    "\n",
    "run_docstring_examples(product_using_accumulate, globals(), True)"
   ]
  },
  {
   "cell_type": "markdown",
   "metadata": {},
   "source": [
    "### Question 3: Filtered Accumulate"
   ]
  },
  {
   "cell_type": "markdown",
   "metadata": {},
   "source": [
    "Show to extend the accumulate function to allow for filtering the results produced by its term argument. The function filtered_accumulate has the following signature. "
   ]
  },
  {
   "cell_type": "code",
   "execution_count": 9,
   "metadata": {
    "collapsed": false
   },
   "outputs": [
    {
     "name": "stdout",
     "output_type": "stream",
     "text": [
      "Finding tests in NoName\n",
      "Trying:\n",
      "    filtered_accumulate(add, 0, true, 5, identity)  # 0 + 1 + 2 + 3 + 4 + 5\n",
      "Expecting:\n",
      "    15\n",
      "ok\n",
      "Trying:\n",
      "    filtered_accumulate(add, 11, false, 5, identity) # 11\n",
      "Expecting:\n",
      "    11\n",
      "ok\n",
      "Trying:\n",
      "    filtered_accumulate(add, 0, odd, 5, identity)   # 0 + 1 + 3 + 5\n",
      "Expecting:\n",
      "    9\n",
      "ok\n",
      "Trying:\n",
      "    filtered_accumulate(mul, 1, odd, 5, square)  # 1 * 1 * 9 * 25\n",
      "Expecting:\n",
      "    225\n",
      "ok\n"
     ]
    }
   ],
   "source": [
    "def true(x):\n",
    "    return True\n",
    "\n",
    "def false(x):\n",
    "    return False\n",
    "\n",
    "def odd(x):\n",
    "    return x % 2 == 1\n",
    "\n",
    "def square(x):\n",
    "    return x * x\n",
    "\n",
    "def filtered_accumulate(combiner, base, pred, n, term):\n",
    "    \"\"\"Return the result of combining the terms in a sequence of N terms\n",
    "    that satisfy the predicate PRED.  COMBINER is a two-argument function.\n",
    "    If v1, v2, ..., vk are the values in TERM(1), TERM(2), ..., TERM(N)\n",
    "    that satisfy PRED, then the result is\n",
    "         BASE COMBINER v1 COMBINER v2 ... COMBINER vk\n",
    "    (treating COMBINER as if it were a binary operator, like +). The\n",
    "    implementation uses accumulate.\n",
    "\n",
    "    >>> filtered_accumulate(add, 0, true, 5, identity)  # 0 + 1 + 2 + 3 + 4 + 5\n",
    "    15\n",
    "    >>> filtered_accumulate(add, 11, false, 5, identity) # 11\n",
    "    11\n",
    "    >>> filtered_accumulate(add, 0, odd, 5, identity)   # 0 + 1 + 3 + 5\n",
    "    9\n",
    "    >>> filtered_accumulate(mul, 1, odd, 5, square)  # 1 * 1 * 9 * 25\n",
    "    225\n",
    "    \"\"\"\n",
    "    \"*** YOUR CODE HERE ***\"\n",
    "    return accumulate(lambda x,y: combiner(x, y) if pred(y) else x, base, n, term)\n",
    "\n",
    "run_docstring_examples(filtered_accumulate, globals(), True)"
   ]
  },
  {
   "cell_type": "markdown",
   "metadata": {
    "collapsed": true
   },
   "source": [
    "### Question 4: Repeated"
   ]
  },
  {
   "cell_type": "markdown",
   "metadata": {},
   "source": [
    "Implement repeated(f, n):\n",
    "- f is a one-argument function that takes a number and returns another number\n",
    "- n is a non-negative integer"
   ]
  },
  {
   "cell_type": "markdown",
   "metadata": {},
   "source": [
    "repeated returns another function that, when given an argument x, will computef(f(....(f(x))....)) (apply f a total n times). For example, repeated(square, 3)(42) evaluates to square(square(square(42))). Yes, it makes sense to apply the function zero times! See if you can figure out a reasonalbe function to return for that case. "
   ]
  },
  {
   "cell_type": "code",
   "execution_count": null,
   "metadata": {
    "collapsed": true
   },
   "outputs": [],
   "source": [
    "def increment(x):\n",
    "    return x + 1\n",
    "\n",
    "def repeated(f, n):\n",
    "    \"\"\"Return the function that computes the nth application of f.\n",
    "    \n",
    "    >>> add_three = repeated(increment, 3)\n",
    "    >>> add_three(5)\n",
    "    8\n",
    "    >>> repeated(triple, 5)(1) # 3 * 3 * 3 * 3 * 3 * 1\n",
    "    243\n",
    "    >>> repeated(square, 2)(5) # square(square(5))\n",
    "    625\n",
    "    >>> repeated(square, 4)(5) # square(square(square(square(5))))\n",
    "    152587890625\n",
    "    >>> repeated(square, 0)(5)\n",
    "    5\n",
    "    \"\"\"\n",
    "    def helper(x):\n",
    "        k = 1\n",
    "        while k <= n:\n",
    "            x = f(x)\n",
    "            k += 1\n",
    "        return x\n",
    "    return helper\n",
    "\n",
    "run_docstring_examples(repeated, globals(), True)"
   ]
  },
  {
   "cell_type": "markdown",
   "metadata": {
    "collapsed": true
   },
   "source": [
    "> The above code is correct. Has been test in hw02.py file.  "
   ]
  },
  {
   "cell_type": "markdown",
   "metadata": {
    "collapsed": true
   },
   "source": [
    "### Question 5: G function "
   ]
  },
  {
   "cell_type": "markdown",
   "metadata": {
    "collapsed": true
   },
   "source": [
    "A mathematical function G on poositive integers is defined by two class:"
   ]
  },
  {
   "cell_type": "code",
   "execution_count": null,
   "metadata": {
    "collapsed": true
   },
   "outputs": [],
   "source": [
    "G(n) = n,                                       if n <= 3\n",
    "G(n) = G(n - 1) + 2 * G(n - 2) + 3 * G(n - 3),  if n > 3"
   ]
  },
  {
   "cell_type": "markdown",
   "metadata": {},
   "source": [
    "Write a recursive function g that computes G(n). Then, Write an iterative function g_iter that also computes G(n):"
   ]
  },
  {
   "cell_type": "code",
   "execution_count": 20,
   "metadata": {
    "collapsed": false
   },
   "outputs": [
    {
     "name": "stdout",
     "output_type": "stream",
     "text": [
      "Finding tests in NoName\n",
      "Trying:\n",
      "    g(1)\n",
      "Expecting:\n",
      "    1\n",
      "ok\n",
      "Trying:\n",
      "    g(2)\n",
      "Expecting:\n",
      "    2\n",
      "ok\n",
      "Trying:\n",
      "    g(3)\n",
      "Expecting:\n",
      "    3\n",
      "ok\n",
      "Trying:\n",
      "    g(4)\n",
      "Expecting:\n",
      "    10\n",
      "ok\n",
      "Trying:\n",
      "    g(5)\n",
      "Expecting:\n",
      "    22\n",
      "ok\n"
     ]
    }
   ],
   "source": [
    "def g(n):\n",
    "    \"\"\"Return the value of G(n), computed recursively.\n",
    "    >>> g(1)\n",
    "    1\n",
    "    >>> g(2)\n",
    "    2\n",
    "    >>> g(3)\n",
    "    3\n",
    "    >>> g(4)\n",
    "    10\n",
    "    >>> g(5)\n",
    "    22\n",
    "    \"\"\"\n",
    "    if n <= 3:\n",
    "        return n\n",
    "    else:\n",
    "        return g(n-1) + 2*g(n-2) + 3*g(n-3)\n",
    "    \n",
    "run_docstring_examples(g, globals(), True)"
   ]
  },
  {
   "cell_type": "code",
   "execution_count": 21,
   "metadata": {
    "collapsed": false
   },
   "outputs": [
    {
     "name": "stdout",
     "output_type": "stream",
     "text": [
      "Finding tests in NoName\n",
      "Trying:\n",
      "    g(1)\n",
      "Expecting:\n",
      "    1\n",
      "ok\n",
      "Trying:\n",
      "    g(2)\n",
      "Expecting:\n",
      "    2\n",
      "ok\n",
      "Trying:\n",
      "    g(3)\n",
      "Expecting:\n",
      "    3\n",
      "ok\n",
      "Trying:\n",
      "    g(4)\n",
      "Expecting:\n",
      "    10\n",
      "ok\n",
      "Trying:\n",
      "    g(5)\n",
      "Expecting:\n",
      "    22\n",
      "ok\n"
     ]
    }
   ],
   "source": [
    "def g_iter(n):\n",
    "    \"\"\"Return the value of G(n), computed recursively.\n",
    "    >>> g(1)\n",
    "    1\n",
    "    >>> g(2)\n",
    "    2\n",
    "    >>> g(3)\n",
    "    3\n",
    "    >>> g(4)\n",
    "    10\n",
    "    >>> g(5)\n",
    "    22\n",
    "    \"\"\"\n",
    "    if n <= 3:\n",
    "        return n\n",
    "    a, b, c = 1, 2, 3\n",
    "    while n > 3:\n",
    "        a, b, c = b, c, c + 2*b + 3 * a\n",
    "        n -= 1\n",
    "    return c\n",
    "    \n",
    "run_docstring_examples(g_iter, globals(), True)"
   ]
  },
  {
   "cell_type": "markdown",
   "metadata": {
    "collapsed": true
   },
   "source": [
    "### Question 6: Ping Pong "
   ]
  },
  {
   "cell_type": "markdown",
   "metadata": {
    "collapsed": true
   },
   "source": [
    "The ping-pong sequence conts up starting from 1 and is always either counting up or counting down. At element k, the direction swithes if k is a multiple of 7 or contains the digit 7. The first 30 elements of the ping-pong sequence are listed below, with direction swaps marked using brackets at 7th, 14th, 17th, 21st, 17th, and 28th elements:"
   ]
  },
  {
   "cell_type": "code",
   "execution_count": 38,
   "metadata": {
    "collapsed": false
   },
   "outputs": [],
   "source": [
    "def pingpong(n):\n",
    "    \"\"\"Return the nth element of the ping-pong sequence.\n",
    "    >>> pingpong(7)\n",
    "    7\n",
    "    >>> pingpong(8)\n",
    "    6\n",
    "    >>> pingpong(15)\n",
    "    1\n",
    "    >>> pingpong(21)\n",
    "    -1\n",
    "    >>> pingpong(22)\n",
    "    0\n",
    "    >>> pingpong(30)\n",
    "    6\n",
    "    >>> pingpong(68)\n",
    "    2\n",
    "    >>> pingpong(69)\n",
    "    1\n",
    "    >>> pingpong(70)\n",
    "    0\n",
    "    >>> pingpong(71)\n",
    "    1\n",
    "    >>> pingpong(72)\n",
    "    0\n",
    "    >>> pingpong(100)\n",
    "    2\n",
    "    \"\"\"\n",
    "    def helper(n, count_up, k=0):\n",
    "        i = 1\n",
    "        while i <= n:\n",
    "            if (count_up):\n",
    "                k += 1\n",
    "            else: \n",
    "                k -= 1\n",
    "            if (i%7 == 0 or i%10==7 or '7' in str(i)):\n",
    "                count_up = not(count_up)\n",
    "            i += 1\n",
    "        return k\n",
    "    return helper(n, True)"
   ]
  },
  {
   "cell_type": "code",
   "execution_count": 39,
   "metadata": {
    "collapsed": false
   },
   "outputs": [
    {
     "name": "stdout",
     "output_type": "stream",
     "text": [
      "Finding tests in NoName\n",
      "Trying:\n",
      "    pingpong(7)\n",
      "Expecting:\n",
      "    7\n",
      "ok\n",
      "Trying:\n",
      "    pingpong(8)\n",
      "Expecting:\n",
      "    6\n",
      "ok\n",
      "Trying:\n",
      "    pingpong(15)\n",
      "Expecting:\n",
      "    1\n",
      "ok\n",
      "Trying:\n",
      "    pingpong(21)\n",
      "Expecting:\n",
      "    -1\n",
      "ok\n",
      "Trying:\n",
      "    pingpong(22)\n",
      "Expecting:\n",
      "    0\n",
      "ok\n",
      "Trying:\n",
      "    pingpong(30)\n",
      "Expecting:\n",
      "    6\n",
      "ok\n",
      "Trying:\n",
      "    pingpong(68)\n",
      "Expecting:\n",
      "    2\n",
      "ok\n",
      "Trying:\n",
      "    pingpong(69)\n",
      "Expecting:\n",
      "    1\n",
      "ok\n",
      "Trying:\n",
      "    pingpong(70)\n",
      "Expecting:\n",
      "    0\n",
      "ok\n",
      "Trying:\n",
      "    pingpong(71)\n",
      "Expecting:\n",
      "    1\n",
      "ok\n",
      "Trying:\n",
      "    pingpong(72)\n",
      "Expecting:\n",
      "    0\n",
      "ok\n",
      "Trying:\n",
      "    pingpong(100)\n",
      "Expecting:\n",
      "    2\n",
      "ok\n"
     ]
    }
   ],
   "source": [
    "run_docstring_examples(pingpong, globals(), True)"
   ]
  },
  {
   "cell_type": "code",
   "execution_count": 40,
   "metadata": {
    "collapsed": true
   },
   "outputs": [],
   "source": [
    "def pingpong(n):\n",
    "    \"\"\"Return the nth element of the ping-pong sequence.\n",
    "\n",
    "    >>> pingpong(7)\n",
    "    7\n",
    "    >>> pingpong(8)\n",
    "    6\n",
    "    >>> pingpong(15)\n",
    "    1\n",
    "    >>> pingpong(21)\n",
    "    -1\n",
    "    >>> pingpong(22)\n",
    "    0\n",
    "    >>> pingpong(30)\n",
    "    6\n",
    "    >>> pingpong(68)\n",
    "    2\n",
    "    >>> pingpong(69)\n",
    "    1\n",
    "    >>> pingpong(70)\n",
    "    0\n",
    "    >>> pingpong(71)\n",
    "    1\n",
    "    >>> pingpong(72)\n",
    "    0\n",
    "    >>> pingpong(100)\n",
    "    2\n",
    "    \"\"\"\n",
    "    def pingpong_next(k, p, up):\n",
    "        if k == n:\n",
    "            return p\n",
    "        if up:\n",
    "            return pingpong_switch(k+1, p+1, up)\n",
    "        else:\n",
    "            return pingpong_switch(k+1, p-1, up)\n",
    "        \n",
    "    def pingpong_switch(k, p, up):\n",
    "        if k % 7 == 0 or '7' in str(k):\n",
    "            return pingpong_next(k, p, not up)\n",
    "        else:\n",
    "            return pingpong_next(k, p, up)\n",
    "    \n",
    "    return pingpong_next(1, 1, True)"
   ]
  },
  {
   "cell_type": "code",
   "execution_count": 41,
   "metadata": {
    "collapsed": false
   },
   "outputs": [
    {
     "name": "stdout",
     "output_type": "stream",
     "text": [
      "Finding tests in NoName\n",
      "Trying:\n",
      "    pingpong(7)\n",
      "Expecting:\n",
      "    7\n",
      "ok\n",
      "Trying:\n",
      "    pingpong(8)\n",
      "Expecting:\n",
      "    6\n",
      "ok\n",
      "Trying:\n",
      "    pingpong(15)\n",
      "Expecting:\n",
      "    1\n",
      "ok\n",
      "Trying:\n",
      "    pingpong(21)\n",
      "Expecting:\n",
      "    -1\n",
      "ok\n",
      "Trying:\n",
      "    pingpong(22)\n",
      "Expecting:\n",
      "    0\n",
      "ok\n",
      "Trying:\n",
      "    pingpong(30)\n",
      "Expecting:\n",
      "    6\n",
      "ok\n",
      "Trying:\n",
      "    pingpong(68)\n",
      "Expecting:\n",
      "    2\n",
      "ok\n",
      "Trying:\n",
      "    pingpong(69)\n",
      "Expecting:\n",
      "    1\n",
      "ok\n",
      "Trying:\n",
      "    pingpong(70)\n",
      "Expecting:\n",
      "    0\n",
      "ok\n",
      "Trying:\n",
      "    pingpong(71)\n",
      "Expecting:\n",
      "    1\n",
      "ok\n",
      "Trying:\n",
      "    pingpong(72)\n",
      "Expecting:\n",
      "    0\n",
      "ok\n",
      "Trying:\n",
      "    pingpong(100)\n",
      "Expecting:\n",
      "    2\n",
      "ok\n"
     ]
    }
   ],
   "source": [
    "run_docstring_examples(pingpong, globals(), True)"
   ]
  },
  {
   "cell_type": "markdown",
   "metadata": {},
   "source": [
    "### Question 7: Count change "
   ]
  },
  {
   "cell_type": "markdown",
   "metadata": {},
   "source": [
    "Once the machines take over, the denomination of every coin will be a power of two: 1-cent, 2-cent, 4-cent, 8-cent, 16-cent, etc. There will be how much a coin can be worth. "
   ]
  },
  {
   "cell_type": "markdown",
   "metadata": {},
   "source": [
    "A set of coins makes change for n if the sum of the values of the coins is n. For example, the following sets make the change for 7:"
   ]
  },
  {
   "cell_type": "code",
   "execution_count": null,
   "metadata": {
    "collapsed": true
   },
   "outputs": [],
   "source": []
  },
  {
   "cell_type": "code",
   "execution_count": null,
   "metadata": {
    "collapsed": true
   },
   "outputs": [],
   "source": []
  },
  {
   "cell_type": "code",
   "execution_count": null,
   "metadata": {
    "collapsed": true
   },
   "outputs": [],
   "source": []
  },
  {
   "cell_type": "code",
   "execution_count": null,
   "metadata": {
    "collapsed": true
   },
   "outputs": [],
   "source": []
  },
  {
   "cell_type": "code",
   "execution_count": null,
   "metadata": {
    "collapsed": true
   },
   "outputs": [],
   "source": []
  },
  {
   "cell_type": "code",
   "execution_count": null,
   "metadata": {
    "collapsed": true
   },
   "outputs": [],
   "source": []
  },
  {
   "cell_type": "code",
   "execution_count": null,
   "metadata": {
    "collapsed": true
   },
   "outputs": [],
   "source": []
  }
 ],
 "metadata": {
  "kernelspec": {
   "display_name": "Python 3",
   "language": "python",
   "name": "python3"
  },
  "language_info": {
   "codemirror_mode": {
    "name": "ipython",
    "version": 3
   },
   "file_extension": ".py",
   "mimetype": "text/x-python",
   "name": "python",
   "nbconvert_exporter": "python",
   "pygments_lexer": "ipython3",
   "version": "3.5.1"
  }
 },
 "nbformat": 4,
 "nbformat_minor": 0
}
