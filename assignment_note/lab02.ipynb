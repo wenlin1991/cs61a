{
 "cells": [
  {
   "cell_type": "markdown",
   "metadata": {},
   "source": [
    "### Lambdas"
   ]
  },
  {
   "cell_type": "markdown",
   "metadata": {},
   "source": [
    "`Lambda` expressions are one-line functions that specify two things: the parameters and the return value."
   ]
  },
  {
   "cell_type": "markdown",
   "metadata": {},
   "source": [
    "Syntax: <parameters>:<return value>"
   ]
  },
  {
   "cell_type": "markdown",
   "metadata": {},
   "source": [
    "##### Differences between lambda and def"
   ]
  },
  {
   "cell_type": "markdown",
   "metadata": {},
   "source": [
    "- Type:\n",
    "  - lambda: An expression\n",
    "  - def: A statement\n",
    "- Description:\n",
    "  - Evaluating a lambda expression does not create or modify any variables. Lambda expressions just create new function objects.\n",
    "  - Executing a def statement will create a new function object and bind it to a variable in the current environment."
   ]
  },
  {
   "cell_type": "markdown",
   "metadata": {},
   "source": [
    "A lambda expression by itself is not very interesting. As with any objects such as numbers, booleans, strings, we usually:\n",
    "- assign lambda to variables (foo = lambda x: x)\n",
    "- pass them into other functions (bar(lambda x: x))"
   ]
  },
  {
   "cell_type": "markdown",
   "metadata": {},
   "source": [
    "### Question 1: WWPP: Lambda the Free"
   ]
  },
  {
   "cell_type": "code",
   "execution_count": 1,
   "metadata": {
    "collapsed": false
   },
   "outputs": [
    {
     "data": {
      "text/plain": [
       "16"
      ]
     },
     "execution_count": 1,
     "metadata": {},
     "output_type": "execute_result"
    }
   ],
   "source": [
    ">>> lambda x: x\n",
    "# Function\n",
    "# <function <lambda> at ...>\n",
    "\n",
    ">>> a = lambda x:x \n",
    ">>> a(5)\n",
    "# Function\n",
    "# 5\n",
    "\n",
    ">>> b = lambda: 3\n",
    ">>> b()\n",
    "# Error\n",
    "# 3\n",
    "\n",
    ">>> c = lambda x: lambda: print('123')\n",
    ">>> c(88)\n",
    "# Function\n",
    "# <function <lambda> at ...>\n",
    "\n",
    ">>> d = lambda f: f(4) \n",
    ">>> def square(x):\n",
    "    return x * x\n",
    ">>> d(square)\n",
    "# Error\n",
    "# 16"
   ]
  },
  {
   "cell_type": "markdown",
   "metadata": {},
   "source": [
    "- Lambda can have no parameters, example 3 above\n",
    "- Write the outcome when the function return a value\n",
    "- When calling lambda, we need add ( ) if the lambda has no parameters"
   ]
  },
  {
   "cell_type": "code",
   "execution_count": null,
   "metadata": {
    "collapsed": true
   },
   "outputs": [],
   "source": [
    ">>> t = lambda f: lambda x: f(f(f(x)))\n",
    ">>> s = lambda x: x + 1\n",
    ">>> t(s)(0)\n",
    "# 3\n",
    "\n",
    ">>> bar = lambda y: lambda x: pow(x, y)\n",
    ">>> bar()(15)\n",
    "# Error <lambda specify two parameters>\n",
    "\n",
    ">>> foo = lambda: 32\n",
    ">>> foobar = lambda x, y: x // y\n",
    ">>> a = lambda x: foobar(foo(), bar(4)(x))\n",
    ">>> a(2)\n",
    "# 2\n",
    "\n",
    ">>> b = lambda x, y: print('summer')\n",
    "# Function\n",
    "\n",
    ">>> c = b(4, 'dog')\n",
    "# summer\n",
    "\n",
    ">>> print(c)\n",
    "# None\n"
   ]
  },
  {
   "cell_type": "markdown",
   "metadata": {},
   "source": [
    "### Question 2: Lambda the Environment Diagram"
   ]
  },
  {
   "cell_type": "code",
   "execution_count": 5,
   "metadata": {
    "collapsed": false
   },
   "outputs": [
    {
     "data": {
      "text/plain": [
       "21"
      ]
     },
     "execution_count": 5,
     "metadata": {},
     "output_type": "execute_result"
    }
   ],
   "source": [
    ">>> a = lambda x: x * 2 + 1\n",
    ">>> def b(b, x):\n",
    "    return b(x + a(x))\n",
    ">>> x = 3\n",
    ">>> b(a,x)"
   ]
  },
  {
   "cell_type": "markdown",
   "metadata": {},
   "source": [
    "- Don't be fooled by the parameters, the first parameter in function b is b, which is a parameter only, not the function b itself.\n",
    "- When function b get called, first parameter of b is a."
   ]
  },
  {
   "cell_type": "markdown",
   "metadata": {},
   "source": [
    "### Question 3: Lambdas and Currying"
   ]
  },
  {
   "cell_type": "markdown",
   "metadata": {},
   "source": [
    "We can transfrom multiple-argument functions into a chain of single-argument, heigher order functions by taking advantage of lambda expressions. This is useful when dealing with functions that take only single-argument functions. "
   ]
  },
  {
   "cell_type": "code",
   "execution_count": 6,
   "metadata": {
    "collapsed": true
   },
   "outputs": [],
   "source": [
    "def lambda_curry2(func):\n",
    "    \"\"\"\n",
    "    Returns a Curried version of a two argument function func.\n",
    "    >>> from operator import add\n",
    "    >>> x = lambda_curry2(add)\n",
    "    >>> y = x(3)\n",
    "    >>> y(5)\n",
    "    8\n",
    "    \"\"\"\n",
    "    def g(arg1):\n",
    "        def h(arg2):\n",
    "            return func(arg1, arg2)\n",
    "        return h\n",
    "    return g\n",
    "# return lambda arg1: lambda arg2: func(arg1, arg2)"
   ]
  },
  {
   "cell_type": "code",
   "execution_count": 9,
   "metadata": {
    "collapsed": false
   },
   "outputs": [
    {
     "data": {
      "text/plain": [
       "8"
      ]
     },
     "execution_count": 9,
     "metadata": {},
     "output_type": "execute_result"
    }
   ],
   "source": [
    "from operator import add\n",
    "x = lambda_curry2(add)\n",
    "y = x(3)\n",
    "y(5)"
   ]
  },
  {
   "cell_type": "markdown",
   "metadata": {},
   "source": [
    "### Higher Order Functions"
   ]
  },
  {
   "cell_type": "markdown",
   "metadata": {},
   "source": [
    "A higher order function is a function that manipulates other functions by taking in functions as arguments, returning a function, or both. "
   ]
  },
  {
   "cell_type": "markdown",
   "metadata": {},
   "source": [
    "#### Question 4: WWPP: Higher Order Functions"
   ]
  },
  {
   "cell_type": "code",
   "execution_count": 10,
   "metadata": {
    "collapsed": true
   },
   "outputs": [],
   "source": [
    "def first(x):\n",
    "    x += 8\n",
    "    def second(y):\n",
    "        print('second')\n",
    "        return x + y\n",
    "    print('first')\n",
    "    return second"
   ]
  },
  {
   "cell_type": "code",
   "execution_count": 11,
   "metadata": {
    "collapsed": false
   },
   "outputs": [
    {
     "name": "stdout",
     "output_type": "stream",
     "text": [
      "first\n"
     ]
    }
   ],
   "source": [
    "f = first(15)\n",
    "# Error"
   ]
  },
  {
   "cell_type": "code",
   "execution_count": 12,
   "metadata": {
    "collapsed": false
   },
   "outputs": [
    {
     "data": {
      "text/plain": [
       "<function __main__.first.<locals>.second>"
      ]
     },
     "execution_count": 12,
     "metadata": {},
     "output_type": "execute_result"
    }
   ],
   "source": [
    "f\n",
    "# function"
   ]
  },
  {
   "cell_type": "code",
   "execution_count": 13,
   "metadata": {
    "collapsed": false
   },
   "outputs": [
    {
     "name": "stdout",
     "output_type": "stream",
     "text": [
      "second\n"
     ]
    },
    {
     "data": {
      "text/plain": [
       "39"
      ]
     },
     "execution_count": 13,
     "metadata": {},
     "output_type": "execute_result"
    }
   ],
   "source": [
    "f(16)\n",
    "# second\n",
    "# first\n",
    "# 39"
   ]
  },
  {
   "cell_type": "markdown",
   "metadata": {},
   "source": [
    "- In [11]: second is a function defined inside first. When first takes only one argument, second hasn't been called. \n",
    "- http://pythontutor.com/composingprograms.html#code=def+first(x%29%3A%0A++++x+%2B%3D+8%0A++++def+second(y%29%3A%0A++++++++print('second'%29%0A++++++++return+x+%2B+y%0A++++print('first'%29%0A++++return+second%0A++++%0Af+%3D+first(15%29&mode=display&origin=composingprograms.js&cumulative=true&py=3&rawInputLstJSON=%5B%5D&curInstr=6"
   ]
  },
  {
   "cell_type": "markdown",
   "metadata": {},
   "source": [
    "#### Question 5: Adder Function "
   ]
  },
  {
   "cell_type": "code",
   "execution_count": 14,
   "metadata": {
    "collapsed": true
   },
   "outputs": [],
   "source": [
    "def adder(f1, f2):\n",
    "    def adder_helper(x):\n",
    "        return f1(x) + f2(x)\n",
    "    return adder_helper\n",
    "# return lambda x: f1(x) + f2(x)"
   ]
  },
  {
   "cell_type": "code",
   "execution_count": 16,
   "metadata": {
    "collapsed": false
   },
   "outputs": [
    {
     "data": {
      "text/plain": [
       "20"
      ]
     },
     "execution_count": 16,
     "metadata": {},
     "output_type": "execute_result"
    }
   ],
   "source": [
    "identity = lambda x: x\n",
    "square = lambda x: x ** 2\n",
    "a1 = adder(identity, square)\n",
    "a1(4)"
   ]
  },
  {
   "cell_type": "markdown",
   "metadata": {},
   "source": [
    "### Recursion "
   ]
  },
  {
   "cell_type": "markdown",
   "metadata": {},
   "source": [
    "A recursive function is a function that calls itself in its body, either directly or indirectly. Recursive functions have three important components:\n",
    "- Base case(s): the simplest possible form of the problem you're trying to solve.\n",
    "- Recursive case(s), where the function calls itself with a simpler argument as part of the computation. \n",
    "- Using the recursive calls to solve the full problem."
   ]
  },
  {
   "cell_type": "markdown",
   "metadata": {},
   "source": [
    "How to start write a recursive function:\n",
    "- Consider how you can solve the current problem using the solution to a simpler version of the problem. Remember to trust the recursion: assume that your solution to the simpler problem works correctly without worrying about how.\n",
    "\n",
    "- Think about what the answer would be in the simplest possible case(s). These will be your base cases - the stopping points for your recursive calls. Make sure to consider the possibility that you're missing base cases (this is a common way recursive solutions fail).\n",
    "\n",
    "- It may help to write the iterative version first.\n"
   ]
  },
  {
   "cell_type": "markdown",
   "metadata": {},
   "source": [
    "#### Question 6"
   ]
  },
  {
   "cell_type": "code",
   "execution_count": 18,
   "metadata": {
    "collapsed": false
   },
   "outputs": [
    {
     "data": {
      "text/plain": [
       "120"
      ]
     },
     "execution_count": 18,
     "metadata": {},
     "output_type": "execute_result"
    }
   ],
   "source": [
    "def factorial(n):\n",
    "    if n == 0:\n",
    "        return 1\n",
    "    return n * factorial(n-1)\n",
    "\n",
    "factorial(5)"
   ]
  },
  {
   "cell_type": "markdown",
   "metadata": {},
   "source": [
    "#### Question 7"
   ]
  },
  {
   "cell_type": "code",
   "execution_count": 19,
   "metadata": {
    "collapsed": true
   },
   "outputs": [],
   "source": [
    "def skip_mul(n):\n",
    "    if n == 0:\n",
    "        return 0\n",
    "    elif n == 1:\n",
    "        return 1\n",
    "    return n * skip_mul(n-2)"
   ]
  },
  {
   "cell_type": "code",
   "execution_count": 20,
   "metadata": {
    "collapsed": false
   },
   "outputs": [
    {
     "data": {
      "text/plain": [
       "15"
      ]
     },
     "execution_count": 20,
     "metadata": {},
     "output_type": "execute_result"
    }
   ],
   "source": [
    "skip_mul(5)"
   ]
  },
  {
   "cell_type": "markdown",
   "metadata": {},
   "source": [
    "#### Question 8"
   ]
  },
  {
   "cell_type": "code",
   "execution_count": 30,
   "metadata": {
    "collapsed": true
   },
   "outputs": [],
   "source": [
    "def count_up(n):\n",
    "    def counter(i):\n",
    "        if i <= n:\n",
    "            print(i)\n",
    "            counter(i+1)\n",
    "    counter(1)"
   ]
  },
  {
   "cell_type": "code",
   "execution_count": 31,
   "metadata": {
    "collapsed": false
   },
   "outputs": [
    {
     "name": "stdout",
     "output_type": "stream",
     "text": [
      "1\n",
      "2\n",
      "3\n",
      "4\n",
      "5\n"
     ]
    }
   ],
   "source": [
    "count_up(5)"
   ]
  },
  {
   "cell_type": "code",
   "execution_count": 25,
   "metadata": {
    "collapsed": false
   },
   "outputs": [
    {
     "name": "stdout",
     "output_type": "stream",
     "text": [
      "1\n",
      "2\n",
      "3\n",
      "4\n",
      "5\n"
     ]
    }
   ],
   "source": [
    "for i in range(1, 6):\n",
    "    print(i)"
   ]
  },
  {
   "cell_type": "markdown",
   "metadata": {},
   "source": [
    "- When if condition is false, the function will return None, although the function has no return statement."
   ]
  },
  {
   "cell_type": "markdown",
   "metadata": {},
   "source": [
    "#### Question 9: GCD"
   ]
  },
  {
   "cell_type": "code",
   "execution_count": 35,
   "metadata": {
    "collapsed": true
   },
   "outputs": [],
   "source": [
    "def gcd(a, b):\n",
    "    a, b = max(a,b), min(a,b)\n",
    "    if a % b == 0:\n",
    "        return b\n",
    "    return gcd(b, a % b)"
   ]
  },
  {
   "cell_type": "code",
   "execution_count": 36,
   "metadata": {
    "collapsed": false
   },
   "outputs": [
    {
     "data": {
      "text/plain": [
       "1"
      ]
     },
     "execution_count": 36,
     "metadata": {},
     "output_type": "execute_result"
    }
   ],
   "source": [
    "gcd(34, 19)"
   ]
  },
  {
   "cell_type": "code",
   "execution_count": 37,
   "metadata": {
    "collapsed": false
   },
   "outputs": [
    {
     "data": {
      "text/plain": [
       "13"
      ]
     },
     "execution_count": 37,
     "metadata": {},
     "output_type": "execute_result"
    }
   ],
   "source": [
    "gcd(39, 91)"
   ]
  },
  {
   "cell_type": "markdown",
   "metadata": {},
   "source": [
    "#### Question 10: Hailston"
   ]
  },
  {
   "cell_type": "code",
   "execution_count": 43,
   "metadata": {
    "collapsed": true
   },
   "outputs": [],
   "source": [
    "def hailstone(n):\n",
    "    count_step = 0\n",
    "    if n == 1:\n",
    "        print(n)\n",
    "    else:\n",
    "        if n % 2 == 0:\n",
    "            print(n)\n",
    "            n = n // 2\n",
    "            count_step += 1\n",
    "            hailstone(n)\n",
    "        else:\n",
    "            print(n)\n",
    "            n = n * 3 + 1\n",
    "            count_step += 1\n",
    "            hailstone(n)\n",
    "    return count_step"
   ]
  },
  {
   "cell_type": "code",
   "execution_count": 45,
   "metadata": {
    "collapsed": false
   },
   "outputs": [],
   "source": [
    "def hailstone(n):\n",
    "    print(n)\n",
    "    if n == 1:\n",
    "        return 1\n",
    "    elif n % 2 == 0:\n",
    "        return 1 + hailstone(n // 2)\n",
    "    else:\n",
    "        return 1 + hailstone(3 * n + 1)"
   ]
  },
  {
   "cell_type": "code",
   "execution_count": 46,
   "metadata": {
    "collapsed": false
   },
   "outputs": [
    {
     "name": "stdout",
     "output_type": "stream",
     "text": [
      "10\n",
      "5\n",
      "16\n",
      "8\n",
      "4\n",
      "2\n",
      "1\n"
     ]
    },
    {
     "data": {
      "text/plain": [
       "7"
      ]
     },
     "execution_count": 46,
     "metadata": {},
     "output_type": "execute_result"
    }
   ],
   "source": [
    "hailstone(10)"
   ]
  },
  {
   "cell_type": "code",
   "execution_count": 47,
   "metadata": {
    "collapsed": false
   },
   "outputs": [
    {
     "name": "stdout",
     "output_type": "stream",
     "text": [
      "10\n",
      "5\n",
      "16\n",
      "8\n",
      "4\n",
      "2\n",
      "1\n"
     ]
    }
   ],
   "source": [
    "a = hailstone(10)"
   ]
  },
  {
   "cell_type": "markdown",
   "metadata": {},
   "source": [
    "#### Question 11: Count van Count"
   ]
  },
  {
   "cell_type": "code",
   "execution_count": 49,
   "metadata": {
    "collapsed": true
   },
   "outputs": [],
   "source": [
    "def count_factors(n):\n",
    "    \"\"\"Return the number of positive factors that n has.\"\"\"\n",
    "    i, count = 1, 0\n",
    "    while i <= n:\n",
    "        if n % i == 0:\n",
    "            count += 1\n",
    "        i += 1\n",
    "    return count\n",
    "\n",
    "def count_primes(n):\n",
    "    \"\"\"Return the number of prime numbers up to and including n.\"\"\"\n",
    "    i, count = 1, 0\n",
    "    while i <= m:\n",
    "        if is_prime(i):\n",
    "            count += 1\n",
    "        return count\n",
    "    \n",
    "def is_prime(n):\n",
    "    return count_factors(n) == 2"
   ]
  },
  {
   "cell_type": "code",
   "execution_count": 50,
   "metadata": {
    "collapsed": true
   },
   "outputs": [],
   "source": [
    "def count_cond(condition):\n",
    "    def counter(n):\n",
    "        i, count = 1, 0\n",
    "        while i <= n:\n",
    "            if condition(n, i):\n",
    "                count += 1\n",
    "            i += 1\n",
    "        return count\n",
    "    return counter"
   ]
  },
  {
   "cell_type": "code",
   "execution_count": 53,
   "metadata": {
    "collapsed": false
   },
   "outputs": [
    {
     "data": {
      "text/plain": [
       "2"
      ]
     },
     "execution_count": 53,
     "metadata": {},
     "output_type": "execute_result"
    }
   ],
   "source": [
    "count_factors = count_cond(lambda n, i: n % i == 0)\n",
    "count_factors(2)"
   ]
  },
  {
   "cell_type": "markdown",
   "metadata": {},
   "source": [
    "- Since condition is a function and one of the function's parameters is inside the count_cond funtion, we need only one parameter."
   ]
  },
  {
   "cell_type": "code",
   "execution_count": 63,
   "metadata": {
    "collapsed": false
   },
   "outputs": [],
   "source": [
    "def cycle(f1, f2, f3):\n",
    "    def cycle_count(n):\n",
    "        def do_cycle(x):\n",
    "            cycles, reminder = n // 3, n % 3\n",
    "            i = 0\n",
    "            while i < cycles:\n",
    "                x = f3(f2(f1(x)))\n",
    "                i += 1\n",
    "            if reminder == 1:\n",
    "                x = f1(x)\n",
    "            if reminder == 2:\n",
    "                x = f2(f1(x))\n",
    "            return x\n",
    "        return do_cycle\n",
    "    return cycle_count"
   ]
  },
  {
   "cell_type": "code",
   "execution_count": 64,
   "metadata": {
    "collapsed": false
   },
   "outputs": [
    {
     "data": {
      "text/plain": [
       "[0, 1, 2, 3]"
      ]
     },
     "execution_count": 64,
     "metadata": {},
     "output_type": "execute_result"
    }
   ],
   "source": [
    "[num for num in range(0, 4)]"
   ]
  },
  {
   "cell_type": "code",
   "execution_count": 65,
   "metadata": {
    "collapsed": true
   },
   "outputs": [],
   "source": [
    "def add1(x):\n",
    "    return x + 1\n",
    "def times2(x):\n",
    "    return x * 2\n",
    "def add3(x):\n",
    "    return x + 3\n",
    "my_cycle = cycle(add1, times2, add3)"
   ]
  },
  {
   "cell_type": "code",
   "execution_count": 66,
   "metadata": {
    "collapsed": false
   },
   "outputs": [
    {
     "data": {
      "text/plain": [
       "5"
      ]
     },
     "execution_count": 66,
     "metadata": {},
     "output_type": "execute_result"
    }
   ],
   "source": [
    "identity = my_cycle(0)\n",
    "identity(5)"
   ]
  },
  {
   "cell_type": "code",
   "execution_count": null,
   "metadata": {
    "collapsed": true
   },
   "outputs": [],
   "source": []
  }
 ],
 "metadata": {
  "kernelspec": {
   "display_name": "Python 3",
   "language": "python",
   "name": "python3"
  },
  "language_info": {
   "codemirror_mode": {
    "name": "ipython",
    "version": 3
   },
   "file_extension": ".py",
   "mimetype": "text/x-python",
   "name": "python",
   "nbconvert_exporter": "python",
   "pygments_lexer": "ipython3",
   "version": "3.5.1"
  }
 },
 "nbformat": 4,
 "nbformat_minor": 0
}
