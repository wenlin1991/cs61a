{
 "cells": [
  {
   "cell_type": "markdown",
   "metadata": {},
   "source": [
    "### Nonlocal and Object-Oriented Programming"
   ]
  },
  {
   "cell_type": "markdown",
   "metadata": {},
   "source": [
    "Before we get to object-oriented programming, let's do a quick introduction to how to use the nonlocal keyword. Consider the following function:"
   ]
  },
  {
   "cell_type": "code",
   "execution_count": 1,
   "metadata": {
    "collapsed": true
   },
   "outputs": [],
   "source": [
    "def make_counter():\n",
    "    \"\"\"Makes a counter function.\n",
    "    \n",
    "    >>> counter = make_counter()\n",
    "    >>> counter()\n",
    "    1\n",
    "    >>> counter()\n",
    "    2\n",
    "    \"\"\"\n",
    "    count = 0\n",
    "    def counter():\n",
    "        count = count + 1\n",
    "        return count \n",
    "    return counter"
   ]
  },
  {
   "cell_type": "markdown",
   "metadata": {},
   "source": [
    "Running this function's doctests, we find that it causes the following error:"
   ]
  },
  {
   "cell_type": "markdown",
   "metadata": {},
   "source": [
    "> UnboundLocalError: local variable 'count' referenced before assignment"
   ]
  },
  {
   "cell_type": "markdown",
   "metadata": {},
   "source": [
    "Why does this happen? When we execute an assignment statement, remember that we wither creating a new binding in our current frame or we are updating an old one in the current frame. For example, the line count = ... in counter, is creating the local variable count inside counter's frame. This assignment statement tells Python to expect a variable called count inside counter's frame, so Python will not look fin parent frames for this variable. However, notice that we tried to compute count + 1 before the local variable was created! That's why we get the UnboundLocalError."
   ]
  },
  {
   "cell_type": "markdown",
   "metadata": {},
   "source": [
    "To avoid this problem, we introduce the nonlocal keyword. It allows us to update a variable in parent frame! Note we cannot use nonlocal to modify variables in the global frame. Consider this improved example:\n"
   ]
  },
  {
   "cell_type": "code",
   "execution_count": 2,
   "metadata": {
    "collapsed": true
   },
   "outputs": [],
   "source": [
    "def make_counter():\n",
    "    count = 0\n",
    "    def counter():\n",
    "        nonlocal count\n",
    "        count = count + 1\n",
    "        return count\n",
    "    return counter"
   ]
  },
  {
   "cell_type": "markdown",
   "metadata": {},
   "source": [
    "The line nonlocal count tells Python that count will not be local to this frame, so it will look for it in parent frames. Now we can update count without running into problems. "
   ]
  },
  {
   "cell_type": "markdown",
   "metadata": {},
   "source": [
    "### Question 1: Vending Machine"
   ]
  },
  {
   "cell_type": "markdown",
   "metadata": {},
   "source": [
    "Implement the function vendding_machine, which takes in a sequence of snacks(as strings) and returns a zero-argument function. This zero-argument function will cycle through the list of snacks, returning one element from the list in order. "
   ]
  },
  {
   "cell_type": "code",
   "execution_count": 3,
   "metadata": {
    "collapsed": true
   },
   "outputs": [],
   "source": [
    "def vending_machine(snacks):\n",
    "    \"\"\"Cycles through list of snacks.\n",
    "    \n",
    "    >>> vender = vending_machine(['chips', 'chocolate', 'popcorn'])\n",
    "    >>> vender()\n",
    "    'chips'\n",
    "    >>> vender()\n",
    "    'chocolate'\n",
    "    >>> vender()\n",
    "    'popcorn'\n",
    "    >>> vender()\n",
    "    'chips'\n",
    "    >>> other = vending_machine(['brownie'])\n",
    "    >>> other()\n",
    "    'brownie'\n",
    "    >>> vender()\n",
    "    'chocolate'\n",
    "    \"\"\"\n",
    "    call_count = 0\n",
    "    def counter():\n",
    "        nonlocal call_count\n",
    "        call_count += 1\n",
    "        index = call_count % len(snacks) - 1\n",
    "        return snacks[index]\n",
    "    return counter"
   ]
  },
  {
   "cell_type": "code",
   "execution_count": 4,
   "metadata": {
    "collapsed": false
   },
   "outputs": [
    {
     "data": {
      "text/plain": [
       "'chips'"
      ]
     },
     "execution_count": 4,
     "metadata": {},
     "output_type": "execute_result"
    }
   ],
   "source": [
    "vender = vending_machine(['chips', 'chocolate', 'popcorn'])\n",
    "vender()"
   ]
  },
  {
   "cell_type": "code",
   "execution_count": 5,
   "metadata": {
    "collapsed": true
   },
   "outputs": [],
   "source": [
    "from doctest import run_docstring_examples"
   ]
  },
  {
   "cell_type": "code",
   "execution_count": 6,
   "metadata": {
    "collapsed": false
   },
   "outputs": [
    {
     "name": "stdout",
     "output_type": "stream",
     "text": [
      "Finding tests in NoName\n",
      "Trying:\n",
      "    vender = vending_machine(['chips', 'chocolate', 'popcorn'])\n",
      "Expecting nothing\n",
      "ok\n",
      "Trying:\n",
      "    vender()\n",
      "Expecting:\n",
      "    'chips'\n",
      "ok\n",
      "Trying:\n",
      "    vender()\n",
      "Expecting:\n",
      "    'chocolate'\n",
      "ok\n",
      "Trying:\n",
      "    vender()\n",
      "Expecting:\n",
      "    'popcorn'\n",
      "ok\n",
      "Trying:\n",
      "    vender()\n",
      "Expecting:\n",
      "    'chips'\n",
      "ok\n",
      "Trying:\n",
      "    other = vending_machine(['brownie'])\n",
      "Expecting nothing\n",
      "ok\n",
      "Trying:\n",
      "    other()\n",
      "Expecting:\n",
      "    'brownie'\n",
      "ok\n",
      "Trying:\n",
      "    vender()\n",
      "Expecting:\n",
      "    'chocolate'\n",
      "ok\n"
     ]
    }
   ],
   "source": [
    "run_docstring_examples(vending_machine, globals(), True)"
   ]
  },
  {
   "cell_type": "markdown",
   "metadata": {},
   "source": [
    "### What is OOP?"
   ]
  },
  {
   "cell_type": "markdown",
   "metadata": {},
   "source": [
    "Now, let's dive into OOP, a model of programming that allows you to think of data in terms of \"objects\" with their own characteristics and actions, just like objects in real life! This is "
   ]
  }
 ],
 "metadata": {
  "kernelspec": {
   "display_name": "Python 3",
   "language": "python",
   "name": "python3"
  },
  "language_info": {
   "codemirror_mode": {
    "name": "ipython",
    "version": 3
   },
   "file_extension": ".py",
   "mimetype": "text/x-python",
   "name": "python",
   "nbconvert_exporter": "python",
   "pygments_lexer": "ipython3",
   "version": "3.5.1"
  }
 },
 "nbformat": 4,
 "nbformat_minor": 0
}
