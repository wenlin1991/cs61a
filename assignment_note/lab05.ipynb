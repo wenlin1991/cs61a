{
 "cells": [
  {
   "cell_type": "markdown",
   "metadata": {},
   "source": [
    "# Mutable Lists, Dictionaries and Trees"
   ]
  },
  {
   "cell_type": "markdown",
   "metadata": {},
   "source": [
    "## List Mutation"
   ]
  },
  {
   "cell_type": "markdown",
   "metadata": {},
   "source": [
    "### Question 1: Map"
   ]
  },
  {
   "cell_type": "markdown",
   "metadata": {},
   "source": [
    "Write a function that maps a function on the given list. Be sure to mutate the original list."
   ]
  },
  {
   "cell_type": "markdown",
   "metadata": {},
   "source": [
    "> This function should NOT return anything. This is to emphasize that this function should utilize mutability. "
   ]
  },
  {
   "cell_type": "code",
   "execution_count": 1,
   "metadata": {
    "collapsed": true
   },
   "outputs": [],
   "source": [
    "def map(fn, lst):\n",
    "    \"\"\"Maps fn onto lst using mutation.\n",
    "    >>> original_list = [5, -1, 2, 0]\n",
    "    >>> map(lambda x: x * x, original_list)\n",
    "    >>> original_list\n",
    "    [25, 1, 4, 0]\n",
    "    \"\"\"\n",
    "    for i in range(len(lst)):\n",
    "        lst[i] = fn(lst[i])\n",
    "        \n",
    "from doctest import run_docstring_examples"
   ]
  },
  {
   "cell_type": "code",
   "execution_count": 2,
   "metadata": {
    "collapsed": false
   },
   "outputs": [
    {
     "name": "stdout",
     "output_type": "stream",
     "text": [
      "Finding tests in NoName\n",
      "Trying:\n",
      "    original_list = [5, -1, 2, 0]\n",
      "Expecting nothing\n",
      "ok\n",
      "Trying:\n",
      "    map(lambda x: x * x, original_list)\n",
      "Expecting nothing\n",
      "ok\n",
      "Trying:\n",
      "    original_list\n",
      "Expecting:\n",
      "    [25, 1, 4, 0]\n",
      "ok\n"
     ]
    }
   ],
   "source": [
    "run_docstring_examples(map, globals(), True)"
   ]
  },
  {
   "cell_type": "code",
   "execution_count": 3,
   "metadata": {
    "collapsed": true
   },
   "outputs": [],
   "source": [
    "# Recursive version from CS61A Answer\n",
    "def map(fn, lst):\n",
    "    \"\"\"Maps fn onto lst using mutation.\n",
    "    >>> original_list = [5, -1, 2, 0]\n",
    "    >>> map(lambda x: x * x, original_list)\n",
    "    >>> original_list\n",
    "    [25, 1, 4, 0]\n",
    "    \"\"\"\n",
    "    if lst:\n",
    "        temp = lst.pop(0)\n",
    "        map(fn, lst)\n",
    "        lst.insert(0, fn(temp))"
   ]
  },
  {
   "cell_type": "markdown",
   "metadata": {},
   "source": [
    "## Dictionaries"
   ]
  },
  {
   "cell_type": "markdown",
   "metadata": {},
   "source": [
    "Dictionaries are unordered sets of key-value pairs. Keys can only be immutable types(strings, numbers, tuples), but their corresponding value can be anything! To create a dictionary, use the following syntax:"
   ]
  },
  {
   "cell_type": "code",
   "execution_count": 4,
   "metadata": {
    "collapsed": true
   },
   "outputs": [],
   "source": [
    "singers = {'Adele': 'Hello', 1975: 'Chocolate', 'The weeknd': ['The Hills', 'Earned It']}"
   ]
  },
  {
   "cell_type": "markdown",
   "metadata": {},
   "source": [
    "The curly braces denote the key-value pairs in your dictionary. Each key-value pair is separated by a comma. For each pair, the key appears to the left of the colon and the value appears to the rightf of the colon. Note keys/values do not all have to be the same type, as you can see we have strings, integers and lists! You can retrieve values from your dictionary by \"indexing\" using the key:"
   ]
  },
  {
   "cell_type": "code",
   "execution_count": 5,
   "metadata": {
    "collapsed": false
   },
   "outputs": [
    {
     "data": {
      "text/plain": [
       "'Chocolate'"
      ]
     },
     "execution_count": 5,
     "metadata": {},
     "output_type": "execute_result"
    }
   ],
   "source": [
    "singers[1975]"
   ]
  },
  {
   "cell_type": "code",
   "execution_count": 6,
   "metadata": {
    "collapsed": true
   },
   "outputs": [],
   "source": [
    "songs = singers['The weeknd']"
   ]
  },
  {
   "cell_type": "code",
   "execution_count": 8,
   "metadata": {
    "collapsed": false
   },
   "outputs": [
    {
     "data": {
      "text/plain": [
       "'The Hills'"
      ]
     },
     "execution_count": 8,
     "metadata": {},
     "output_type": "execute_result"
    }
   ],
   "source": [
    "songs[0]"
   ]
  },
  {
   "cell_type": "markdown",
   "metadata": {},
   "source": [
    "You can add an entry or update an entry for an existing key in the dictionary using the following syntax. Note they are identical syntax, so be careful!"
   ]
  },
  {
   "cell_type": "code",
   "execution_count": 9,
   "metadata": {
    "collapsed": false
   },
   "outputs": [
    {
     "data": {
      "text/plain": [
       "'Rolling in the Deep'"
      ]
     },
     "execution_count": 9,
     "metadata": {},
     "output_type": "execute_result"
    }
   ],
   "source": [
    "singers['Adele'] = 'Rolling in the Deep'\n",
    "singers['Adele']"
   ]
  },
  {
   "cell_type": "code",
   "execution_count": 10,
   "metadata": {
    "collapsed": false
   },
   "outputs": [
    {
     "data": {
      "text/plain": [
       "'心升明月'"
      ]
     },
     "execution_count": 10,
     "metadata": {},
     "output_type": "execute_result"
    }
   ],
   "source": [
    "singers['Li Jian'] = '心升明月' # new entry!\n",
    "singers['Li Jian']"
   ]
  },
  {
   "cell_type": "markdown",
   "metadata": {},
   "source": [
    "You can also check for membership of keys!"
   ]
  },
  {
   "cell_type": "code",
   "execution_count": 11,
   "metadata": {
    "collapsed": false
   },
   "outputs": [
    {
     "data": {
      "text/plain": [
       "True"
      ]
     },
     "execution_count": 11,
     "metadata": {},
     "output_type": "execute_result"
    }
   ],
   "source": [
    "'Li Jian' in singers"
   ]
  },
  {
   "cell_type": "markdown",
   "metadata": {},
   "source": [
    "### Question 2: WWPP: Dictioaries"
   ]
  },
  {
   "cell_type": "markdown",
   "metadata": {},
   "source": [
    "#### What would Python print?"
   ]
  },
  {
   "cell_type": "code",
   "execution_count": 12,
   "metadata": {
    "collapsed": false
   },
   "outputs": [
    {
     "data": {
      "text/plain": [
       "25"
      ]
     },
     "execution_count": 12,
     "metadata": {},
     "output_type": "execute_result"
    }
   ],
   "source": [
    "pokemon = {'pikachu': 25, 'dragonair': 148, 'mew': 151}\n",
    "pokemon['pikachu']"
   ]
  },
  {
   "cell_type": "code",
   "execution_count": 13,
   "metadata": {
    "collapsed": false
   },
   "outputs": [
    {
     "data": {
      "text/plain": [
       "3"
      ]
     },
     "execution_count": 13,
     "metadata": {},
     "output_type": "execute_result"
    }
   ],
   "source": [
    "len(pokemon)\n",
    "# 3"
   ]
  },
  {
   "cell_type": "code",
   "execution_count": 15,
   "metadata": {
    "collapsed": false
   },
   "outputs": [
    {
     "data": {
      "text/plain": [
       "5"
      ]
     },
     "execution_count": 15,
     "metadata": {},
     "output_type": "execute_result"
    }
   ],
   "source": [
    "pokemon['jolteon'] = 135 # Add new entry\n",
    "pokemon['ditto'] = 25\n",
    "len(pokemon)\n",
    "# 5"
   ]
  },
  {
   "cell_type": "code",
   "execution_count": 16,
   "metadata": {
    "collapsed": false
   },
   "outputs": [
    {
     "data": {
      "text/plain": [
       "['ditto', 'dragonair', 'jolteon', 'mew', 'pikachu']"
      ]
     },
     "execution_count": 16,
     "metadata": {},
     "output_type": "execute_result"
    }
   ],
   "source": [
    "sorted(list(pokemon.keys())) # Alphabetically sorted list of pokemon's keys"
   ]
  },
  {
   "cell_type": "code",
   "execution_count": 17,
   "metadata": {
    "collapsed": false
   },
   "outputs": [
    {
     "data": {
      "text/plain": [
       "['ditto', 'dragonair', 'jolteon', 'mew', 'pikachu']"
      ]
     },
     "execution_count": 17,
     "metadata": {},
     "output_type": "execute_result"
    }
   ],
   "source": [
    "pokemon['ditto'] = pokemon['jolteon']\n",
    "sorted(list(pokemon.keys()))"
   ]
  },
  {
   "cell_type": "code",
   "execution_count": 18,
   "metadata": {
    "collapsed": false
   },
   "outputs": [
    {
     "data": {
      "text/plain": [
       "135"
      ]
     },
     "execution_count": 18,
     "metadata": {},
     "output_type": "execute_result"
    }
   ],
   "source": [
    "pokemon['ditto'] \n",
    "# 135"
   ]
  },
  {
   "cell_type": "markdown",
   "metadata": {},
   "source": [
    "### Question 3: Replace All"
   ]
  },
  {
   "cell_type": "markdown",
   "metadata": {},
   "source": [
    "Give a dictionary d, replace all occurrences of x as a value (not a key) with y. "
   ]
  },
  {
   "cell_type": "markdown",
   "metadata": {},
   "source": [
    "> Hint: To loop the keys of a dictionary use `for key in d:`."
   ]
  },
  {
   "cell_type": "code",
   "execution_count": 29,
   "metadata": {
    "collapsed": false
   },
   "outputs": [],
   "source": [
    "def replace_all(d, x, y):\n",
    "    \"\"\"Replace all occurrences of x as a value (not a key) in d with y.\n",
    "    >>> d = {3: '3', 'foo':2, 'bar': 3, 'garply': 3, 'xyzzy': 99}\n",
    "    >>> replace_all(d, 3, 'poof')\n",
    "    >>> d == {3: '3', 'foo': 2, 'bar': 'poof', 'garply': 'poof', 'xyzzy': 99}\n",
    "    True\n",
    "    \"\"\"\n",
    "    replace_key = []\n",
    "    for key in d:\n",
    "        if d[key] == x:\n",
    "            replace_key.append(key)\n",
    "    count = len(replace_key)\n",
    "    while count > 0:\n",
    "        d[replace_key[count-1]] = y\n",
    "        count = count -1\n",
    "        "
   ]
  },
  {
   "cell_type": "code",
   "execution_count": 30,
   "metadata": {
    "collapsed": false
   },
   "outputs": [
    {
     "data": {
      "text/plain": [
       "{'xyzzy': 99, 'foo': 2, 3: '3', 'garply': 'poof', 'bar': 'poof'}"
      ]
     },
     "execution_count": 30,
     "metadata": {},
     "output_type": "execute_result"
    }
   ],
   "source": [
    "d = {3: '3', 'foo':2, 'bar': 3, 'garply': 3, 'xyzzy': 99}\n",
    "replace_all(d, 3, 'poof')\n",
    "d"
   ]
  },
  {
   "cell_type": "code",
   "execution_count": 31,
   "metadata": {
    "collapsed": false
   },
   "outputs": [
    {
     "name": "stdout",
     "output_type": "stream",
     "text": [
      "Finding tests in NoName\n",
      "Trying:\n",
      "    d = {3: '3', 'foo':2, 'bar': 3, 'garply': 3, 'xyzzy': 99}\n",
      "Expecting nothing\n",
      "ok\n",
      "Trying:\n",
      "    replace_all(d, 3, 'poof')\n",
      "Expecting nothing\n",
      "ok\n",
      "Trying:\n",
      "    d == {3: '3', 'foo': 2, 'bar': 'poof', 'garply': 'poof', 'xyzzy': 99}\n",
      "Expecting:\n",
      "    True\n",
      "ok\n"
     ]
    }
   ],
   "source": [
    "run_docstring_examples(replace_all, globals(), True)"
   ]
  },
  {
   "cell_type": "code",
   "execution_count": 32,
   "metadata": {
    "collapsed": true
   },
   "outputs": [],
   "source": [
    "# Answer from CS61A Professor\n",
    "def replace_all(d, x, y):\n",
    "    for key in d:\n",
    "        if d[key] == x:\n",
    "            d[key] = y"
   ]
  },
  {
   "cell_type": "markdown",
   "metadata": {},
   "source": [
    "### Question 4: Counter"
   ]
  },
  {
   "cell_type": "markdown",
   "metadata": {},
   "source": [
    "Impelment the function counter which takes in a string of words, and returns a dictionary where each key is a word in the message, and each value is the number of times that word is present in the orignal string. "
   ]
  },
  {
   "cell_type": "code",
   "execution_count": 35,
   "metadata": {
    "collapsed": false
   },
   "outputs": [
    {
     "name": "stdout",
     "output_type": "stream",
     "text": [
      "Finding tests in NoName\n",
      "Trying:\n",
      "    x = counter('to be or not to be')\n",
      "Expecting nothing\n",
      "ok\n",
      "Trying:\n",
      "    x['to']\n",
      "Expecting:\n",
      "    2\n",
      "ok\n",
      "Trying:\n",
      "    x['be']\n",
      "Expecting:\n",
      "    2\n",
      "ok\n",
      "Trying:\n",
      "    x['not']\n",
      "Expecting:\n",
      "    1\n",
      "ok\n",
      "Trying:\n",
      "    y = counter('run forrest run')\n",
      "Expecting nothing\n",
      "ok\n",
      "Trying:\n",
      "    y['run']\n",
      "Expecting:\n",
      "    2\n",
      "ok\n",
      "Trying:\n",
      "    y['forrest']\n",
      "Expecting:\n",
      "    1\n",
      "ok\n"
     ]
    }
   ],
   "source": [
    "def counter(message):\n",
    "    \"\"\"Returns a dictionary of each word in message mapped\n",
    "    to the number of times it appears in the input string.\n",
    "    \n",
    "    >>> x = counter('to be or not to be')\n",
    "    >>> x['to']\n",
    "    2\n",
    "    >>> x['be']\n",
    "    2\n",
    "    >>> x['not']\n",
    "    1\n",
    "    >>> y = counter('run forrest run')\n",
    "    >>> y['run']\n",
    "    2\n",
    "    >>> y['forrest']\n",
    "    1\n",
    "    \"\"\"\n",
    "    word_list = message.split()\n",
    "    frequency = {}\n",
    "    for element in word_list:\n",
    "        if element in frequency:\n",
    "            frequency[element] = frequency[element] + 1\n",
    "        else:\n",
    "            frequency[element] = 1\n",
    "    return frequency\n",
    "            \n",
    "run_docstring_examples(counter, globals(), True)"
   ]
  },
  {
   "cell_type": "code",
   "execution_count": null,
   "metadata": {
    "collapsed": true
   },
   "outputs": [],
   "source": []
  }
 ],
 "metadata": {
  "kernelspec": {
   "display_name": "Python 3",
   "language": "python",
   "name": "python3"
  },
  "language_info": {
   "codemirror_mode": {
    "name": "ipython",
    "version": 3
   },
   "file_extension": ".py",
   "mimetype": "text/x-python",
   "name": "python",
   "nbconvert_exporter": "python",
   "pygments_lexer": "ipython3",
   "version": "3.5.1"
  }
 },
 "nbformat": 4,
 "nbformat_minor": 0
}
