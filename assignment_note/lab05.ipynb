{
 "cells": [
  {
   "cell_type": "markdown",
   "metadata": {},
   "source": [
    "# Mutable Lists, Dictionaries and Trees"
   ]
  },
  {
   "cell_type": "markdown",
   "metadata": {},
   "source": [
    "## List Mutation"
   ]
  },
  {
   "cell_type": "markdown",
   "metadata": {},
   "source": [
    "### Question 1: Map"
   ]
  },
  {
   "cell_type": "markdown",
   "metadata": {},
   "source": [
    "Write a function that maps a function on the given list. Be sure to mutate the original list."
   ]
  },
  {
   "cell_type": "markdown",
   "metadata": {},
   "source": [
    "> This function should NOT return anything. This is to emphasize that this function should utilize mutability. "
   ]
  },
  {
   "cell_type": "code",
   "execution_count": 1,
   "metadata": {
    "collapsed": true
   },
   "outputs": [],
   "source": [
    "def map(fn, lst):\n",
    "    \"\"\"Maps fn onto lst using mutation.\n",
    "    >>> original_list = [5, -1, 2, 0]\n",
    "    >>> map(lambda x: x * x, original_list)\n",
    "    >>> original_list\n",
    "    [25, 1, 4, 0]\n",
    "    \"\"\"\n",
    "    for i in range(len(lst)):\n",
    "        lst[i] = fn(lst[i])\n",
    "        \n",
    "from doctest import run_docstring_examples"
   ]
  },
  {
   "cell_type": "code",
   "execution_count": 2,
   "metadata": {
    "collapsed": false
   },
   "outputs": [
    {
     "name": "stdout",
     "output_type": "stream",
     "text": [
      "Finding tests in NoName\n",
      "Trying:\n",
      "    original_list = [5, -1, 2, 0]\n",
      "Expecting nothing\n",
      "ok\n",
      "Trying:\n",
      "    map(lambda x: x * x, original_list)\n",
      "Expecting nothing\n",
      "ok\n",
      "Trying:\n",
      "    original_list\n",
      "Expecting:\n",
      "    [25, 1, 4, 0]\n",
      "ok\n"
     ]
    }
   ],
   "source": [
    "run_docstring_examples(map, globals(), True)"
   ]
  },
  {
   "cell_type": "code",
   "execution_count": 3,
   "metadata": {
    "collapsed": true
   },
   "outputs": [],
   "source": [
    "# Recursive version from CS61A Answer\n",
    "def map(fn, lst):\n",
    "    \"\"\"Maps fn onto lst using mutation.\n",
    "    >>> original_list = [5, -1, 2, 0]\n",
    "    >>> map(lambda x: x * x, original_list)\n",
    "    >>> original_list\n",
    "    [25, 1, 4, 0]\n",
    "    \"\"\"\n",
    "    if lst:\n",
    "        temp = lst.pop(0)\n",
    "        map(fn, lst)\n",
    "        lst.insert(0, fn(temp))"
   ]
  },
  {
   "cell_type": "markdown",
   "metadata": {},
   "source": [
    "## Dictionaries"
   ]
  },
  {
   "cell_type": "markdown",
   "metadata": {},
   "source": [
    "Dictionaries are unordered sets of key-value pairs. Keys can only be immutable types(strings, numbers, tuples), but their corresponding value can be anything! To create a dictionary, use the following syntax:"
   ]
  },
  {
   "cell_type": "code",
   "execution_count": 4,
   "metadata": {
    "collapsed": true
   },
   "outputs": [],
   "source": [
    "singers = {'Adele': 'Hello', 1975: 'Chocolate', 'The weeknd': ['The Hills', 'Earned It']}"
   ]
  },
  {
   "cell_type": "markdown",
   "metadata": {},
   "source": [
    "The curly braces denote the key-value pairs in your dictionary. Each key-value pair is separated by a comma. For each pair, the key appears to the left of the colon and the value appears to the rightf of the colon. Note keys/values do not all have to be the same type, as you can see we have strings, integers and lists! You can retrieve values from your dictionary by \"indexing\" using the key:"
   ]
  },
  {
   "cell_type": "code",
   "execution_count": 5,
   "metadata": {
    "collapsed": false
   },
   "outputs": [
    {
     "data": {
      "text/plain": [
       "'Chocolate'"
      ]
     },
     "execution_count": 5,
     "metadata": {},
     "output_type": "execute_result"
    }
   ],
   "source": [
    "singers[1975]"
   ]
  },
  {
   "cell_type": "code",
   "execution_count": 6,
   "metadata": {
    "collapsed": true
   },
   "outputs": [],
   "source": [
    "songs = singers['The weeknd']"
   ]
  },
  {
   "cell_type": "code",
   "execution_count": 8,
   "metadata": {
    "collapsed": false
   },
   "outputs": [
    {
     "data": {
      "text/plain": [
       "'The Hills'"
      ]
     },
     "execution_count": 8,
     "metadata": {},
     "output_type": "execute_result"
    }
   ],
   "source": [
    "songs[0]"
   ]
  },
  {
   "cell_type": "markdown",
   "metadata": {},
   "source": [
    "You can add an entry or update an entry for an existing key in the dictionary using the following syntax. Note they are identical syntax, so be careful!"
   ]
  },
  {
   "cell_type": "code",
   "execution_count": 9,
   "metadata": {
    "collapsed": false
   },
   "outputs": [
    {
     "data": {
      "text/plain": [
       "'Rolling in the Deep'"
      ]
     },
     "execution_count": 9,
     "metadata": {},
     "output_type": "execute_result"
    }
   ],
   "source": [
    "singers['Adele'] = 'Rolling in the Deep'\n",
    "singers['Adele']"
   ]
  },
  {
   "cell_type": "code",
   "execution_count": 10,
   "metadata": {
    "collapsed": false
   },
   "outputs": [
    {
     "data": {
      "text/plain": [
       "'心升明月'"
      ]
     },
     "execution_count": 10,
     "metadata": {},
     "output_type": "execute_result"
    }
   ],
   "source": [
    "singers['Li Jian'] = '心升明月' # new entry!\n",
    "singers['Li Jian']"
   ]
  },
  {
   "cell_type": "markdown",
   "metadata": {},
   "source": [
    "You can also check for membership of keys!"
   ]
  },
  {
   "cell_type": "code",
   "execution_count": 11,
   "metadata": {
    "collapsed": false
   },
   "outputs": [
    {
     "data": {
      "text/plain": [
       "True"
      ]
     },
     "execution_count": 11,
     "metadata": {},
     "output_type": "execute_result"
    }
   ],
   "source": [
    "'Li Jian' in singers"
   ]
  },
  {
   "cell_type": "markdown",
   "metadata": {},
   "source": [
    "### Question 2: WWPP: Dictioaries"
   ]
  },
  {
   "cell_type": "markdown",
   "metadata": {},
   "source": [
    "#### What would Python print?"
   ]
  },
  {
   "cell_type": "code",
   "execution_count": 12,
   "metadata": {
    "collapsed": false
   },
   "outputs": [
    {
     "data": {
      "text/plain": [
       "25"
      ]
     },
     "execution_count": 12,
     "metadata": {},
     "output_type": "execute_result"
    }
   ],
   "source": [
    "pokemon = {'pikachu': 25, 'dragonair': 148, 'mew': 151}\n",
    "pokemon['pikachu']"
   ]
  },
  {
   "cell_type": "code",
   "execution_count": 13,
   "metadata": {
    "collapsed": false
   },
   "outputs": [
    {
     "data": {
      "text/plain": [
       "3"
      ]
     },
     "execution_count": 13,
     "metadata": {},
     "output_type": "execute_result"
    }
   ],
   "source": [
    "len(pokemon)\n",
    "# 3"
   ]
  },
  {
   "cell_type": "code",
   "execution_count": 15,
   "metadata": {
    "collapsed": false
   },
   "outputs": [
    {
     "data": {
      "text/plain": [
       "5"
      ]
     },
     "execution_count": 15,
     "metadata": {},
     "output_type": "execute_result"
    }
   ],
   "source": [
    "pokemon['jolteon'] = 135 # Add new entry\n",
    "pokemon['ditto'] = 25\n",
    "len(pokemon)\n",
    "# 5"
   ]
  },
  {
   "cell_type": "code",
   "execution_count": 16,
   "metadata": {
    "collapsed": false
   },
   "outputs": [
    {
     "data": {
      "text/plain": [
       "['ditto', 'dragonair', 'jolteon', 'mew', 'pikachu']"
      ]
     },
     "execution_count": 16,
     "metadata": {},
     "output_type": "execute_result"
    }
   ],
   "source": [
    "sorted(list(pokemon.keys())) # Alphabetically sorted list of pokemon's keys"
   ]
  },
  {
   "cell_type": "code",
   "execution_count": 17,
   "metadata": {
    "collapsed": false
   },
   "outputs": [
    {
     "data": {
      "text/plain": [
       "['ditto', 'dragonair', 'jolteon', 'mew', 'pikachu']"
      ]
     },
     "execution_count": 17,
     "metadata": {},
     "output_type": "execute_result"
    }
   ],
   "source": [
    "pokemon['ditto'] = pokemon['jolteon']\n",
    "sorted(list(pokemon.keys()))"
   ]
  },
  {
   "cell_type": "code",
   "execution_count": 18,
   "metadata": {
    "collapsed": false
   },
   "outputs": [
    {
     "data": {
      "text/plain": [
       "135"
      ]
     },
     "execution_count": 18,
     "metadata": {},
     "output_type": "execute_result"
    }
   ],
   "source": [
    "pokemon['ditto'] \n",
    "# 135"
   ]
  },
  {
   "cell_type": "markdown",
   "metadata": {},
   "source": [
    "### Question 3: Replace All"
   ]
  },
  {
   "cell_type": "markdown",
   "metadata": {},
   "source": [
    "Give a dictionary d, replace all occurrences of x as a value (not a key) with y. "
   ]
  },
  {
   "cell_type": "markdown",
   "metadata": {},
   "source": [
    "> Hint: To loop the keys of a dictionary use `for key in d:`."
   ]
  },
  {
   "cell_type": "code",
   "execution_count": 29,
   "metadata": {
    "collapsed": false
   },
   "outputs": [],
   "source": [
    "def replace_all(d, x, y):\n",
    "    \"\"\"Replace all occurrences of x as a value (not a key) in d with y.\n",
    "    >>> d = {3: '3', 'foo':2, 'bar': 3, 'garply': 3, 'xyzzy': 99}\n",
    "    >>> replace_all(d, 3, 'poof')\n",
    "    >>> d == {3: '3', 'foo': 2, 'bar': 'poof', 'garply': 'poof', 'xyzzy': 99}\n",
    "    True\n",
    "    \"\"\"\n",
    "    replace_key = []\n",
    "    for key in d:\n",
    "        if d[key] == x:\n",
    "            replace_key.append(key)\n",
    "    count = len(replace_key)\n",
    "    while count > 0:\n",
    "        d[replace_key[count-1]] = y\n",
    "        count = count -1\n",
    "        "
   ]
  },
  {
   "cell_type": "code",
   "execution_count": 30,
   "metadata": {
    "collapsed": false
   },
   "outputs": [
    {
     "data": {
      "text/plain": [
       "{'xyzzy': 99, 'foo': 2, 3: '3', 'garply': 'poof', 'bar': 'poof'}"
      ]
     },
     "execution_count": 30,
     "metadata": {},
     "output_type": "execute_result"
    }
   ],
   "source": [
    "d = {3: '3', 'foo':2, 'bar': 3, 'garply': 3, 'xyzzy': 99}\n",
    "replace_all(d, 3, 'poof')\n",
    "d"
   ]
  },
  {
   "cell_type": "code",
   "execution_count": 31,
   "metadata": {
    "collapsed": false
   },
   "outputs": [
    {
     "name": "stdout",
     "output_type": "stream",
     "text": [
      "Finding tests in NoName\n",
      "Trying:\n",
      "    d = {3: '3', 'foo':2, 'bar': 3, 'garply': 3, 'xyzzy': 99}\n",
      "Expecting nothing\n",
      "ok\n",
      "Trying:\n",
      "    replace_all(d, 3, 'poof')\n",
      "Expecting nothing\n",
      "ok\n",
      "Trying:\n",
      "    d == {3: '3', 'foo': 2, 'bar': 'poof', 'garply': 'poof', 'xyzzy': 99}\n",
      "Expecting:\n",
      "    True\n",
      "ok\n"
     ]
    }
   ],
   "source": [
    "run_docstring_examples(replace_all, globals(), True)"
   ]
  },
  {
   "cell_type": "code",
   "execution_count": 32,
   "metadata": {
    "collapsed": true
   },
   "outputs": [],
   "source": [
    "# Answer from CS61A Professor\n",
    "def replace_all(d, x, y):\n",
    "    for key in d:\n",
    "        if d[key] == x:\n",
    "            d[key] = y"
   ]
  },
  {
   "cell_type": "markdown",
   "metadata": {},
   "source": [
    "### Question 4: Counter"
   ]
  },
  {
   "cell_type": "markdown",
   "metadata": {},
   "source": [
    "Impelment the function counter which takes in a string of words, and returns a dictionary where each key is a word in the message, and each value is the number of times that word is present in the orignal string. "
   ]
  },
  {
   "cell_type": "code",
   "execution_count": 35,
   "metadata": {
    "collapsed": false
   },
   "outputs": [
    {
     "name": "stdout",
     "output_type": "stream",
     "text": [
      "Finding tests in NoName\n",
      "Trying:\n",
      "    x = counter('to be or not to be')\n",
      "Expecting nothing\n",
      "ok\n",
      "Trying:\n",
      "    x['to']\n",
      "Expecting:\n",
      "    2\n",
      "ok\n",
      "Trying:\n",
      "    x['be']\n",
      "Expecting:\n",
      "    2\n",
      "ok\n",
      "Trying:\n",
      "    x['not']\n",
      "Expecting:\n",
      "    1\n",
      "ok\n",
      "Trying:\n",
      "    y = counter('run forrest run')\n",
      "Expecting nothing\n",
      "ok\n",
      "Trying:\n",
      "    y['run']\n",
      "Expecting:\n",
      "    2\n",
      "ok\n",
      "Trying:\n",
      "    y['forrest']\n",
      "Expecting:\n",
      "    1\n",
      "ok\n"
     ]
    }
   ],
   "source": [
    "def counter(message):\n",
    "    \"\"\"Returns a dictionary of each word in message mapped\n",
    "    to the number of times it appears in the input string.\n",
    "    \n",
    "    >>> x = counter('to be or not to be')\n",
    "    >>> x['to']\n",
    "    2\n",
    "    >>> x['be']\n",
    "    2\n",
    "    >>> x['not']\n",
    "    1\n",
    "    >>> y = counter('run forrest run')\n",
    "    >>> y['run']\n",
    "    2\n",
    "    >>> y['forrest']\n",
    "    1\n",
    "    \"\"\"\n",
    "    word_list = message.split()\n",
    "    frequency = {}\n",
    "    for element in word_list:\n",
    "        if element in frequency:\n",
    "            frequency[element] = frequency[element] + 1\n",
    "        else:\n",
    "            frequency[element] = 1\n",
    "    return frequency\n",
    "            \n",
    "run_docstring_examples(counter, globals(), True)"
   ]
  },
  {
   "cell_type": "markdown",
   "metadata": {},
   "source": [
    "## Trees"
   ]
  },
  {
   "cell_type": "markdown",
   "metadata": {},
   "source": [
    "A tree is a data structure that represents a hierarchy of infromation. A file system is a good example of a tree structure.\n"
   ]
  },
  {
   "cell_type": "markdown",
   "metadata": {},
   "source": [
    "As you can see, unlike trees in nature, which is where this data structure gets its name from, CS trees are drawn with the root at the top dand the leaves at the bottom. \n",
    "  - node: a single unit in a treea.\n",
    "  - root: the node at the top of a tree; every tree has one root node and the node's data we call its label. \n",
    "  - child: a child of a larger tree; has its own root and possibly children of its own. \n",
    "  - subtree: a descendant of a larger tree; a subtree is either a child or a subtree of a child of a larfer tree.\n",
    "  - leaf: a node that has no children."
   ]
  },
  {
   "cell_type": "markdown",
   "metadata": {},
   "source": [
    "Our tree abstract data type consists of a root node and a list of its children. To create a tree and access its root and children use the following constructor and selector:\n",
    "  - Constructor:\n",
    "    - tree(label, children=[]): creates a tree object with the given label at its root and list of children. \n",
    "  - Selectors\n",
    "    - label(tree): returns the vlaue (or label) of the root of the tree.\n",
    "    - children(tree): returns the list of children of the given tree.\n",
    "    - is_leaf(tree): returns True if tree's list of children is empty, and False otherwise. \n",
    "    "
   ]
  },
  {
   "cell_type": "code",
   "execution_count": 36,
   "metadata": {
    "collapsed": true
   },
   "outputs": [],
   "source": [
    "## Tree ADT ##\n",
    "def tree(label, children=[]):\n",
    "    for child in children:\n",
    "        assert is_tree(child), 'children must be trees'\n",
    "    return [label] + list(children)\n",
    "\n",
    "\n",
    "def label(tree):\n",
    "    return tree[0]\n",
    "\n",
    "\n",
    "def children(tree):\n",
    "    return tree[1:]\n",
    "\n",
    "\n",
    "def is_tree(tree):\n",
    "    if type(tree) != list or len(tree) < 1:\n",
    "        return False\n",
    "    for child in children(tree):\n",
    "        if not is_tree(child):\n",
    "            return False\n",
    "    return True\n",
    "\n",
    "\n",
    "def is_leaf(tree):\n",
    "    return not children(tree)\n",
    "\n",
    "\n",
    "def print_tree(t, indent=0):\n",
    "    \"\"\"Print a representation of this tree in which each node is\n",
    "    indented by two spaces times its depth from the label.\n",
    "\n",
    "    >>> print_tree(tree(1))\n",
    "    1\n",
    "    >>> print_tree(tree(1, [tree(2)]))\n",
    "    1\n",
    "      2\n",
    "    >>> numbers = tree(1, [tree(2), tree(3, [tree(4), tree(5)]), tree(6, [tree(7)])])\n",
    "    >>> print_tree(numbers)\n",
    "    1\n",
    "      2\n",
    "      3\n",
    "        4\n",
    "        5\n",
    "      6\n",
    "        7\n",
    "    \"\"\"\n",
    "    print('  ' * indent + str(label(t)))\n",
    "    for child in children(t):\n",
    "        print_tree(child, indent + 1)\n",
    "\n",
    "\n",
    "def copy_tree(t):\n",
    "    \"\"\"Returns a copy of t. Only for testing purposes.\n",
    "\n",
    "    >>> t = tree(5)\n",
    "    >>> copy = copy_tree(t)\n",
    "    >>> t = tree(6)\n",
    "    >>> print_tree(copy)\n",
    "    5\n",
    "    \"\"\"\n",
    "    return tree(label(t), [copy_tree(child) for child in children(t)])\n"
   ]
  },
  {
   "cell_type": "markdown",
   "metadata": {},
   "source": [
    "### Question 5: Height 7 Depth"
   ]
  },
  {
   "cell_type": "markdown",
   "metadata": {},
   "source": [
    "The depth of a node in a tree is defined as the number of edges between that node and the root. The root has dept 0, its children have depth 1, and so on. "
   ]
  },
  {
   "cell_type": "markdown",
   "metadata": {},
   "source": [
    "The height of a tree is the depth of the lowest leaf (furthest away from the root).)"
   ]
  },
  {
   "cell_type": "markdown",
   "metadata": {},
   "source": [
    "### Question 6: Tree Strucuture"
   ]
  },
  {
   "cell_type": "markdown",
   "metadata": {},
   "source": [
    "As described above, trees are constructed recursively with samller subtrees using the constructor. "
   ]
  },
  {
   "cell_type": "markdown",
   "metadata": {},
   "source": [
    "### Question 7: Acorn Finder\n",
    "    "
   ]
  },
  {
   "cell_type": "markdown",
   "metadata": {},
   "source": [
    "The squirrels on campus need your help! There are a lot of trees on campus and the squirrels would like to know which ones contain acorns. Define the function acorn_finder, which takes in a tree and returns Tree if the tree contains a node with the value 'acorn' and False otherwise."
   ]
  },
  {
   "cell_type": "code",
   "execution_count": 41,
   "metadata": {
    "collapsed": false
   },
   "outputs": [
    {
     "name": "stdout",
     "output_type": "stream",
     "text": [
      "Finding tests in NoName\n",
      "Trying:\n",
      "    scrat = tree('acorn')\n",
      "Expecting nothing\n",
      "ok\n",
      "Trying:\n",
      "    acorn_finder(scrat)\n",
      "Expecting:\n",
      "    True\n",
      "ok\n",
      "Trying:\n",
      "    sproul = tree('roots', [tree('branch1', [tree('leaf'), tree('acorn')]), tree('branch2')])\n",
      "Expecting nothing\n",
      "ok\n",
      "Trying:\n",
      "    acorn_finder(sproul)\n",
      "Expecting:\n",
      "    True\n",
      "ok\n",
      "Trying:\n",
      "    numbers = tree(1, [tree(2), tree(3, [tree(4), tree(5)]), tree(6, [tree(7)])])\n",
      "Expecting nothing\n",
      "ok\n",
      "Trying:\n",
      "    acorn_finder(numbers)\n",
      "Expecting:\n",
      "    False\n",
      "ok\n"
     ]
    }
   ],
   "source": [
    "# Q7\n",
    "def acorn_finder(t):\n",
    "    \"\"\"Returns True if t contains a node with the value 'acorn' and\n",
    "    False otherwise.\n",
    "\n",
    "    >>> scrat = tree('acorn')\n",
    "    >>> acorn_finder(scrat)\n",
    "    True\n",
    "    >>> sproul = tree('roots', [tree('branch1', [tree('leaf'), tree('acorn')]), tree('branch2')])\n",
    "    >>> acorn_finder(sproul)\n",
    "    True\n",
    "    >>> numbers = tree(1, [tree(2), tree(3, [tree(4), tree(5)]), tree(6, [tree(7)])])\n",
    "    >>> acorn_finder(numbers)\n",
    "    False\n",
    "    \"\"\"\n",
    "    \"*** YOUR CODE HERE ***\"\n",
    "    if label(t) == 'acorn':\n",
    "        return True\n",
    "    for child in children(t):\n",
    "        if acorn_finder(child) == True:\n",
    "            return True\n",
    "    return False\n",
    "        \n",
    "run_docstring_examples(acorn_finder, globals(), True)"
   ]
  },
  {
   "cell_type": "code",
   "execution_count": 42,
   "metadata": {
    "collapsed": true
   },
   "outputs": [],
   "source": [
    "def acorn_finder(t):\n",
    "    if label(t) == 'acorn':\n",
    "        return True\n",
    "    return any(acorn_finder(c) for c in children(t))"
   ]
  },
  {
   "cell_type": "markdown",
   "metadata": {},
   "source": [
    "Python has a list clas that contains many useful method. Using the builtin dir() function will show you all of them, like so:"
   ]
  },
  {
   "cell_type": "markdown",
   "metadata": {},
   "source": [
    "Some of the most common methods include `append()`, `extend()`, and `pop()`"
   ]
  },
  {
   "cell_type": "code",
   "execution_count": 43,
   "metadata": {
    "collapsed": true
   },
   "outputs": [],
   "source": [
    "l = [3, 5, 6]\n",
    "l.append(10)  # Adds an element to the end"
   ]
  },
  {
   "cell_type": "code",
   "execution_count": 44,
   "metadata": {
    "collapsed": false
   },
   "outputs": [
    {
     "data": {
      "text/plain": [
       "[3, 5, 6, 10]"
      ]
     },
     "execution_count": 44,
     "metadata": {},
     "output_type": "execute_result"
    }
   ],
   "source": [
    "l"
   ]
  },
  {
   "cell_type": "code",
   "execution_count": 45,
   "metadata": {
    "collapsed": true
   },
   "outputs": [],
   "source": [
    "l.extend([-1, -6]) # Concatenates another list to the end"
   ]
  },
  {
   "cell_type": "code",
   "execution_count": 46,
   "metadata": {
    "collapsed": false
   },
   "outputs": [
    {
     "data": {
      "text/plain": [
       "[3, 5, 6, 10, -1, -6]"
      ]
     },
     "execution_count": 46,
     "metadata": {},
     "output_type": "execute_result"
    }
   ],
   "source": [
    "l"
   ]
  },
  {
   "cell_type": "code",
   "execution_count": 47,
   "metadata": {
    "collapsed": false
   },
   "outputs": [
    {
     "data": {
      "text/plain": [
       "-6"
      ]
     },
     "execution_count": 47,
     "metadata": {},
     "output_type": "execute_result"
    }
   ],
   "source": [
    "l.pop() # Removes and returns the last element"
   ]
  },
  {
   "cell_type": "code",
   "execution_count": 48,
   "metadata": {
    "collapsed": false
   },
   "outputs": [
    {
     "data": {
      "text/plain": [
       "6"
      ]
     },
     "execution_count": 48,
     "metadata": {},
     "output_type": "execute_result"
    }
   ],
   "source": [
    "l.pop(2) # Removes and returns the element at the given index"
   ]
  },
  {
   "cell_type": "code",
   "execution_count": 49,
   "metadata": {
    "collapsed": false
   },
   "outputs": [
    {
     "data": {
      "text/plain": [
       "[3, 5, 10, -1]"
      ]
     },
     "execution_count": 49,
     "metadata": {},
     "output_type": "execute_result"
    }
   ],
   "source": [
    "l"
   ]
  },
  {
   "cell_type": "markdown",
   "metadata": {},
   "source": [
    "### Question 8: Filter"
   ]
  },
  {
   "cell_type": "markdown",
   "metadata": {},
   "source": [
    "Write a function that filters a list, only keeping elements that satisfy the predicate. Be sure to mutate the original list."
   ]
  },
  {
   "cell_type": "code",
   "execution_count": 57,
   "metadata": {
    "collapsed": false
   },
   "outputs": [
    {
     "name": "stdout",
     "output_type": "stream",
     "text": [
      "Finding tests in NoName\n",
      "Trying:\n",
      "    original_list = [5, -1, 2, 0]\n",
      "Expecting nothing\n",
      "ok\n",
      "Trying:\n",
      "    filter(lambda x: x % 2 == 0, original_list)\n",
      "Expecting nothing\n",
      "ok\n",
      "Trying:\n",
      "    original_list\n",
      "Expecting:\n",
      "    [2, 0]\n",
      "ok\n"
     ]
    }
   ],
   "source": [
    "def filter(pred, lst):\n",
    "    \"\"\"Finder lst with pred using mutation.\n",
    "    >>> original_list = [5, -1, 2, 0]\n",
    "    >>> filter(lambda x: x % 2 == 0, original_list)\n",
    "    >>> original_list\n",
    "    [2, 0]\n",
    "    \"\"\"\n",
    "    i = len(lst) - 1\n",
    "    while i >= 0:\n",
    "        if not pred(lst[i]):\n",
    "            lst.pop(i)\n",
    "        i -= 1\n",
    "run_docstring_examples(filter, globals(), True)"
   ]
  },
  {
   "cell_type": "code",
   "execution_count": 58,
   "metadata": {
    "collapsed": true
   },
   "outputs": [],
   "source": [
    "def filter(pred, lst):\n",
    "    if lst:\n",
    "        temp = lst.pop(0)\n",
    "        filter(pred, lst)\n",
    "        if pred(temp):\n",
    "            lst.insert(0, temp)"
   ]
  },
  {
   "cell_type": "markdown",
   "metadata": {},
   "source": [
    "### Question 9: Replace Leaf"
   ]
  },
  {
   "cell_type": "markdown",
   "metadata": {},
   "source": [
    "Define replace_leaf, which takes a tree, a value old, and a value new. replace_leaf returns a new tree where every leaf value equal to old has been replaced with new. "
   ]
  },
  {
   "cell_type": "code",
   "execution_count": 59,
   "metadata": {
    "collapsed": true
   },
   "outputs": [],
   "source": [
    "def replace_leaf(t, old, new):\n",
    "    \"\"\"Returns a new tree where every leaf value equal to old has\n",
    "    been replaced with new.\n",
    "\n",
    "    >>> yggdrasil = tree('odin',\n",
    "    ...                  [tree('balder',\n",
    "    ...                        [tree('thor'),\n",
    "    ...                         tree('loki')]),\n",
    "    ...                   tree('frigg',\n",
    "    ...                        [tree('thor')]),\n",
    "    ...                   tree('thor',\n",
    "    ...                        [tree('sif'),\n",
    "    ...                         tree('thor')]),\n",
    "    ...                   tree('thor')])\n",
    "    >>> laerad = copy_tree(yggdrasil) # Creates a copy of yggdrasil, only for testing purposes\n",
    "    >>> print_tree(replace_leaf(yggdrasil, 'thor', 'freya'))\n",
    "    odin\n",
    "      balder\n",
    "        freya\n",
    "        loki\n",
    "      frigg\n",
    "        freya\n",
    "      thor\n",
    "        sif\n",
    "        freya\n",
    "      freya\n",
    "    >>> laerad == yggdrasil # Make sure original tree is unmodified\n",
    "    True\n",
    "    \"\"\"\n",
    "    if is_leaf(t) and label(t) == old:\n",
    "        return tree(new)\n",
    "    else:\n",
    "        new_children = [replace_leaf(child, old, new) for child in children(t)]\n",
    "        return tree(label(t), new_children)"
   ]
  },
  {
   "cell_type": "markdown",
   "metadata": {},
   "source": [
    "### Question 10: Tree Map"
   ]
  },
  {
   "cell_type": "markdown",
   "metadata": {},
   "source": [
    "Define the function tree_map, which takes in a tree and a one argument function as arguments and returns a new tree which is the result of mapping the function over the entries of the input tree. "
   ]
  },
  {
   "cell_type": "code",
   "execution_count": 60,
   "metadata": {
    "collapsed": true
   },
   "outputs": [],
   "source": [
    "def tree_map(fn, t):\n",
    "    if children(t) == []:\n",
    "        return tree(fn(label(t)), [])\n",
    "    mapped_subtrees = []\n",
    "    for subtree in children(t):\n",
    "        mapped_subtrees += [ tree_map(fn, subtree) ]\n",
    "    return tree(fn(label(t)), mapped_subtrees)"
   ]
  },
  {
   "cell_type": "markdown",
   "metadata": {},
   "source": [
    "### Question 11: Reverse"
   ]
  },
  {
   "cell_type": "markdown",
   "metadata": {},
   "source": [
    "Write a function that reverses the given list. Be sure to mutate the original list."
   ]
  },
  {
   "cell_type": "code",
   "execution_count": 62,
   "metadata": {
    "collapsed": false
   },
   "outputs": [
    {
     "name": "stdout",
     "output_type": "stream",
     "text": [
      "Finding tests in NoName\n",
      "Trying:\n",
      "    original_list = [5, -1, 29, 0]\n",
      "Expecting nothing\n",
      "ok\n",
      "Trying:\n",
      "    reverse(original_list)\n",
      "Expecting nothing\n",
      "ok\n",
      "Trying:\n",
      "    original_list\n",
      "Expecting:\n",
      "    [0, 29, -1, 5]\n",
      "ok\n",
      "Trying:\n",
      "    odd_list = [42, 72, -8]\n",
      "Expecting nothing\n",
      "ok\n",
      "Trying:\n",
      "    reverse(odd_list)\n",
      "Expecting nothing\n",
      "ok\n",
      "Trying:\n",
      "    odd_list\n",
      "Expecting:\n",
      "    [-8, 72, 42]\n",
      "ok\n"
     ]
    }
   ],
   "source": [
    "def reverse(lst):\n",
    "    \"\"\"Reverses lst using mutation.\n",
    "\n",
    "    >>> original_list = [5, -1, 29, 0]\n",
    "    >>> reverse(original_list)\n",
    "    >>> original_list\n",
    "    [0, 29, -1, 5]\n",
    "    >>> odd_list = [42, 72, -8]\n",
    "    >>> reverse(odd_list)\n",
    "    >>> odd_list\n",
    "    [-8, 72, 42]\n",
    "    \"\"\"\n",
    "    if lst:\n",
    "        temp = lst.pop(0)\n",
    "        reverse(lst)\n",
    "        lst.insert(len(lst), temp)\n",
    "run_docstring_examples(reverse, globals(), True)"
   ]
  },
  {
   "cell_type": "markdown",
   "metadata": {},
   "source": [
    "### Question 12: Preorder"
   ]
  },
  {
   "cell_type": "markdown",
   "metadata": {},
   "source": [
    "Define the function preorder, which takes in a tree as an argument and returns a list of all the entries in the tree in the order that print_tree would print them. "
   ]
  },
  {
   "cell_type": "code",
   "execution_count": 63,
   "metadata": {
    "collapsed": true
   },
   "outputs": [],
   "source": [
    "def preorder(t):\n",
    "    if children(t) == []:\n",
    "        return [label(t)]\n",
    "    flattened_children = []\n",
    "    for child in children(t):\n",
    "        flattened_children += preorder(child)\n",
    "    return [label(t)] + flattened_children"
   ]
  },
  {
   "cell_type": "code",
   "execution_count": null,
   "metadata": {
    "collapsed": true
   },
   "outputs": [],
   "source": []
  }
 ],
 "metadata": {
  "kernelspec": {
   "display_name": "Python 3",
   "language": "python",
   "name": "python3"
  },
  "language_info": {
   "codemirror_mode": {
    "name": "ipython",
    "version": 3
   },
   "file_extension": ".py",
   "mimetype": "text/x-python",
   "name": "python",
   "nbconvert_exporter": "python",
   "pygments_lexer": "ipython3",
   "version": "3.5.1"
  }
 },
 "nbformat": 4,
 "nbformat_minor": 0
}
