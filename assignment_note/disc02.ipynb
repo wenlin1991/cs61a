{
 "cells": [
  {
   "cell_type": "markdown",
   "metadata": {},
   "source": [
    "# Environment Diagrams and Recursion"
   ]
  },
  {
   "cell_type": "markdown",
   "metadata": {},
   "source": [
    "When you execute assignment statements in an environment diagram (like x = 3), you need to record the variable name and the value:\n",
    "\n",
    "1. Evaluate the expression on the right side of the = sign\n",
    "2. Write the variable name and the expression's value in the current frame"
   ]
  },
  {
   "cell_type": "markdown",
   "metadata": {},
   "source": [
    "When you execute def statements, you need to record the function name and bind the function object to the name\n",
    "\n",
    "1. Write the function name(square) in the frame and point it to a function object (func square(x) [parent=Global]). The [parent=Global] denotes the frame in which the function was defined."
   ]
  },
  {
   "cell_type": "code",
   "execution_count": 1,
   "metadata": {
    "collapsed": false
   },
   "outputs": [
    {
     "name": "stdout",
     "output_type": "stream",
     "text": [
      "0\n"
     ]
    }
   ],
   "source": [
    "from operator import add\n",
    "def sub(a, b):\n",
    "    sub = add\n",
    "    return a - b\n",
    "add = sub\n",
    "sub = min\n",
    "print(add(2, sub(2, 3)))"
   ]
  },
  {
   "cell_type": "code",
   "execution_count": 2,
   "metadata": {
    "collapsed": true
   },
   "outputs": [],
   "source": [
    "from doctest import run_docstring_examples"
   ]
  },
  {
   "cell_type": "markdown",
   "metadata": {},
   "source": [
    "## Recursion "
   ]
  },
  {
   "cell_type": "markdown",
   "metadata": {},
   "source": [
    "A recursive is a function that calls itself. \n",
    "There are three common steps in a recursive definition:\n",
    "\n",
    "1. Figure out your base case. What is the simplest argument we could possibly get? For example, factorial(0) is 1 by definition\n",
    "2. Make a recursive call with a simpler argument: Simplify your problem, and assume that a recursive call for this new problem will simply work. This is called the \"leap of faith\". For factorial, we reduce the problem by calling factorial(n-1).\n",
    "3. Use your recursive call to solve the full problem: Remember that we are assuming the recursive call works. With the result of the recursive call, how can you solve the original problem you were asked? For factorial, we just multiply(n-1)! by n."
   ]
  },
  {
   "cell_type": "markdown",
   "metadata": {},
   "source": [
    "### Cool recursion questions"
   ]
  },
  {
   "cell_type": "markdown",
   "metadata": {},
   "source": [
    "1. Create a recursive countdown function that takes in an integer n and prints out a countdown from n to 1. The function is defined on the next page."
   ]
  },
  {
   "cell_type": "markdown",
   "metadata": {},
   "source": [
    "First, think about a base case for the countdown function. What is the simplest input the problem could be given?"
   ]
  },
  {
   "cell_type": "code",
   "execution_count": null,
   "metadata": {
    "collapsed": true
   },
   "outputs": [],
   "source": [
    "# Answer\n",
    "if n == 1:\n",
    "    print(n)"
   ]
  },
  {
   "cell_type": "markdown",
   "metadata": {},
   "source": [
    "After you have thought of a base case, think about a recursive call with a smaller argument that approches the base case. What happens if you call countdown(n-1)?"
   ]
  },
  {
   "cell_type": "code",
   "execution_count": null,
   "metadata": {
    "collapsed": true
   },
   "outputs": [],
   "source": [
    "# Answer\n",
    "else:\n",
    "    print(n)\n",
    "    countdown(n-1)"
   ]
  },
  {
   "cell_type": "markdown",
   "metadata": {},
   "source": [
    "Then, put the base case and the recursive call together, and think about where a print statement woulc be needed."
   ]
  },
  {
   "cell_type": "code",
   "execution_count": 5,
   "metadata": {
    "collapsed": true
   },
   "outputs": [],
   "source": [
    "def countdown(n):\n",
    "    \"\"\"\n",
    "    >>> countdown(3)\n",
    "    3\n",
    "    2\n",
    "    1\n",
    "    \"\"\"\n",
    "    if n == 1:\n",
    "        print(n)\n",
    "    else:\n",
    "        print(n)\n",
    "        countdown(n-1)"
   ]
  },
  {
   "cell_type": "code",
   "execution_count": 7,
   "metadata": {
    "collapsed": false
   },
   "outputs": [
    {
     "name": "stdout",
     "output_type": "stream",
     "text": [
      "Finding tests in NoName\n",
      "Trying:\n",
      "    countdown(3)\n",
      "Expecting:\n",
      "    3\n",
      "    2\n",
      "    1\n",
      "ok\n"
     ]
    }
   ],
   "source": [
    "run_docstring_examples(countdown, globals(), True)"
   ]
  },
  {
   "cell_type": "markdown",
   "metadata": {},
   "source": [
    "When the condition `n==1` fires, the program will return `None`, since there has no statements followed. "
   ]
  },
  {
   "cell_type": "markdown",
   "metadata": {},
   "source": [
    "`2.` Is there easy way to change countdown to count up instead?"
   ]
  },
  {
   "cell_type": "code",
   "execution_count": 12,
   "metadata": {
    "collapsed": true
   },
   "outputs": [],
   "source": [
    "def countup(n):\n",
    "    i = 1\n",
    "    while i <= n:\n",
    "        print(i)\n",
    "        i += 1"
   ]
  },
  {
   "cell_type": "code",
   "execution_count": 13,
   "metadata": {
    "collapsed": false
   },
   "outputs": [
    {
     "name": "stdout",
     "output_type": "stream",
     "text": [
      "1\n",
      "2\n",
      "3\n"
     ]
    }
   ],
   "source": [
    "countup(3)"
   ]
  },
  {
   "cell_type": "code",
   "execution_count": 24,
   "metadata": {
    "collapsed": true
   },
   "outputs": [],
   "source": [
    "def countup_recur(n):\n",
    "    i = 1\n",
    "    def helper(i):\n",
    "        if i == n:\n",
    "            print(i)\n",
    "        else:\n",
    "            print(i)\n",
    "            helper(i+1)\n",
    "    return helper(i)"
   ]
  },
  {
   "cell_type": "code",
   "execution_count": 25,
   "metadata": {
    "collapsed": false
   },
   "outputs": [
    {
     "name": "stdout",
     "output_type": "stream",
     "text": [
      "1\n",
      "2\n",
      "3\n"
     ]
    }
   ],
   "source": [
    "countup_recur(3)"
   ]
  },
  {
   "cell_type": "code",
   "execution_count": 28,
   "metadata": {
    "collapsed": false
   },
   "outputs": [
    {
     "name": "stdout",
     "output_type": "stream",
     "text": [
      "3\n",
      "2\n",
      "1\n"
     ]
    }
   ],
   "source": [
    "# Answer from CS61A professor\n",
    "def countdown(n):\n",
    "    if n <= 0:\n",
    "        return \n",
    "    print(n)\n",
    "    return countdown(n - 1) # Answer will be the same without return\n",
    "countdown(3)"
   ]
  },
  {
   "cell_type": "code",
   "execution_count": 30,
   "metadata": {
    "collapsed": false
   },
   "outputs": [
    {
     "name": "stdout",
     "output_type": "stream",
     "text": [
      "1\n",
      "2\n",
      "3\n"
     ]
    }
   ],
   "source": [
    "# Countup\n",
    "def countdown(n):\n",
    "    if n <= 0:\n",
    "        return \n",
    "    countdown(n - 1)\n",
    "    print(n)\n",
    "countdown(3)"
   ]
  },
  {
   "cell_type": "markdown",
   "metadata": {},
   "source": [
    "[Program execution procedure](http://pythontutor.com/composingprograms.html#code=def+countdown(n%29%3A%0A++++if+n+%3C%3D+0%3A%0A++++++++return+%0A++++countdown(n+-+1%29%0A++++print(n%29%0Acountdown(3%29%0A&mode=display&origin=composingprograms.js&cumulative=true&py=3&rawInputLstJSON=%5B%5D&curInstr=20)"
   ]
  },
  {
   "cell_type": "markdown",
   "metadata": {},
   "source": [
    "When the program recursion start, the `print(n)` will not be executed until n = 0 and return control to its parent program."
   ]
  },
  {
   "cell_type": "markdown",
   "metadata": {},
   "source": [
    "`3.` Write a recursive function that sums the digits of a number n. Assume n is positive. You might find the operators // and % useful."
   ]
  },
  {
   "cell_type": "code",
   "execution_count": 39,
   "metadata": {
    "collapsed": false
   },
   "outputs": [],
   "source": [
    "def sum_digits(n):\n",
    "    \"\"\"\n",
    "    >>> sum_digits(7)\n",
    "    7\n",
    "    >>> sum_digits(30)\n",
    "    3\n",
    "    >>> sum_digits(228)\n",
    "    12\n",
    "    \"\"\"\n",
    "    assert n > 0 , \"n should be great than 0\"\n",
    "    if n // 10 == 0:\n",
    "        return n\n",
    "    else:\n",
    "        return n % 10 + sum_digits(n // 10)"
   ]
  },
  {
   "cell_type": "code",
   "execution_count": 40,
   "metadata": {
    "collapsed": false
   },
   "outputs": [
    {
     "name": "stdout",
     "output_type": "stream",
     "text": [
      "Finding tests in NoName\n",
      "Trying:\n",
      "    sum_digits(7)\n",
      "Expecting:\n",
      "    7\n",
      "ok\n",
      "Trying:\n",
      "    sum_digits(30)\n",
      "Expecting:\n",
      "    3\n",
      "ok\n",
      "Trying:\n",
      "    sum_digits(228)\n",
      "Expecting:\n",
      "    12\n",
      "ok\n"
     ]
    }
   ],
   "source": [
    "run_docstring_examples(sum_digits, globals(), True)"
   ]
  },
  {
   "cell_type": "markdown",
   "metadata": {},
   "source": [
    "We have written factorial recursively. Let's compare the iterative and recursive versions:"
   ]
  },
  {
   "cell_type": "code",
   "execution_count": 41,
   "metadata": {
    "collapsed": true
   },
   "outputs": [],
   "source": [
    "def factorial_recursive(n):\n",
    "    if n == 0 or n == 1:\n",
    "        return 1\n",
    "    else:\n",
    "        return n * factorial_recursive(n-1)\n",
    "    \n",
    "def factorial_iterative(n):\n",
    "    total = 1\n",
    "    while n > 1:\n",
    "        total = total * n\n",
    "        n = n - 1\n",
    "    return total"
   ]
  },
  {
   "cell_type": "markdown",
   "metadata": {},
   "source": [
    "Although recursive version has less code, it has more frame than iterative version and consumes more memory. "
   ]
  },
  {
   "cell_type": "code",
   "execution_count": 42,
   "metadata": {
    "collapsed": true
   },
   "outputs": [],
   "source": [
    "def fib_recursive(n):\n",
    "    if n == 0:\n",
    "        return 0\n",
    "    elif n == 1:\n",
    "        return 1\n",
    "    else:\n",
    "        return fib_recursive(n - 1) + fib_recursive(n - 2)\n",
    "    \n",
    "def fib_iterative(n):\n",
    "    current, next = 0, 1\n",
    "    while n > 0:\n",
    "        current, next = next, current + next\n",
    "        n = n - 1\n",
    "    return current"
   ]
  },
  {
   "cell_type": "code",
   "execution_count": 43,
   "metadata": {
    "collapsed": true
   },
   "outputs": [],
   "source": [
    "def fib_iterative_new(n):\n",
    "    fib_list = [1, 1]\n",
    "    if n == 0 or n == 1:\n",
    "        return fib_list[-1]\n",
    "    for i in range(2, n+1):\n",
    "        fib_list.append(fib_list[-1]+fib_list[-2])\n",
    "    return fib_list[-1]"
   ]
  },
  {
   "cell_type": "code",
   "execution_count": 44,
   "metadata": {
    "collapsed": false
   },
   "outputs": [
    {
     "data": {
      "text/plain": [
       "34"
      ]
     },
     "execution_count": 44,
     "metadata": {},
     "output_type": "execute_result"
    }
   ],
   "source": [
    "fib_iterative_new(8)"
   ]
  },
  {
   "cell_type": "markdown",
   "metadata": {},
   "source": [
    "### Tree Recursion "
   ]
  },
  {
   "cell_type": "markdown",
   "metadata": {},
   "source": [
    "1. I want to go up a flight of stairs that has n steps. I can either take 1 or 2 steps each time. How many different ways can I go up this flight of stairs? Write a function count_stair_ways that solves this problem for me. Assume n is positive."
   ]
  },
  {
   "cell_type": "code",
   "execution_count": 45,
   "metadata": {
    "collapsed": true
   },
   "outputs": [],
   "source": [
    "def count_stair_ways(n):\n",
    "    if n == 1:\n",
    "        return 1\n",
    "    elif n == 2:\n",
    "        return 2\n",
    "    else:\n",
    "        return count_stair_ways(n-1) + count_stair_ways(n-2)"
   ]
  },
  {
   "cell_type": "code",
   "execution_count": 47,
   "metadata": {
    "collapsed": false
   },
   "outputs": [
    {
     "data": {
      "text/plain": [
       "34"
      ]
     },
     "execution_count": 47,
     "metadata": {},
     "output_type": "execute_result"
    }
   ],
   "source": [
    "count_stair_ways(8)"
   ]
  },
  {
   "cell_type": "markdown",
   "metadata": {},
   "source": [
    "2. The TAs want to print handouts for their students. However, for some unfathomable reason, both the printers are broken; the first printer only prints multiples of n1, and the second printer only prints multiples of n2. Help the TAs figure out whether or not it is possible to print and exact number of handouts!"
   ]
  },
  {
   "cell_type": "markdown",
   "metadata": {},
   "source": [
    "First try to solve without a helper function. Also try to solve using a helper function and adding up the sum."
   ]
  },
  {
   "cell_type": "code",
   "execution_count": 75,
   "metadata": {
    "collapsed": true
   },
   "outputs": [],
   "source": [
    "def has_sum(total, n1, n2):\n",
    "    \"\"\"\n",
    "    >>> has_sum(1, 3, 5)\n",
    "    False\n",
    "    >>> has_sum(5, 3, 5)\n",
    "    True\n",
    "    >>> has_sum(11, 3, 5)\n",
    "    True\n",
    "    \"\"\"\n",
    "    if total % n1 == 0 or total % n2 == 0:\n",
    "        return True\n",
    "    \n",
    "    def helper1(total, n1, n2):\n",
    "        remainder1 = total - n1\n",
    "        remainder2 = remainder1 % n2\n",
    "        if remainder2 == 0 or remainder1 == 0:\n",
    "            return True\n",
    "        elif remainder2 < n2:\n",
    "            return False\n",
    "        else:\n",
    "            helper1(remainder1, n1, n2)\n",
    "                        \n",
    "    def helper2(total, n1, n2):\n",
    "        remainder3 = total - n2\n",
    "        remainder4 = remainder3 % n1\n",
    "        if remainder4 == 0 or remainder3 == 0:\n",
    "            return True\n",
    "        elif remainder3 < n1:\n",
    "            return False\n",
    "        else:\n",
    "            helper2(remainder3, n1, n2)\n",
    "    \n",
    "    return helper1(total, n1, n2) or helper2(total, n1, n2)"
   ]
  },
  {
   "cell_type": "code",
   "execution_count": 76,
   "metadata": {
    "collapsed": false
   },
   "outputs": [
    {
     "name": "stdout",
     "output_type": "stream",
     "text": [
      "Finding tests in NoName\n",
      "Trying:\n",
      "    has_sum(1, 3, 5)\n",
      "Expecting:\n",
      "    False\n",
      "ok\n",
      "Trying:\n",
      "    has_sum(5, 3, 5)\n",
      "Expecting:\n",
      "    True\n",
      "ok\n",
      "Trying:\n",
      "    has_sum(11, 3, 5)\n",
      "Expecting:\n",
      "    True\n",
      "ok\n"
     ]
    }
   ],
   "source": [
    "run_docstring_examples(has_sum, globals(), True)"
   ]
  },
  {
   "cell_type": "code",
   "execution_count": 77,
   "metadata": {
    "collapsed": true
   },
   "outputs": [],
   "source": [
    "def has_sum(total, n1, n2):\n",
    "    \"\"\"\n",
    "    >>> has_sum(1, 3, 5)\n",
    "    False\n",
    "    >>> has_sum(5, 3, 5)\n",
    "    True\n",
    "    >>> has_sum(11, 3, 5)\n",
    "    True\n",
    "    \"\"\"\n",
    "    if total == n1 or total == n2:\n",
    "        return True\n",
    "    elif total < min(n1, n2):\n",
    "        return False\n",
    "    else:\n",
    "        return has_sum(total - n1, n1, n2) or has_sum(total - n2, n1, n2)\n",
    "    "
   ]
  },
  {
   "cell_type": "code",
   "execution_count": 78,
   "metadata": {
    "collapsed": true
   },
   "outputs": [],
   "source": [
    "def has_sum(total, n1, n2):\n",
    "    \"\"\"\n",
    "    >>> has_sum(1, 3, 5)\n",
    "    False\n",
    "    >>> has_sum(5, 3, 5)\n",
    "    True\n",
    "    >>> has_sum(11, 3, 5)\n",
    "    True\n",
    "    \"\"\"\n",
    "    def has_remaining(total_so_far):\n",
    "        if total_so_far == total:\n",
    "            return True\n",
    "        elif total_so_far > total: \n",
    "            return False\n",
    "        else:\n",
    "            return has_remaining(total_so_far + n1) or \\\n",
    "                   has_remaining(total_so_far + n2)\n",
    "    return has_remaining(0)"
   ]
  },
  {
   "cell_type": "code",
   "execution_count": null,
   "metadata": {
    "collapsed": true
   },
   "outputs": [],
   "source": []
  },
  {
   "cell_type": "code",
   "execution_count": null,
   "metadata": {
    "collapsed": true
   },
   "outputs": [],
   "source": []
  },
  {
   "cell_type": "code",
   "execution_count": null,
   "metadata": {
    "collapsed": true
   },
   "outputs": [],
   "source": []
  },
  {
   "cell_type": "code",
   "execution_count": null,
   "metadata": {
    "collapsed": true
   },
   "outputs": [],
   "source": []
  },
  {
   "cell_type": "code",
   "execution_count": null,
   "metadata": {
    "collapsed": true
   },
   "outputs": [],
   "source": []
  },
  {
   "cell_type": "code",
   "execution_count": null,
   "metadata": {
    "collapsed": true
   },
   "outputs": [],
   "source": []
  },
  {
   "cell_type": "code",
   "execution_count": null,
   "metadata": {
    "collapsed": true
   },
   "outputs": [],
   "source": []
  },
  {
   "cell_type": "code",
   "execution_count": null,
   "metadata": {
    "collapsed": true
   },
   "outputs": [],
   "source": []
  },
  {
   "cell_type": "code",
   "execution_count": null,
   "metadata": {
    "collapsed": true
   },
   "outputs": [],
   "source": []
  },
  {
   "cell_type": "code",
   "execution_count": null,
   "metadata": {
    "collapsed": true
   },
   "outputs": [],
   "source": []
  }
 ],
 "metadata": {
  "kernelspec": {
   "display_name": "Python 3",
   "language": "python",
   "name": "python3"
  },
  "language_info": {
   "codemirror_mode": {
    "name": "ipython",
    "version": 3
   },
   "file_extension": ".py",
   "mimetype": "text/x-python",
   "name": "python",
   "nbconvert_exporter": "python",
   "pygments_lexer": "ipython3",
   "version": "3.5.1"
  }
 },
 "nbformat": 4,
 "nbformat_minor": 0
}
