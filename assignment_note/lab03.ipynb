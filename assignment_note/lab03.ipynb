{
 "cells": [
  {
   "cell_type": "markdown",
   "metadata": {},
   "source": [
    "### Data Abstraction"
   ]
  },
  {
   "cell_type": "markdown",
   "metadata": {},
   "source": [
    "Data abstraction is a powerful conception in computer science that allows programmers to treat code as objects -- for example, car objects, chair objects, etc. That way, programmers don't have to worry about how code is implemented -- they just have to know what it does. "
   ]
  },
  {
   "cell_type": "markdown",
   "metadata": {},
   "source": [
    "Data abstraction mimics how we think about the world. When you want to drive a car, you don't need to know how the engine was built or what kind of material the tires are made of. You just have know hwo to turn the wheel and press the gas padel.\n"
   ]
  },
  {
   "cell_type": "markdown",
   "metadata": {},
   "source": [
    "An abstract data type consists of two types of functions:\n",
    "- Constructors: functions that build the abstract data type\n",
    "- Selectors: functions that retrieve information form the data type.\n",
    "\n",
    "Say we have an abstract type called city. This city object will hold the city's name and its latitude and longitude. To create a city object, you'd use a constructor like "
   ]
  },
  {
   "cell_type": "code",
   "execution_count": null,
   "metadata": {
    "collapsed": true
   },
   "outputs": [],
   "source": [
    "city = make_city(name, lat, lon)"
   ]
  },
  {
   "cell_type": "markdown",
   "metadata": {},
   "source": [
    "To extract the information of a city object, you would use the selectors like"
   ]
  },
  {
   "cell_type": "code",
   "execution_count": null,
   "metadata": {
    "collapsed": true
   },
   "outputs": [],
   "source": [
    "get_name(city)\n",
    "get_lat(city)\n",
    "get_lon(city)"
   ]
  },
  {
   "cell_type": "markdown",
   "metadata": {},
   "source": [
    "### Question 1: Distance"
   ]
  },
  {
   "cell_type": "markdown",
   "metadata": {},
   "source": [
    "We will now use those selectors to write distance, which computes the distance between two city objects. Recall that the distance between two coordinate pairs, (x1, y1) and (x2, y2) can be found by calculating the sqrt of `(x1-x2)**2 + (y1-y2)**2`. We have already imported sqrt for your convenience, so use that and the appropriate selectors to fill in the function. "
   ]
  },
  {
   "cell_type": "code",
   "execution_count": 1,
   "metadata": {
    "collapsed": false
   },
   "outputs": [
    {
     "name": "stdout",
     "output_type": "stream",
     "text": [
      "\u001b[34mlab03\u001b[m\u001b[m/       lab03.ipynb  lab03.zip\r\n"
     ]
    }
   ],
   "source": [
    "ls"
   ]
  },
  {
   "cell_type": "code",
   "execution_count": 2,
   "metadata": {
    "collapsed": false
   },
   "outputs": [
    {
     "name": "stdout",
     "output_type": "stream",
     "text": [
      "/Users/yinyijing/Documents/courses/cs61a/lab/lab03\n"
     ]
    }
   ],
   "source": [
    "cd lab03"
   ]
  },
  {
   "cell_type": "code",
   "execution_count": 4,
   "metadata": {
    "collapsed": true
   },
   "outputs": [],
   "source": [
    "from utils import *\n",
    "from doctest import run_docstring_examples"
   ]
  },
  {
   "cell_type": "code",
   "execution_count": 9,
   "metadata": {
    "collapsed": true
   },
   "outputs": [],
   "source": [
    "from math import sqrt\n",
    "def distance(city1, city2):\n",
    "    \"\"\"\n",
    "    >>> city1 = make_city('city1', 0, 1)\n",
    "    >>> city2 = make_city('city2', 0, 2)\n",
    "    >>> distance(city1, city2)\n",
    "    1.0\n",
    "    >>> city3 = make_city('city3', 6.5, 12)\n",
    "    >>> city4 = make_city('city4', 2.5, 15)\n",
    "    >>> distance(city3, city4)\n",
    "    5.0\n",
    "    \"\"\"\n",
    "    return sqrt((get_lon(city1) - get_lon(city2))** 2 + \n",
    "                (get_lat(city1) - get_lat(city2))** 2)"
   ]
  },
  {
   "cell_type": "code",
   "execution_count": 10,
   "metadata": {
    "collapsed": false
   },
   "outputs": [
    {
     "name": "stdout",
     "output_type": "stream",
     "text": [
      "Finding tests in NoName\n",
      "Trying:\n",
      "    city1 = make_city('city1', 0, 1)\n",
      "Expecting nothing\n",
      "ok\n",
      "Trying:\n",
      "    city2 = make_city('city2', 0, 2)\n",
      "Expecting nothing\n",
      "ok\n",
      "Trying:\n",
      "    distance(city1, city2)\n",
      "Expecting:\n",
      "    1.0\n",
      "ok\n",
      "Trying:\n",
      "    city3 = make_city('city3', 6.5, 12)\n",
      "Expecting nothing\n",
      "ok\n",
      "Trying:\n",
      "    city4 = make_city('city4', 2.5, 15)\n",
      "Expecting nothing\n",
      "ok\n",
      "Trying:\n",
      "    distance(city3, city4)\n",
      "Expecting:\n",
      "    5.0\n",
      "ok\n"
     ]
    }
   ],
   "source": [
    "run_docstring_examples(distance, globals(), True)"
   ]
  },
  {
   "cell_type": "code",
   "execution_count": null,
   "metadata": {
    "collapsed": true
   },
   "outputs": [],
   "source": [
    "# Answer from CS61A Professor\n",
    "lat_1, lon_1 = get_lat(city1), get_lon(city1)\n",
    "lat_2, lon_2 = get_lat(city2), get_lon(city2)"
   ]
  },
  {
   "cell_type": "markdown",
   "metadata": {},
   "source": [
    "### Question 2: Closer city"
   ]
  },
  {
   "cell_type": "markdown",
   "metadata": {},
   "source": [
    "Next, implement closer_city, a function that takes a latitude, longitude, and two cities, and returns the name of the city that is relatively closer to the provided latitude and longitude."
   ]
  },
  {
   "cell_type": "markdown",
   "metadata": {},
   "source": [
    "You may only use selectors and constructors and the distance function that you just defined for this question. All of the selector and constructor functions can be found in utils.py, if you are curious how they are implemented. However, the point of data abstraction, as we've said, is that we do not need to know how an abstract data type is implemented, but rather how we can interact with and use the data type. "
   ]
  },
  {
   "cell_type": "code",
   "execution_count": 23,
   "metadata": {
    "collapsed": true
   },
   "outputs": [],
   "source": [
    "def closer_city(lat, lon, city1, city2):\n",
    "    \"\"\" Returns the name of either city1 or city2, whichever is closest\n",
    "        to coordiante(lat, lon).\n",
    "        \n",
    "        >>> berkeley = make_city('Berkeley', 37.87, 112.26)\n",
    "        >>> stanford = make_city('Stanford', 34.05, 118.25)\n",
    "        >>> closer_city(38.33, 121.44, berkeley, stanford)\n",
    "        'Stanford'\n",
    "        >>> bucharest = make_city('Bucharest', 44.43, 26.10)\n",
    "        >>> vienna = make_city('Vienna', 48.20, 16.37)\n",
    "        >>> closer_city(41.29, 174.78, bucharest, vienna)\n",
    "        'Bucharest'\n",
    "    \"\"\"\n",
    "    city0 = make_city('city0', lat, lon)\n",
    "    distance01 = distance(city0, city1)\n",
    "    distance02 = distance(city0, city2)\n",
    "    if distance01 < distance02:\n",
    "        return get_name(city1)\n",
    "    else:\n",
    "        return get_name(city2)"
   ]
  },
  {
   "cell_type": "code",
   "execution_count": 24,
   "metadata": {
    "collapsed": false
   },
   "outputs": [
    {
     "name": "stdout",
     "output_type": "stream",
     "text": [
      "Finding tests in NoName\n",
      "Trying:\n",
      "    berkeley = make_city('Berkeley', 37.87, 112.26)\n",
      "Expecting nothing\n",
      "ok\n",
      "Trying:\n",
      "    stanford = make_city('Stanford', 34.05, 118.25)\n",
      "Expecting nothing\n",
      "ok\n",
      "Trying:\n",
      "    closer_city(38.33, 121.44, berkeley, stanford)\n",
      "Expecting:\n",
      "    'Stanford'\n",
      "ok\n",
      "Trying:\n",
      "    bucharest = make_city('Bucharest', 44.43, 26.10)\n",
      "Expecting nothing\n",
      "ok\n",
      "Trying:\n",
      "    vienna = make_city('Vienna', 48.20, 16.37)\n",
      "Expecting nothing\n",
      "ok\n",
      "Trying:\n",
      "    closer_city(41.29, 174.78, bucharest, vienna)\n",
      "Expecting:\n",
      "    'Bucharest'\n",
      "ok\n"
     ]
    }
   ],
   "source": [
    "run_docstring_examples(closer_city, globals(), True)"
   ]
  },
  {
   "cell_type": "code",
   "execution_count": null,
   "metadata": {
    "collapsed": true
   },
   "outputs": [],
   "source": [
    "# Answer from CS61A Professor\n",
    "def closer_city(lat, lon, city1, city2):\n",
    "    \"\"\" Returns the name of either city1 or city2, whichever is closest\n",
    "        to coordinate (lat, lon).\n",
    "\n",
    "        >>> berkeley = make_city('Berkeley', 37.87, 112.26)\n",
    "        >>> stanford = make_city('Stanford', 34.05, 118.25)\n",
    "        >>> closer_city(38.33, 121.44, berkeley, stanford)\n",
    "        'Stanford'\n",
    "        >>> bucharest = make_city('Bucharest', 44.43, 26.10)\n",
    "        >>> vienna = make_city('Vienna', 48.20, 16.37)\n",
    "        >>> closer_city(41.29, 174.78, bucharest, vienna)\n",
    "        'Bucharest'\n",
    "    \"\"\"\n",
    "    new_city = make_city('arb', lat, lon)\n",
    "    dist1 = distance(city1, new_city)\n",
    "    dist2 = distance(city2, new_city)\n",
    "    if dist1 < dist2:\n",
    "         return get_name(city1)\n",
    "    return get_name(city2)"
   ]
  },
  {
   "cell_type": "markdown",
   "metadata": {},
   "source": [
    "## Recursion\n",
    "----------------"
   ]
  },
  {
   "cell_type": "markdown",
   "metadata": {},
   "source": [
    "### Question 3: AB + C"
   ]
  },
  {
   "cell_type": "markdown",
   "metadata": {},
   "source": [
    "Implement ab_plus_c, a function that takes arguments a, b and c and computes a * b + c. You can assume a and b are both positive integers. However, you can't use the `*` operator. Try recursion!"
   ]
  },
  {
   "cell_type": "code",
   "execution_count": 44,
   "metadata": {
    "collapsed": false
   },
   "outputs": [],
   "source": [
    "def ab_plus_c(a, b, c):\n",
    "    \"\"\"Computes a * b + c.\n",
    "    \n",
    "    >>> ab_plus_c(2, 4, 3) # 2 * 4 + 3\n",
    "    11\n",
    "    >>> ab_plus_c(0, 3, 2) # 0 * 3 + 2\n",
    "    2\n",
    "    >>> ab_plus_c(3, 0, 2) # 3 * 0 + 2\n",
    "    2\n",
    "    \"\"\"\n",
    "    if b == 0:\n",
    "        return c\n",
    "    elif b == 1:\n",
    "        return  a + c\n",
    "    else:\n",
    "        return a + ab_plus_c(a, b-1, c)"
   ]
  },
  {
   "cell_type": "code",
   "execution_count": 45,
   "metadata": {
    "collapsed": false
   },
   "outputs": [
    {
     "name": "stdout",
     "output_type": "stream",
     "text": [
      "Finding tests in NoName\n",
      "Trying:\n",
      "    ab_plus_c(2, 4, 3) # 2 * 4 + 3\n",
      "Expecting:\n",
      "    11\n",
      "ok\n",
      "Trying:\n",
      "    ab_plus_c(0, 3, 2) # 0 * 3 + 2\n",
      "Expecting:\n",
      "    2\n",
      "ok\n",
      "Trying:\n",
      "    ab_plus_c(3, 0, 2) # 3 * 0 + 2\n",
      "Expecting:\n",
      "    2\n",
      "ok\n"
     ]
    }
   ],
   "source": [
    "run_docstring_examples(ab_plus_c, globals(), True)"
   ]
  },
  {
   "cell_type": "markdown",
   "metadata": {},
   "source": [
    "很多时候要考虑在return语句里面进行recursion，而不是在return外边回调函数。"
   ]
  },
  {
   "cell_type": "code",
   "execution_count": null,
   "metadata": {
    "collapsed": true
   },
   "outputs": [],
   "source": [
    "# Answer from CS61A professor\n",
    "def ab_plus_c(a, b, c):\n",
    "    \"\"\"Computes a * b + c.\n",
    "\n",
    "    >>> ab_plus_c(2, 4, 3)  # 2 * 4 + 3\n",
    "    11\n",
    "    >>> ab_plus_c(0, 3, 2)  # 0 * 3 + 2\n",
    "    2\n",
    "    >>> ab_plus_c(3, 0, 2)  # 3 * 0 + 2\n",
    "    2\n",
    "    \"\"\"\n",
    "    if b == 0:\n",
    "        return c\n",
    "    return a + ab_plus_c(a, b - 1, c)"
   ]
  },
  {
   "cell_type": "markdown",
   "metadata": {},
   "source": [
    "### Question 4: Is Prime"
   ]
  },
  {
   "cell_type": "markdown",
   "metadata": {},
   "source": [
    "Write a function is_prime that takes a single argument n and returns True if n is a prime and False otherwise. Assume n > 1. We implemented this in the project iteratively, now time to do it recursibely!"
   ]
  },
  {
   "cell_type": "markdown",
   "metadata": {},
   "source": [
    "> Hint: You will need a helper function! Remember helper functions are useful if you need to keep track of more variables than the given parameters, or if you need to change the value of the input(think count_up from Lab2)"
   ]
  },
  {
   "cell_type": "code",
   "execution_count": 52,
   "metadata": {
    "collapsed": false
   },
   "outputs": [],
   "source": [
    "def is_prime(n):\n",
    "    \"\"\"Returns True if n is a prime and False otherwise.\n",
    "    \n",
    "    >>> is_prime(2)\n",
    "    True\n",
    "    >>> is_prime(16)\n",
    "    False\n",
    "    >>> is_prime(521)\n",
    "    True\n",
    "    \"\"\"\n",
    "    assert n > 1, \"n must greater than 1.\"\n",
    "    def helper(starter):\n",
    "        if n % starter == 0 and starter != 1:\n",
    "            return False\n",
    "        if starter == 1:\n",
    "            return True\n",
    "        else:\n",
    "            return helper(starter - 1)\n",
    "    return helper(n-1)"
   ]
  },
  {
   "cell_type": "code",
   "execution_count": 53,
   "metadata": {
    "collapsed": false
   },
   "outputs": [
    {
     "name": "stdout",
     "output_type": "stream",
     "text": [
      "Finding tests in NoName\n",
      "Trying:\n",
      "    is_prime(2)\n",
      "Expecting:\n",
      "    True\n",
      "ok\n",
      "Trying:\n",
      "    is_prime(16)\n",
      "Expecting:\n",
      "    False\n",
      "ok\n",
      "Trying:\n",
      "    is_prime(521)\n",
      "Expecting:\n",
      "    True\n",
      "ok\n"
     ]
    }
   ],
   "source": [
    "run_docstring_examples(is_prime, globals(), True)"
   ]
  },
  {
   "cell_type": "markdown",
   "metadata": {},
   "source": [
    "> The return statement at last cannot be a function, we need the value returned by the helper function. Thus, we need to call the helper function. "
   ]
  },
  {
   "cell_type": "code",
   "execution_count": null,
   "metadata": {
    "collapsed": true
   },
   "outputs": [],
   "source": [
    "# Answer from CS61A professor\n",
    "def is_prime(n):\n",
    "    \"\"\"Returns True if n is a prime number and False otherwise. \n",
    "\n",
    "    >>> is_prime(2)\n",
    "    True\n",
    "    >>> is_prime(16)\n",
    "    False\n",
    "    >>> is_prime(521)\n",
    "    True\n",
    "    \"\"\"\n",
    "    def helper(i):\n",
    "        if i < sqrt(n): #could replace with i == 1\n",
    "            return True\n",
    "        if n % i == 0:\n",
    "            return False\n",
    "        return helper(i - 1)\n",
    "    return helper(n - 1)"
   ]
  },
  {
   "cell_type": "markdown",
   "metadata": {},
   "source": [
    "### Question 5: Interleaved Sum"
   ]
  },
  {
   "cell_type": "markdown",
   "metadata": {},
   "source": [
    "Recall that the summation function computes the sum of a sequence of terms from 1 to n:"
   ]
  },
  {
   "cell_type": "code",
   "execution_count": 54,
   "metadata": {
    "collapsed": true
   },
   "outputs": [],
   "source": [
    "def summation(n, term):\n",
    "    \"\"\"Return the sum of the first n terms of a sequence.\n",
    "    \n",
    "    >>> summation(5, lambda x: pow(x, 3))\n",
    "    225\n",
    "    \"\"\"\n",
    "    total, k = 0, 1\n",
    "    while k <= n:\n",
    "        total, k = total + term(k), k + 1\n",
    "    return total"
   ]
  },
  {
   "cell_type": "markdown",
   "metadata": {},
   "source": [
    "Werite a function interleaved_sum that similarly computes the sum of a sequence of terms from 1 to n, but uses different function to compute the terms for odd and even numbers. Do so without using any loops or testing in any way if a number is odd or even. (You may test if a number is equal to 0, 1, or n.)"
   ]
  },
  {
   "cell_type": "markdown",
   "metadata": {},
   "source": [
    "> Hint: Use recursion and a helper function!"
   ]
  },
  {
   "cell_type": "code",
   "execution_count": null,
   "metadata": {
    "collapsed": true
   },
   "outputs": [],
   "source": [
    "def interleaved_sum(n, odd_term, even_term):\n",
    "    \"\"\"Compute the sum odd_term(1) + even_term(2) + odd_term(3) + ..., up\n",
    "    to n.\n",
    "    \n",
    "    \"\"\"\n",
    "    def is_even(n):\n",
    "        if n == 0:\n",
    "            return even_term(n)\n",
    "        else:\n",
    "            return odd_term(n-1)\n",
    "    def is_odd(n):\n",
    "        if n == 0:\n",
    "            return odd_term(n)\n",
    "        else:\n",
    "            return even_term(n-1)"
   ]
  },
  {
   "cell_type": "code",
   "execution_count": 56,
   "metadata": {
    "collapsed": false
   },
   "outputs": [],
   "source": [
    "def interleaved_sum(n, odd_term, even_term):\n",
    "    \"\"\"Compute the sum odd_term(1) + even_term(2) + odd_term(3) + ..., up\n",
    "    to n.\n",
    "    \n",
    "    \"\"\"\n",
    "    return interleaved_helper(n, odd_term, even_term, 1)\n",
    "\n",
    "def interleaved_helper(n, term0, term1, k):\n",
    "    if k == n:\n",
    "        return term0(k)\n",
    "    return term0(k) + interleaved_helper(n, term1, term0, k+1)\n",
    "\n",
    "# Alternate solution\n",
    "def interleaved_sum2(n, odd_term, even_term):\n",
    "    \"\"\"Compute the summ odd_term(1) + even_term(2) + odd_term(3) + ..., up\n",
    "    to n.\n",
    "    \"\"\"\n",
    "    total, term0, term1 = interleaved_helper2(n, odd_term, even_term)\n",
    "    return total\n",
    "\n",
    "def interleaved_helper2(n, odd_term, even_term):\n",
    "    if n == 1:\n",
    "        return odd_term(1), even_term, odd_term\n",
    "    else:\n",
    "        total, term0, term1 = interleaved_helper2(n-1, odd_term, even_term)\n",
    "    return total + term0(n), term1, term0"
   ]
  },
  {
   "cell_type": "markdown",
   "metadata": {},
   "source": [
    "## Lambdas"
   ]
  },
  {
   "cell_type": "markdown",
   "metadata": {},
   "source": [
    "### Question 6: WWPP: Lambdaa Trivia"
   ]
  },
  {
   "cell_type": "markdown",
   "metadata": {},
   "source": [
    "The following WWPP questions will review your understanding of lambdas. "
   ]
  },
  {
   "cell_type": "code",
   "execution_count": 57,
   "metadata": {
    "collapsed": false
   },
   "outputs": [
    {
     "data": {
      "text/plain": [
       "8"
      ]
     },
     "execution_count": 57,
     "metadata": {},
     "output_type": "execute_result"
    }
   ],
   "source": [
    "x = 5\n",
    "x = lambda x: lambda x: lambda y: 3 + x\n",
    "x(3)(5)(7)"
   ]
  },
  {
   "cell_type": "markdown",
   "metadata": {},
   "source": [
    "http://pythontutor.com/composingprograms.html#code=x+%3D+5%0Ax+%3D+lambda+x%3A+lambda+x%3A+lambda+y%3A+3+%2B+x%0Ax(3%29(5%29(7%29&mode=display&origin=composingprograms.js&cumulative=true&py=3&rawInputLstJSON=%5B%5D&curInstr=12"
   ]
  },
  {
   "cell_type": "code",
   "execution_count": 61,
   "metadata": {
    "collapsed": false
   },
   "outputs": [
    {
     "data": {
      "text/plain": [
       "'fly you shall'"
      ]
     },
     "execution_count": 61,
     "metadata": {},
     "output_type": "execute_result"
    }
   ],
   "source": [
    "you = 'fly'\n",
    "yo, da = lambda do: you, lambda can: True\n",
    "yo = yo('jedi')\n",
    "da = (3 and 4 and 5 and (False or ' you shall')) \n",
    "yo + da # 'fly you shall'"
   ]
  },
  {
   "cell_type": "code",
   "execution_count": 62,
   "metadata": {
    "collapsed": false
   },
   "outputs": [
    {
     "data": {
      "text/plain": [
       "<function __main__.<lambda>>"
      ]
     },
     "execution_count": 62,
     "metadata": {},
     "output_type": "execute_result"
    }
   ],
   "source": [
    "annoying = lambda yell: annoying\n",
    "annoying('aiya')('aaa')('aaaa')('aaaaa')('aaaaaa') #'aaaaaa'"
   ]
  },
  {
   "cell_type": "code",
   "execution_count": 63,
   "metadata": {
    "collapsed": false
   },
   "outputs": [
    {
     "name": "stdout",
     "output_type": "stream",
     "text": [
      "blah blah blah\n"
     ]
    },
    {
     "ename": "TypeError",
     "evalue": "unsupported operand type(s) for +: 'NoneType' and 'str'",
     "output_type": "error",
     "traceback": [
      "\u001b[0;31m---------------------------------------------------------------------------\u001b[0m",
      "\u001b[0;31mTypeError\u001b[0m                                 Traceback (most recent call last)",
      "\u001b[0;32m<ipython-input-63-906cadb8f14b>\u001b[0m in \u001b[0;36m<module>\u001b[0;34m()\u001b[0m\n\u001b[1;32m      2\u001b[0m \u001b[0mlip_service\u001b[0m \u001b[0;34m=\u001b[0m \u001b[0;32mlambda\u001b[0m \u001b[0msay\u001b[0m\u001b[0;34m:\u001b[0m\u001b[0mprint\u001b[0m\u001b[0;34m(\u001b[0m\u001b[0msay\u001b[0m\u001b[0;34m)\u001b[0m\u001b[0;34m\u001b[0m\u001b[0m\n\u001b[1;32m      3\u001b[0m \u001b[0museful_person\u001b[0m \u001b[0;34m=\u001b[0m \u001b[0;32mlambda\u001b[0m \u001b[0mdo\u001b[0m\u001b[0;34m:\u001b[0m\u001b[0mdo\u001b[0m \u001b[0;34m+\u001b[0m \u001b[0mmore\u001b[0m\u001b[0;34m\u001b[0m\u001b[0m\n\u001b[0;32m----> 4\u001b[0;31m \u001b[0mlip_service\u001b[0m\u001b[0;34m(\u001b[0m\u001b[0;34m'blah blah blah'\u001b[0m\u001b[0;34m)\u001b[0m \u001b[0;34m+\u001b[0m \u001b[0museful_person\u001b[0m\u001b[0;34m(\u001b[0m\u001b[0;34m'be'\u001b[0m\u001b[0;34m)\u001b[0m\u001b[0;34m\u001b[0m\u001b[0m\n\u001b[0m\u001b[1;32m      5\u001b[0m \u001b[0;31m# 'blah blah blah be productive'\u001b[0m\u001b[0;34m\u001b[0m\u001b[0;34m\u001b[0m\u001b[0m\n",
      "\u001b[0;31mTypeError\u001b[0m: unsupported operand type(s) for +: 'NoneType' and 'str'"
     ]
    }
   ],
   "source": [
    "more = ' productive'\n",
    "lip_service = lambda say:print(say)\n",
    "useful_person = lambda do:do + more\n",
    "lip_service('blah blah blah') + useful_person('be')\n",
    "# 'blah blah blah be productive'"
   ]
  },
  {
   "cell_type": "markdown",
   "metadata": {},
   "source": [
    "### Question 7: Lambda the Plentiful"
   ]
  },
  {
   "cell_type": "markdown",
   "metadata": {},
   "source": [
    "Try drawing an enviroment diagram for the following code and predict what python will output."
   ]
  },
  {
   "cell_type": "code",
   "execution_count": 64,
   "metadata": {
    "collapsed": false
   },
   "outputs": [
    {
     "name": "stdout",
     "output_type": "stream",
     "text": [
      "3\n"
     ]
    }
   ],
   "source": [
    "def go(bears):\n",
    "    gob = 3\n",
    "    print(gob)\n",
    "    return lambda ears: bears(gob)\n",
    "\n",
    "gob = 4\n",
    "bears = go(lambda ears: gob) # 3 (print), 4 (return)"
   ]
  },
  {
   "cell_type": "code",
   "execution_count": 65,
   "metadata": {
    "collapsed": false
   },
   "outputs": [
    {
     "data": {
      "text/plain": [
       "<function __main__.go.<locals>.<lambda>>"
      ]
     },
     "execution_count": 65,
     "metadata": {},
     "output_type": "execute_result"
    }
   ],
   "source": [
    "bears"
   ]
  },
  {
   "cell_type": "markdown",
   "metadata": {},
   "source": [
    "http://pythontutor.com/composingprograms.html#code=def+go(bears%29%3A%0A++++gob+%3D+3%0A++++print(gob%29%0A++++return+lambda+ears%3A+bears(gob%29%0A%0Agob+%3D+4%0Abears+%3D+go(lambda+ears%3A+gob%29+%23+3+(print%29,+4+(return%29&mode=display&origin=composingprograms.js&cumulative=true&py=3&rawInputLstJSON=%5B%5D&curInstr=8\n",
    "Global - go\n",
    "       - gob = 4\n",
    "       - bears = go(lambda ears: gob)\n",
    "          - gob = "
   ]
  },
  {
   "cell_type": "markdown",
   "metadata": {},
   "source": [
    "> 假如return的是function的话，是不会被evaluate的。直接返回函数"
   ]
  },
  {
   "cell_type": "markdown",
   "metadata": {},
   "source": [
    "### Question 8: Church numerals"
   ]
  },
  {
   "cell_type": "markdown",
   "metadata": {},
   "source": [
    "Find the value of the following three expressions, using the given values of t and s."
   ]
  },
  {
   "cell_type": "code",
   "execution_count": 68,
   "metadata": {
    "collapsed": false
   },
   "outputs": [
    {
     "data": {
      "text/plain": [
       "3"
      ]
     },
     "execution_count": 68,
     "metadata": {},
     "output_type": "execute_result"
    }
   ],
   "source": [
    "t = lambda f: lambda x: f(f(f(x)))\n",
    "s = lambda x: x + 1\n",
    "t(s)(0)\n",
    "# lambda (lambda x: x + 1): lambda 0: (((0+1)+1)+1)\n",
    "# 3"
   ]
  },
  {
   "cell_type": "code",
   "execution_count": 69,
   "metadata": {
    "collapsed": false
   },
   "outputs": [
    {
     "data": {
      "text/plain": [
       "27"
      ]
     },
     "execution_count": 69,
     "metadata": {},
     "output_type": "execute_result"
    }
   ],
   "source": [
    "t(t)(s)(0) # 9\n",
    "#lambda (lambda f: lambda x: f(f(f(x)))): lambda x: f(f(f(x)))"
   ]
  },
  {
   "cell_type": "markdown",
   "metadata": {},
   "source": [
    "### Question 9: Palindrome"
   ]
  },
  {
   "cell_type": "code",
   "execution_count": 70,
   "metadata": {
    "collapsed": true
   },
   "outputs": [],
   "source": [
    "def is_palindrome(n):\n",
    "    \"\"\"\n",
    "    Fill in the blanksa '____' to check if a number\n",
    "    is a palindrome\n",
    "    \n",
    "    >>> is_palindrome(12321)\n",
    "    True\n",
    "    >>> is_palindrome(42)\n",
    "    False\n",
    "    >>> is_palindrome(2015)\n",
    "    False\n",
    "    >>> is_palindrome(55)\n",
    "    True\n",
    "    \"\"\"\n",
    "    x, y = n, 0\n",
    "    f = lambda: y * 10 + x % 10  \n",
    "    while x > 0:\n",
    "        x, y = x // 10, f()\n",
    "    return y == n"
   ]
  },
  {
   "cell_type": "code",
   "execution_count": 71,
   "metadata": {
    "collapsed": false
   },
   "outputs": [
    {
     "name": "stdout",
     "output_type": "stream",
     "text": [
      "Finding tests in NoName\n",
      "Trying:\n",
      "    is_palindrome(12321)\n",
      "Expecting:\n",
      "    True\n",
      "ok\n",
      "Trying:\n",
      "    is_palindrome(42)\n",
      "Expecting:\n",
      "    False\n",
      "ok\n",
      "Trying:\n",
      "    is_palindrome(2015)\n",
      "Expecting:\n",
      "    False\n",
      "ok\n",
      "Trying:\n",
      "    is_palindrome(55)\n",
      "Expecting:\n",
      "    True\n",
      "ok\n"
     ]
    }
   ],
   "source": [
    "run_docstring_examples(is_palindrome, globals(), True)"
   ]
  },
  {
   "cell_type": "markdown",
   "metadata": {},
   "source": [
    "### Question 10: Ten pairs"
   ]
  },
  {
   "cell_type": "code",
   "execution_count": 72,
   "metadata": {
    "collapsed": true
   },
   "outputs": [],
   "source": [
    "def ten_pairs(n):\n",
    "    \"\"\"Return the number of ten-pairs within positive integer n.\n",
    "\n",
    "    >>> ten_pairs(7823952)\n",
    "    3\n",
    "    >>> ten_pairs(55055)\n",
    "    6\n",
    "    >>> ten_pairs(9641469)\n",
    "    6\n",
    "    \"\"\"\n",
    "    if n < 10:\n",
    "        return 0\n",
    "    else:\n",
    "        return ten_pairs(n//10) + count_digit(n//10, 10 - n%10)\n",
    "\n",
    "def count_digit(n, digit):\n",
    "    \"\"\"Return how many times digit appears in n.\n",
    "\n",
    "    >>> count_digit(55055, 5)\n",
    "    4\n",
    "    \"\"\"\n",
    "    if n == 0:\n",
    "        return 0\n",
    "    else:\n",
    "        if n%10 == digit:\n",
    "            return count_digit(n//10, digit) + 1\n",
    "        else:\n",
    "            return count_digit(n//10, digit)"
   ]
  },
  {
   "cell_type": "code",
   "execution_count": null,
   "metadata": {
    "collapsed": true
   },
   "outputs": [],
   "source": []
  }
 ],
 "metadata": {
  "kernelspec": {
   "display_name": "Python 3",
   "language": "python",
   "name": "python3"
  },
  "language_info": {
   "codemirror_mode": {
    "name": "ipython",
    "version": 3
   },
   "file_extension": ".py",
   "mimetype": "text/x-python",
   "name": "python",
   "nbconvert_exporter": "python",
   "pygments_lexer": "ipython3",
   "version": "3.5.1"
  }
 },
 "nbformat": 4,
 "nbformat_minor": 0
}
