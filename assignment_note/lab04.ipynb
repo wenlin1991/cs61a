{
 "cells": [
  {
   "cell_type": "markdown",
   "metadata": {},
   "source": [
    "# Lab4: Lists and Linked Lists"
   ]
  },
  {
   "cell_type": "markdown",
   "metadata": {},
   "source": [
    "## Lists"
   ]
  },
  {
   "cell_type": "markdown",
   "metadata": {},
   "source": [
    "### Question 1: How to get Seven?"
   ]
  },
  {
   "cell_type": "markdown",
   "metadata": {},
   "source": [
    "In each of following, what does the list indeing look like to get 7? Ex. x = [7], answer would be x[0]. You can use the interpreter or Python tutor to experiment with your answers. "
   ]
  },
  {
   "cell_type": "code",
   "execution_count": 1,
   "metadata": {
    "collapsed": false
   },
   "outputs": [
    {
     "data": {
      "text/plain": [
       "7"
      ]
     },
     "execution_count": 1,
     "metadata": {},
     "output_type": "execute_result"
    }
   ],
   "source": [
    "x = [1, 3, [5, 7], 9]\n",
    "x[2][1]"
   ]
  },
  {
   "cell_type": "code",
   "execution_count": 2,
   "metadata": {
    "collapsed": false
   },
   "outputs": [
    {
     "data": {
      "text/plain": [
       "7"
      ]
     },
     "execution_count": 2,
     "metadata": {},
     "output_type": "execute_result"
    }
   ],
   "source": [
    "x = [[7]]\n",
    "x[0][0]"
   ]
  },
  {
   "cell_type": "code",
   "execution_count": 5,
   "metadata": {
    "collapsed": false
   },
   "outputs": [
    {
     "data": {
      "text/plain": [
       "7"
      ]
     },
     "execution_count": 5,
     "metadata": {},
     "output_type": "execute_result"
    }
   ],
   "source": [
    "x = [1, [2, [3, [4, [5, [6, [7]]]]]]]\n",
    "x[1][1][1][1][1][1][0]"
   ]
  },
  {
   "cell_type": "markdown",
   "metadata": {},
   "source": [
    "### Question 2: If This Not That"
   ]
  },
  {
   "cell_type": "markdown",
   "metadata": {},
   "source": [
    "Define if_this_not_that, which takes a list of integers i_list, and an integer this, and for each element in i_list if the element is larger than this then print the element, otherwise print that. "
   ]
  },
  {
   "cell_type": "code",
   "execution_count": 6,
   "metadata": {
    "collapsed": false
   },
   "outputs": [
    {
     "name": "stdout",
     "output_type": "stream",
     "text": [
      "Finding tests in NoName\n",
      "Trying:\n",
      "    original_list = [1, 2, 3, 4, 5]\n",
      "Expecting nothing\n",
      "ok\n",
      "Trying:\n",
      "    if_this_not_that(original_list, 3)\n",
      "Expecting:\n",
      "    that\n",
      "    that\n",
      "    that\n",
      "    4\n",
      "    5\n",
      "ok\n"
     ]
    }
   ],
   "source": [
    "def if_this_not_that(i_list, this):\n",
    "    \"\"\"Define a function which takes a list of integers 'i_list' and an integer\n",
    "    'this'. For each element in 'i_list', print the element if it is larger \n",
    "    than 'this'; otherwise, print the word 'that'\n",
    "    >>> original_list = [1, 2, 3, 4, 5]\n",
    "    >>> if_this_not_that(original_list, 3)\n",
    "    that\n",
    "    that\n",
    "    that\n",
    "    4\n",
    "    5\n",
    "    \"\"\"\n",
    "    for i in range(len(i_list)):\n",
    "        if i_list[i] > this:\n",
    "            print(i_list[i])\n",
    "        else:\n",
    "            print('that')\n",
    "    \n",
    "from doctest import run_docstring_examples\n",
    "run_docstring_examples(if_this_not_that, globals(), True)"
   ]
  },
  {
   "cell_type": "markdown",
   "metadata": {},
   "source": [
    "## List Comprehension"
   ]
  },
  {
   "cell_type": "markdown",
   "metadata": {},
   "source": [
    "List comprehensions are a compact and powerful way of creating new lists out of sequences. Let's work with them directly:"
   ]
  },
  {
   "cell_type": "code",
   "execution_count": 8,
   "metadata": {
    "collapsed": false
   },
   "outputs": [
    {
     "data": {
      "text/plain": [
       "[4, 16]"
      ]
     },
     "execution_count": 8,
     "metadata": {},
     "output_type": "execute_result"
    }
   ],
   "source": [
    "[i**2 for i in [1, 2, 3, 4, 5] if i %2 == 0]"
   ]
  },
  {
   "cell_type": "code",
   "execution_count": 11,
   "metadata": {
    "collapsed": false
   },
   "outputs": [
    {
     "data": {
      "text/plain": [
       "[1, 2, 3, 4]"
      ]
     },
     "execution_count": 11,
     "metadata": {},
     "output_type": "execute_result"
    }
   ],
   "source": [
    "list(range(1, 5))"
   ]
  },
  {
   "cell_type": "markdown",
   "metadata": {},
   "source": [
    "The general syntax for a list comprehension is "
   ]
  },
  {
   "cell_type": "code",
   "execution_count": null,
   "metadata": {
    "collapsed": true
   },
   "outputs": [],
   "source": [
    "[<expression> for <element> in <sequence> if <condition>]"
   ]
  },
  {
   "cell_type": "markdown",
   "metadata": {},
   "source": [
    "The syntax is designed to read like English: \"Compute the expression for each element in the sequence if the condition is true.\""
   ]
  },
  {
   "cell_type": "markdown",
   "metadata": {},
   "source": [
    "> Note: The if clause in a list comprehension is optional. "
   ]
  },
  {
   "cell_type": "markdown",
   "metadata": {},
   "source": [
    "### Question 3: WWPP: Lists?"
   ]
  },
  {
   "cell_type": "markdown",
   "metadata": {},
   "source": [
    "What would Python print? Try to figure it out before you type it into the interpreter!"
   ]
  },
  {
   "cell_type": "code",
   "execution_count": 13,
   "metadata": {
    "collapsed": false
   },
   "outputs": [
    {
     "data": {
      "text/plain": [
       "[0, 1, 4, 9, 16]"
      ]
     },
     "execution_count": 13,
     "metadata": {},
     "output_type": "execute_result"
    }
   ],
   "source": [
    "[x*x for x in range(5)]\n",
    "# [0, 1, 4, 9, 16]"
   ]
  },
  {
   "cell_type": "code",
   "execution_count": 14,
   "metadata": {
    "collapsed": false
   },
   "outputs": [
    {
     "data": {
      "text/plain": [
       "[0, 2, 4, 6, 8]"
      ]
     },
     "execution_count": 14,
     "metadata": {},
     "output_type": "execute_result"
    }
   ],
   "source": [
    "[n for n in range(10) if n % 2 == 0]\n",
    "# [0, 2, 4, 6, 8]"
   ]
  },
  {
   "cell_type": "code",
   "execution_count": null,
   "metadata": {
    "collapsed": true
   },
   "outputs": [],
   "source": [
    "ones = [1 for i in [\"hi\", \"bye\", \"you\"]]\n",
    "ones + [str(i) for i in [6, 3, 8, 4]]"
   ]
  },
  {
   "cell_type": "code",
   "execution_count": 15,
   "metadata": {
    "collapsed": true
   },
   "outputs": [],
   "source": [
    "ones = [1 for i in [\"hi\", \"bye\", \"you\"]]"
   ]
  },
  {
   "cell_type": "code",
   "execution_count": 16,
   "metadata": {
    "collapsed": false
   },
   "outputs": [
    {
     "data": {
      "text/plain": [
       "[1, 1, 1]"
      ]
     },
     "execution_count": 16,
     "metadata": {},
     "output_type": "execute_result"
    }
   ],
   "source": [
    "ones"
   ]
  },
  {
   "cell_type": "markdown",
   "metadata": {},
   "source": [
    "### Question 4: Coordinates"
   ]
  },
  {
   "cell_type": "markdown",
   "metadata": {},
   "source": [
    "Implement a function coords that takes a function fn, a sequence seq, and a lower and upper bound on the output of the function. coords then returns a list of coordiante  pairs (lists) such that:\n",
    "  - Each (x, y) pair is represented as [x, fn(x)]\n",
    "  - The x-coordinates are elements in the sequence\n",
    "  - The result contains only pairs whose y-coordinate is within the upper and lower bounds(inclusive)"
   ]
  },
  {
   "cell_type": "markdown",
   "metadata": {},
   "source": [
    "See the doctest for examples."
   ]
  },
  {
   "cell_type": "markdown",
   "metadata": {},
   "source": [
    "> Note: your answer can only be one line long. You should make use of list comprehension."
   ]
  },
  {
   "cell_type": "code",
   "execution_count": 26,
   "metadata": {
    "collapsed": true
   },
   "outputs": [],
   "source": [
    "def coords(fn, seq, lower, upper):\n",
    "    \"\"\"\n",
    "    >>> seq = [-4, -2, 0, 1, 3]\n",
    "    >>> fn = lambda x: x**2\n",
    "    >>> coords(fn, seq, 1, 9)\n",
    "    [[-2, 4], [1, 1], [3, 9]]\n",
    "    \"\"\"\n",
    "    return [[i, fn(i)] for i in seq if fn(i) <= upper and fn(i) >= lower]"
   ]
  },
  {
   "cell_type": "code",
   "execution_count": 27,
   "metadata": {
    "collapsed": false
   },
   "outputs": [
    {
     "name": "stdout",
     "output_type": "stream",
     "text": [
      "Finding tests in NoName\n",
      "Trying:\n",
      "    seq = [-4, -2, 0, 1, 3]\n",
      "Expecting nothing\n",
      "ok\n",
      "Trying:\n",
      "    fn = lambda x: x**2\n",
      "Expecting nothing\n",
      "ok\n",
      "Trying:\n",
      "    coords(fn, seq, 1, 9)\n",
      "Expecting:\n",
      "    [[-2, 4], [1, 1], [3, 9]]\n",
      "ok\n"
     ]
    }
   ],
   "source": [
    "run_docstring_examples(coords, globals(), True)"
   ]
  },
  {
   "cell_type": "markdown",
   "metadata": {},
   "source": [
    "### Linked Lists (same as rList)"
   ]
  },
  {
   "cell_type": "markdown",
   "metadata": {},
   "source": [
    "### Question 5: Link to List"
   ]
  },
  {
   "cell_type": "markdown",
   "metadata": {},
   "source": [
    "- Write a function link_to_list that takes a linked list and converts it to a Python list. "
   ]
  },
  {
   "cell_type": "code",
   "execution_count": 31,
   "metadata": {
    "collapsed": true
   },
   "outputs": [],
   "source": [
    "empty = 'empty'\n",
    "\n",
    "def is_link(s):\n",
    "    \"\"\"s is a linked list if it is empty or a (first, rest) pair.\"\"\"\n",
    "    return s == empty or (type(s) == list and len(s) == 2 and is_link(s[1]))\n",
    "\n",
    "def link(first, rest=empty):\n",
    "    \"\"\"Construct a linked list from its first element and the rest.\"\"\"\n",
    "    assert is_link(rest), 'rest must be a linked list.'\n",
    "    return [first, rest]\n",
    "\n",
    "def first(s):\n",
    "    \"\"\"Return the first element of a linked list s.\"\"\"\n",
    "    assert is_link(s), 'first only applies to linked lists.'\n",
    "    assert s != empty, 'empty linked list has no first element.'\n",
    "    return s[0]\n",
    "\n",
    "def rest(s):\n",
    "    \"\"\"Return the rest of the elements of a linked list s.\"\"\"\n",
    "    assert is_link(s), 'rest only applies to linked lists.'\n",
    "    assert s != empty, 'empty linked list has no rest.'\n",
    "    return s[1]\n",
    "\n",
    "def print_link(s):\n",
    "    \"\"\"Print elements of a linked list s.\n",
    "    \n",
    "    >>> s = link(1, link(2, link(3, empty)))\n",
    "    >>> print_link(s)\n",
    "    1 2 3\n",
    "    \"\"\"\n",
    "    line = ''\n",
    "    while s != empty:\n",
    "        if line:\n",
    "            line += ' '\n",
    "        line += str(first(s))\n",
    "        s = rest(s)\n",
    "    print(line)"
   ]
  },
  {
   "cell_type": "code",
   "execution_count": 34,
   "metadata": {
    "collapsed": false
   },
   "outputs": [
    {
     "name": "stdout",
     "output_type": "stream",
     "text": [
      "Finding tests in NoName\n",
      "Trying:\n",
      "    link_to_list(empty)\n",
      "Expecting:\n",
      "    []\n",
      "ok\n",
      "Trying:\n",
      "    lst1 = link(1, link(2, link(3, empty)))\n",
      "Expecting nothing\n",
      "ok\n",
      "Trying:\n",
      "    link_to_list(lst1)\n",
      "Expecting:\n",
      "    [1, 2, 3]\n",
      "ok\n"
     ]
    }
   ],
   "source": [
    "def link_to_list(linked_lst):\n",
    "    \"\"\"Return a list that contains the values inside of linked_lst\n",
    "    >>> link_to_list(empty)\n",
    "    []\n",
    "    >>> lst1 = link(1, link(2, link(3, empty)))\n",
    "    >>> link_to_list(lst1)\n",
    "    [1, 2, 3]\n",
    "    \"\"\"\n",
    "    if linked_lst == empty:\n",
    "        return []\n",
    "    else:\n",
    "        return [first(linked_lst)] + link_to_list(rest(linked_lst))\n",
    "    \n",
    "run_docstring_examples(link_to_list, globals(), True)"
   ]
  },
  {
   "cell_type": "code",
   "execution_count": null,
   "metadata": {
    "collapsed": true
   },
   "outputs": [],
   "source": []
  }
 ],
 "metadata": {
  "kernelspec": {
   "display_name": "Python 3",
   "language": "python",
   "name": "python3"
  },
  "language_info": {
   "codemirror_mode": {
    "name": "ipython",
    "version": 3
   },
   "file_extension": ".py",
   "mimetype": "text/x-python",
   "name": "python",
   "nbconvert_exporter": "python",
   "pygments_lexer": "ipython3",
   "version": "3.5.1"
  }
 },
 "nbformat": 4,
 "nbformat_minor": 0
}
