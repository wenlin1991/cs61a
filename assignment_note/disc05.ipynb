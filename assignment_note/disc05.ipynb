{
 "cells": [
  {
   "cell_type": "markdown",
   "metadata": {},
   "source": [
    "# Trees and Mutation"
   ]
  },
  {
   "cell_type": "markdown",
   "metadata": {},
   "source": [
    "## Trees"
   ]
  },
  {
   "cell_type": "markdown",
   "metadata": {},
   "source": [
    "In computer science, trees are recursive data structures that are widely used in various settings. This is a diagram of a simple tree. "
   ]
  },
  {
   "cell_type": "markdown",
   "metadata": {},
   "source": [
    "Notice that the tree branches downward. In computer science, the root of a tree starts at the top, and the leaves at the bottom."
   ]
  },
  {
   "cell_type": "markdown",
   "metadata": {},
   "source": [
    "Some terminology regarding trees:\n",
    "  - Parent node: A node that has children. Parent nodes can have multiple children. \n",
    "  - Child node: A node that has a parent. A child node can only belong to one parent.\n",
    "  - Root: The top node of the tree. In our example, the node that contains 7 is the root. \n",
    "  - Leaf: A node that has no children. In our example, the node that contain - 4, 0, 6, 17, and 20 are leaves.\n",
    "  - Subtree: Notice that each dhild of a parent is itself the root of a smaller tree. In our example the node containing 1 is the root of another tree. This is why trees are recursive data structures: trees are made up of subtrees, which are trees themselves. \n",
    "  - Depth: How far away a node is from the root. In other words, the number of edges between the root of the tree to the node.\n",
    "  - Height: The depth of the lowest leaf. In the diagram, the nodes containing -4, 0, 6, and 17 are all the \"lowest leaves\", and they have depth 4. Thus, the entire tree has height 4. "
   ]
  },
  {
   "cell_type": "markdown",
   "metadata": {},
   "source": [
    "In computer science, there are many different types of trees. Some vary in the number of children each node has; others vary in the structure of the tree. A tree has both a label value and a sequence of children, which are also trees. In our implementation, we represent the children as lists of subtrees. Since a tree is an abstract data type, our choice to use lists is simply an implementation detail.\n",
    "  - The arguments to the constructor, tree, as a value for the label and a list of children. \n",
    "  - The selectors are label and children. "
   ]
  },
  {
   "cell_type": "code",
   "execution_count": 1,
   "metadata": {
    "collapsed": true
   },
   "outputs": [],
   "source": [
    "# Constructor\n",
    "def tree(label, children=[]):\n",
    "    return [label] + list(children)\n",
    "\n",
    "# Selector\n",
    "def label(tree):\n",
    "    return tree[0]\n",
    "\n",
    "def children(tree):\n",
    "    return tree[1:]\n",
    "\n",
    "def is_leaf(tree):\n",
    "    return not children(tree)"
   ]
  },
  {
   "cell_type": "code",
   "execution_count": 2,
   "metadata": {
    "collapsed": true
   },
   "outputs": [],
   "source": [
    "t = tree(1, \n",
    "         [tree(3, \n",
    "              [tree(4),\n",
    "               tree(5),\n",
    "               tree(6)]),\n",
    "         tree(2)])"
   ]
  },
  {
   "cell_type": "code",
   "execution_count": 3,
   "metadata": {
    "collapsed": false
   },
   "outputs": [
    {
     "data": {
      "text/plain": [
       "[1, [3, [4], [5], [6]], [2]]"
      ]
     },
     "execution_count": 3,
     "metadata": {},
     "output_type": "execute_result"
    }
   ],
   "source": [
    "t"
   ]
  },
  {
   "cell_type": "markdown",
   "metadata": {},
   "source": [
    "### 1.1 Questions"
   ]
  },
  {
   "cell_type": "markdown",
   "metadata": {},
   "source": [
    "1. Define a function square_tree(t) that squares every item in the tree t. It should return a new tree. You can assume that every item is a number."
   ]
  },
  {
   "cell_type": "code",
   "execution_count": 4,
   "metadata": {
    "collapsed": true
   },
   "outputs": [],
   "source": [
    "def square_tree(t):\n",
    "    \"\"\"Return a tree with the square of every element in t\"\"\"\n",
    "    sq_children = [square_tree(child) for child in children(t)]\n",
    "    return tree(label(T) ** 2, sq_children)"
   ]
  },
  {
   "cell_type": "code",
   "execution_count": 7,
   "metadata": {
    "collapsed": false
   },
   "outputs": [],
   "source": [
    "def tree_size(t):\n",
    "    size = 0\n",
    "    size_list = [size + 1 for child in children(t) if child != empty]\n",
    "    size = size_list[0]\n",
    "    if size == 0:\n",
    "        return size\n",
    "    else:\n",
    "        return size + 1"
   ]
  },
  {
   "cell_type": "code",
   "execution_count": 8,
   "metadata": {
    "collapsed": true
   },
   "outputs": [],
   "source": [
    "def tree_size(t):\n",
    "    \"\"\"Return the size of a tree.\"\"\"\n",
    "    return 1 + sum([tree_size(child) for child in children(t)])"
   ]
  },
  {
   "cell_type": "code",
   "execution_count": 9,
   "metadata": {
    "collapsed": false
   },
   "outputs": [
    {
     "data": {
      "text/plain": [
       "6"
      ]
     },
     "execution_count": 9,
     "metadata": {},
     "output_type": "execute_result"
    }
   ],
   "source": [
    "tree_size(t)"
   ]
  },
  {
   "cell_type": "markdown",
   "metadata": {},
   "source": [
    "3. Define the procedure find_path(tree, x) that, given a tree tree and a value x, returns a list containing the nodes along the path required to get from the root of tree to a node x. If x is not present in tree, return None. Assume that the labels of tree are unique.  "
   ]
  },
  {
   "cell_type": "code",
   "execution_count": 16,
   "metadata": {
    "collapsed": true
   },
   "outputs": [],
   "source": [
    "def find_path(tree, x):\n",
    "    if label(tree) == x:\n",
    "        return [label(tree)]\n",
    "    node, trees = label(tree), children(tree)\n",
    "    for path in [find_path(t, x) for t in trees]:\n",
    "        if path:\n",
    "            return [node] + path"
   ]
  },
  {
   "cell_type": "code",
   "execution_count": 12,
   "metadata": {
    "collapsed": false
   },
   "outputs": [],
   "source": [
    "path = []\n",
    "path.append(2)"
   ]
  },
  {
   "cell_type": "code",
   "execution_count": 13,
   "metadata": {
    "collapsed": false
   },
   "outputs": [
    {
     "data": {
      "text/plain": [
       "[2]"
      ]
     },
     "execution_count": 13,
     "metadata": {},
     "output_type": "execute_result"
    }
   ],
   "source": [
    "path"
   ]
  },
  {
   "cell_type": "code",
   "execution_count": 14,
   "metadata": {
    "collapsed": false
   },
   "outputs": [
    {
     "data": {
      "text/plain": [
       "[1, [3, [4], [5], [6]], [2]]"
      ]
     },
     "execution_count": 14,
     "metadata": {},
     "output_type": "execute_result"
    }
   ],
   "source": [
    "t"
   ]
  },
  {
   "cell_type": "code",
   "execution_count": 15,
   "metadata": {
    "collapsed": false
   },
   "outputs": [
    {
     "data": {
      "text/plain": [
       "[[3, [4], [5], [6]], [2]]"
      ]
     },
     "execution_count": 15,
     "metadata": {},
     "output_type": "execute_result"
    }
   ],
   "source": [
    "children(t)"
   ]
  },
  {
   "cell_type": "code",
   "execution_count": 17,
   "metadata": {
    "collapsed": false
   },
   "outputs": [
    {
     "data": {
      "text/plain": [
       "7"
      ]
     },
     "execution_count": 17,
     "metadata": {},
     "output_type": "execute_result"
    }
   ],
   "source": [
    "sum([1, 2, 4])"
   ]
  },
  {
   "cell_type": "code",
   "execution_count": 18,
   "metadata": {
    "collapsed": true
   },
   "outputs": [],
   "source": [
    "find_path(t, 15)"
   ]
  },
  {
   "cell_type": "code",
   "execution_count": 20,
   "metadata": {
    "collapsed": false
   },
   "outputs": [
    {
     "data": {
      "text/plain": [
       "[1, 3, 5]"
      ]
     },
     "execution_count": 20,
     "metadata": {},
     "output_type": "execute_result"
    }
   ],
   "source": [
    "find_path(t, 5)"
   ]
  },
  {
   "cell_type": "markdown",
   "metadata": {},
   "source": [
    "`4.` Implement a prune function which takes a tree t and a depth k, and should return a new tree that is a copy of only the first k levels of t. For example, it t is the tree shown in the previous question, then prune(t, 2) should return the tree. "
   ]
  },
  {
   "cell_type": "code",
   "execution_count": 21,
   "metadata": {
    "collapsed": true
   },
   "outputs": [],
   "source": [
    "def prune(t, k):\n",
    "    if k == 0:\n",
    "        return tree(label(t), [])\n",
    "    else:\n",
    "        return tree(label(t), [prune(child, k - 1) for \n",
    "                               child in children(t)])"
   ]
  },
  {
   "cell_type": "code",
   "execution_count": 22,
   "metadata": {
    "collapsed": true
   },
   "outputs": [],
   "source": [
    "def find_path(tree, x):\n",
    "    if label(tree) == x:\n",
    "        return [label(tree)]\n",
    "    node, trees = label(tree), children(tree)\n",
    "    for path in [find_path(t, x) for t in trees]:\n",
    "        if path:\n",
    "            return [node] + path"
   ]
  },
  {
   "cell_type": "markdown",
   "metadata": {},
   "source": [
    "## 2. Mutable Lists"
   ]
  },
  {
   "cell_type": "markdown",
   "metadata": {},
   "source": [
    "Let's imagine you order a mushroom and cheese pizza from Domino's, and that they represent your order as a list:"
   ]
  },
  {
   "cell_type": "code",
   "execution_count": 23,
   "metadata": {
    "collapsed": true
   },
   "outputs": [],
   "source": [
    "pizza1 = ['cheese', 'mushrooms']"
   ]
  },
  {
   "cell_type": "markdown",
   "metadata": {},
   "source": [
    "A couple miniutes later, you realize that you really want onions on the pizza. Based on what we know so far, Domino's would have to build an entirely new list to add onions:"
   ]
  },
  {
   "cell_type": "code",
   "execution_count": 24,
   "metadata": {
    "collapsed": false
   },
   "outputs": [
    {
     "data": {
      "text/plain": [
       "['cheese', 'mushrooms', 'onions']"
      ]
     },
     "execution_count": 24,
     "metadata": {},
     "output_type": "execute_result"
    }
   ],
   "source": [
    "pizza2 = pizza1 + ['onions']\n",
    "pizza2"
   ]
  },
  {
   "cell_type": "markdown",
   "metadata": {},
   "source": [
    "But this is silly, considering that all Domino's had to do was add onions on top of pizza1 instead of making an entirely new pizza2. "
   ]
  },
  {
   "cell_type": "markdown",
   "metadata": {},
   "source": [
    "Python actually allows you to mutate some objects, includings lists and dictionaries. Mutability means that the object's contents can be changed. So instead of building a new pizza2, we can use pizza1.append('onions') to mutate the pizza1. "
   ]
  },
  {
   "cell_type": "code",
   "execution_count": 25,
   "metadata": {
    "collapsed": true
   },
   "outputs": [],
   "source": [
    "pizza1.append('onions')"
   ]
  },
  {
   "cell_type": "code",
   "execution_count": 26,
   "metadata": {
    "collapsed": false
   },
   "outputs": [
    {
     "data": {
      "text/plain": [
       "['cheese', 'mushrooms', 'onions']"
      ]
     },
     "execution_count": 26,
     "metadata": {},
     "output_type": "execute_result"
    }
   ],
   "source": [
    "pizza1"
   ]
  },
  {
   "cell_type": "markdown",
   "metadata": {},
   "source": [
    "Although lists and dictionaries are mutable, many other objects, such as numeric types, tuples, and strings, are immutable, meaning they cannot be changed once they are created. We can use the familiar indexing operator to mutate a single element in a list. For instance lst[4] = 'hello' would change the fifth element in lst to be the string 'hello'. In addition to the indexing operator, lists have many mutating methods. List mehtods are functions that are bound to a specific list. Some useful list methods are listed here:\n",
    "  1. append(el) adds el to the add of the list\n",
    "  2. insert(i, el) insert el at index i (does not replace element but adds a new one)\n",
    "  3. remove(el) removes the first occurrence of el in list, otherwise errors\n",
    "  4. pop(i) removes and returns the element at index i\n"
   ]
  },
  {
   "cell_type": "markdown",
   "metadata": {},
   "source": [
    "List methods are called via dot notation, as in: "
   ]
  },
  {
   "cell_type": "code",
   "execution_count": 27,
   "metadata": {
    "collapsed": false
   },
   "outputs": [
    {
     "data": {
      "text/plain": [
       "'reggie wayne'"
      ]
     },
     "execution_count": 27,
     "metadata": {},
     "output_type": "execute_result"
    }
   ],
   "source": [
    "colts = ['andrew lusk', 'reggie wayne']\n",
    "colts.append('trent richardson')\n",
    "colts.pop(1)"
   ]
  },
  {
   "cell_type": "code",
   "execution_count": 28,
   "metadata": {
    "collapsed": false
   },
   "outputs": [
    {
     "data": {
      "text/plain": [
       "['andrew lusk', 'trent richardson']"
      ]
     },
     "execution_count": 28,
     "metadata": {},
     "output_type": "execute_result"
    }
   ],
   "source": [
    "colts"
   ]
  },
  {
   "cell_type": "markdown",
   "metadata": {},
   "source": [
    "### 2.1 Questions "
   ]
  },
  {
   "cell_type": "markdown",
   "metadata": {},
   "source": [
    "`1.` Consider the following definitions and assignments and determine what Python would output for each of the calls berlow if they were evaluated in order. It may be helpful to draw the box and pointers diagrams to the right in order to keep track of the state. "
   ]
  },
  {
   "cell_type": "code",
   "execution_count": 29,
   "metadata": {
    "collapsed": false
   },
   "outputs": [
    {
     "data": {
      "text/plain": [
       "True"
      ]
     },
     "execution_count": 29,
     "metadata": {},
     "output_type": "execute_result"
    }
   ],
   "source": [
    "lst1 = [1, 2, 3]\n",
    "lst2 = [1, 2, 3]\n",
    "lst1 == lst2  \n",
    "# True"
   ]
  },
  {
   "cell_type": "code",
   "execution_count": 30,
   "metadata": {
    "collapsed": false
   },
   "outputs": [
    {
     "data": {
      "text/plain": [
       "False"
      ]
     },
     "execution_count": 30,
     "metadata": {},
     "output_type": "execute_result"
    }
   ],
   "source": [
    "lst1 is lst2\n",
    "# False"
   ]
  },
  {
   "cell_type": "code",
   "execution_count": 32,
   "metadata": {
    "collapsed": false
   },
   "outputs": [
    {
     "data": {
      "text/plain": [
       "True"
      ]
     },
     "execution_count": 32,
     "metadata": {},
     "output_type": "execute_result"
    }
   ],
   "source": [
    "lst2 = lst1\n",
    "lst2 is lst1\n",
    "# True"
   ]
  },
  {
   "cell_type": "code",
   "execution_count": 33,
   "metadata": {
    "collapsed": false
   },
   "outputs": [
    {
     "data": {
      "text/plain": [
       "[1, 2, 3, 4]"
      ]
     },
     "execution_count": 33,
     "metadata": {},
     "output_type": "execute_result"
    }
   ],
   "source": [
    "lst1.append(4)\n",
    "lst1 \n",
    "# [ 1, 2, 3, 4]"
   ]
  },
  {
   "cell_type": "code",
   "execution_count": 34,
   "metadata": {
    "collapsed": false
   },
   "outputs": [
    {
     "data": {
      "text/plain": [
       "[1, 2, 3, 4]"
      ]
     },
     "execution_count": 34,
     "metadata": {},
     "output_type": "execute_result"
    }
   ],
   "source": [
    "lst2\n",
    "# [1, 2, 3]"
   ]
  },
  {
   "cell_type": "code",
   "execution_count": 35,
   "metadata": {
    "collapsed": false
   },
   "outputs": [
    {
     "data": {
      "text/plain": [
       "[1, 42, 3, 4]"
      ]
     },
     "execution_count": 35,
     "metadata": {},
     "output_type": "execute_result"
    }
   ],
   "source": [
    "lst2[1] = 42\n",
    "lst2\n",
    "# [1, 42, 3, 4]"
   ]
  },
  {
   "cell_type": "code",
   "execution_count": 36,
   "metadata": {
    "collapsed": false
   },
   "outputs": [
    {
     "data": {
      "text/plain": [
       "False"
      ]
     },
     "execution_count": 36,
     "metadata": {},
     "output_type": "execute_result"
    }
   ],
   "source": [
    "lst1 = lst1 + [5]\n",
    "lst1 == lst2\n",
    "# True"
   ]
  },
  {
   "cell_type": "code",
   "execution_count": 37,
   "metadata": {
    "collapsed": false
   },
   "outputs": [
    {
     "data": {
      "text/plain": [
       "[1, 42, 3, 4, 5]"
      ]
     },
     "execution_count": 37,
     "metadata": {},
     "output_type": "execute_result"
    }
   ],
   "source": [
    "lst1"
   ]
  },
  {
   "cell_type": "code",
   "execution_count": 38,
   "metadata": {
    "collapsed": false
   },
   "outputs": [
    {
     "data": {
      "text/plain": [
       "[1, 42, 3, 4]"
      ]
     },
     "execution_count": 38,
     "metadata": {},
     "output_type": "execute_result"
    }
   ],
   "source": [
    "lst2"
   ]
  },
  {
   "cell_type": "code",
   "execution_count": 39,
   "metadata": {
    "collapsed": false
   },
   "outputs": [
    {
     "data": {
      "text/plain": [
       "False"
      ]
     },
     "execution_count": 39,
     "metadata": {},
     "output_type": "execute_result"
    }
   ],
   "source": [
    "lst2 is lst1\n",
    "# False"
   ]
  },
  {
   "cell_type": "markdown",
   "metadata": {},
   "source": [
    "`2.` Write a function that removes all instances of an element from a list."
   ]
  },
  {
   "cell_type": "code",
   "execution_count": 54,
   "metadata": {
    "collapsed": false
   },
   "outputs": [],
   "source": [
    "def remove_all(el, lst):\n",
    "    \"\"\"\n",
    "    >>> x = [3, 1, 2, 1, 5, 1, 1, 7]\n",
    "    >>> remove_all(1, x)\n",
    "    >>> x \n",
    "    [3, 2, 5, 7]\n",
    "    \"\"\"\n",
    "    [lst.remove(i) for i in lst if i == el]\n",
    "    return lst"
   ]
  },
  {
   "cell_type": "code",
   "execution_count": 55,
   "metadata": {
    "collapsed": false
   },
   "outputs": [
    {
     "name": "stdout",
     "output_type": "stream",
     "text": [
      "Finding tests in NoName\n",
      "Trying:\n",
      "    x = [3, 1, 2, 1, 5, 1, 1, 7]\n",
      "Expecting nothing\n",
      "ok\n",
      "Trying:\n",
      "    remove_all(1, x)\n",
      "Expecting nothing\n",
      "**********************************************************************\n",
      "File \"__main__\", line 4, in NoName\n",
      "Failed example:\n",
      "    remove_all(1, x)\n",
      "Expected nothing\n",
      "Got:\n",
      "    [3, 2, 5, 1, 7]\n",
      "Trying:\n",
      "    x \n",
      "Expecting:\n",
      "    [3, 2, 5, 7]\n",
      "**********************************************************************\n",
      "File \"__main__\", line 5, in NoName\n",
      "Failed example:\n",
      "    x \n",
      "Expected:\n",
      "    [3, 2, 5, 7]\n",
      "Got:\n",
      "    [3, 2, 5, 1, 7]\n"
     ]
    }
   ],
   "source": [
    "from doctest import run_docstring_examples\n",
    "run_docstring_examples(remove_all, globals(), True)"
   ]
  },
  {
   "cell_type": "code",
   "execution_count": 44,
   "metadata": {
    "collapsed": true
   },
   "outputs": [],
   "source": [
    "lst = [1, 2, 3]\n",
    "lst.remove(1)"
   ]
  },
  {
   "cell_type": "code",
   "execution_count": 45,
   "metadata": {
    "collapsed": false
   },
   "outputs": [
    {
     "data": {
      "text/plain": [
       "[2, 3]"
      ]
     },
     "execution_count": 45,
     "metadata": {},
     "output_type": "execute_result"
    }
   ],
   "source": [
    "lst"
   ]
  },
  {
   "cell_type": "code",
   "execution_count": 56,
   "metadata": {
    "collapsed": true
   },
   "outputs": [],
   "source": [
    "x = [3, 1, 2, 1, 5, 1, 1, 7]"
   ]
  },
  {
   "cell_type": "code",
   "execution_count": 60,
   "metadata": {
    "collapsed": false
   },
   "outputs": [],
   "source": [
    "while 1 in x:\n",
    "    x.remove(1)"
   ]
  },
  {
   "cell_type": "code",
   "execution_count": 5,
   "metadata": {
    "collapsed": false
   },
   "outputs": [],
   "source": [
    "# Answer from CS61A Professor\n",
    "def remove_all(el, lst):\n",
    "    \"\"\"\n",
    "    >>> x = [3, 1, 2, 1, 5, 1, 1, 7]\n",
    "    >>> remove_all(1, x)\n",
    "    >>> x \n",
    "    [3, 2, 5, 7]\n",
    "    \"\"\"\n",
    "    while el in lst:\n",
    "        lst.remove(el)"
   ]
  },
  {
   "cell_type": "code",
   "execution_count": 6,
   "metadata": {
    "collapsed": false
   },
   "outputs": [
    {
     "name": "stdout",
     "output_type": "stream",
     "text": [
      "Finding tests in NoName\n",
      "Trying:\n",
      "    x = [3, 1, 2, 1, 5, 1, 1, 7]\n",
      "Expecting nothing\n",
      "ok\n",
      "Trying:\n",
      "    remove_all(1, x)\n",
      "Expecting nothing\n",
      "ok\n",
      "Trying:\n",
      "    x \n",
      "Expecting:\n",
      "    [3, 2, 5, 7]\n",
      "ok\n"
     ]
    }
   ],
   "source": [
    "from doctest import run_docstring_examples\n",
    "run_docstring_examples(remove_all, globals(), True)"
   ]
  },
  {
   "cell_type": "markdown",
   "metadata": {},
   "source": [
    "**Cannot use list comprehension here, must use while loop instead**"
   ]
  },
  {
   "cell_type": "markdown",
   "metadata": {},
   "source": [
    "`3.`Write a function that takes in two values x and el, and a list, and adds as many el's to the end of the list as there are x's."
   ]
  },
  {
   "cell_type": "code",
   "execution_count": 5,
   "metadata": {
    "collapsed": false
   },
   "outputs": [],
   "source": [
    "def add_this_many(x, el, lst):\n",
    "    \"\"\"Adds el to the end of lst the number of times x occurs in lst.\n",
    "    \n",
    "    >>> lst = [1, 2, 4, 2, 1]\n",
    "    >>> add_this_many(1, 5, lst)\n",
    "    >>> lst\n",
    "    [1, 2, 4, 2, 1, 5, 5]\n",
    "    >>> add_this_many(2, 2, lst)\n",
    "    >>> lst\n",
    "    [1, 2, 4, 2, 1, 5, 5, 2, 2]\n",
    "    \"\"\"\n",
    "    count = 0\n",
    "    for element in lst:\n",
    "        if element == x:\n",
    "            count += 1\n",
    "    while count > 0:\n",
    "        lst.append(el)\n",
    "        count -= 1"
   ]
  },
  {
   "cell_type": "code",
   "execution_count": 6,
   "metadata": {
    "collapsed": false
   },
   "outputs": [
    {
     "name": "stdout",
     "output_type": "stream",
     "text": [
      "Finding tests in NoName\n",
      "Trying:\n",
      "    lst = [1, 2, 4, 2, 1]\n",
      "Expecting nothing\n",
      "ok\n",
      "Trying:\n",
      "    add_this_many(1, 5, lst)\n",
      "Expecting nothing\n",
      "ok\n",
      "Trying:\n",
      "    lst\n",
      "Expecting:\n",
      "    [1, 2, 4, 2, 1, 5, 5]\n",
      "ok\n",
      "Trying:\n",
      "    add_this_many(2, 2, lst)\n",
      "Expecting nothing\n",
      "ok\n",
      "Trying:\n",
      "    lst\n",
      "Expecting:\n",
      "    [1, 2, 4, 2, 1, 5, 5, 2, 2]\n",
      "ok\n"
     ]
    }
   ],
   "source": [
    "run_docstring_examples(add_this_many, globals(), True)"
   ]
  },
  {
   "cell_type": "markdown",
   "metadata": {
    "collapsed": true
   },
   "source": [
    "**[1, 2, 4, 2, 1] + [5, 5]** is right, However, this will not change the original list.  "
   ]
  },
  {
   "cell_type": "markdown",
   "metadata": {},
   "source": [
    "### 3. Dictionaries"
   ]
  },
  {
   "cell_type": "markdown",
   "metadata": {},
   "source": [
    "Dictionaries are data strucutures which map keys to values. Dictionaries in Python are unordered, unlike real-world dictionaries -- in the other words, key-value pairs are not arranged in the dictionary in any particular order. Let's look at an example:"
   ]
  },
  {
   "cell_type": "code",
   "execution_count": 7,
   "metadata": {
    "collapsed": false
   },
   "outputs": [
    {
     "data": {
      "text/plain": [
       "25"
      ]
     },
     "execution_count": 7,
     "metadata": {},
     "output_type": "execute_result"
    }
   ],
   "source": [
    "pokemon = {'pikachu': 25, 'dragonair': 148, 'mew': 151}\n",
    "pokemon['pikachu']"
   ]
  },
  {
   "cell_type": "code",
   "execution_count": 8,
   "metadata": {
    "collapsed": true
   },
   "outputs": [],
   "source": [
    "pokemon['jolteon'] = 135"
   ]
  },
  {
   "cell_type": "code",
   "execution_count": 9,
   "metadata": {
    "collapsed": false
   },
   "outputs": [
    {
     "data": {
      "text/plain": [
       "{'dragonair': 148, 'jolteon': 135, 'mew': 151, 'pikachu': 25}"
      ]
     },
     "execution_count": 9,
     "metadata": {},
     "output_type": "execute_result"
    }
   ],
   "source": [
    "pokemon"
   ]
  },
  {
   "cell_type": "code",
   "execution_count": 10,
   "metadata": {
    "collapsed": true
   },
   "outputs": [],
   "source": [
    "pokemon['ditto'] = 25"
   ]
  },
  {
   "cell_type": "code",
   "execution_count": 11,
   "metadata": {
    "collapsed": false
   },
   "outputs": [
    {
     "data": {
      "text/plain": [
       "{'ditto': 25, 'dragonair': 148, 'jolteon': 135, 'mew': 151, 'pikachu': 25}"
      ]
     },
     "execution_count": 11,
     "metadata": {},
     "output_type": "execute_result"
    }
   ],
   "source": [
    "pokemon"
   ]
  },
  {
   "cell_type": "markdown",
   "metadata": {},
   "source": [
    "The keys of a dictionary can be any immutable value, such as numbers, strings, and tuples. Dictionaries themselves are mutable; we can add, remove, and change entries after creation. There is only one value per key, however -- if we assign a new value to the same key, it overrides any previousany previous value which might have existed. "
   ]
  },
  {
   "cell_type": "markdown",
   "metadata": {},
   "source": [
    "To access the value of dictionary at key, use the syntax dictionary[key]."
   ]
  },
  {
   "cell_type": "markdown",
   "metadata": {},
   "source": [
    "Element selection and reassignment work similarly to sequences, except the square brackets contain the key, not an index. \n",
    "  - To add val corresponding to key or to replace the current value of key with val:\n",
    "    - dictionary[key] = val\n",
    "  - To iterate over a dictionary's keys:\n",
    "    - for key in dictionary: # OR for key in dictionary.keys()\n",
    "        do_stuff()\n",
    "  - To iterate over a dictionary's values:\n",
    "    - for value in dictionary.values():\n",
    "        do_stuff()\n",
    "  - To remove an entry in a dictionary:\n",
    "    - del dictionary[key]\n",
    "  - To get the value corresponding to key and remove the entry:\n",
    "    - dictionary.pop(key)"
   ]
  },
  {
   "cell_type": "markdown",
   "metadata": {},
   "source": [
    "### 3.1 Questions"
   ]
  },
  {
   "cell_type": "markdown",
   "metadata": {},
   "source": [
    "`1.` What would Python output given the following inputs?"
   ]
  },
  {
   "cell_type": "code",
   "execution_count": 12,
   "metadata": {
    "collapsed": false
   },
   "outputs": [
    {
     "data": {
      "text/plain": [
       "False"
      ]
     },
     "execution_count": 12,
     "metadata": {},
     "output_type": "execute_result"
    }
   ],
   "source": [
    "'mewtwo' in pokemon\n",
    "# False"
   ]
  },
  {
   "cell_type": "code",
   "execution_count": 13,
   "metadata": {
    "collapsed": false
   },
   "outputs": [
    {
     "data": {
      "text/plain": [
       "5"
      ]
     },
     "execution_count": 13,
     "metadata": {},
     "output_type": "execute_result"
    }
   ],
   "source": [
    "len(pokemon)\n",
    "# 5"
   ]
  },
  {
   "cell_type": "code",
   "execution_count": 16,
   "metadata": {
    "collapsed": false
   },
   "outputs": [
    {
     "data": {
      "text/plain": [
       "{'pikachu': 25,\n",
       " 'dragonair': 148,\n",
       " 25: 'pikachu',\n",
       " 'ditto': 135,\n",
       " 'mew': 151,\n",
       " 'jolteon': 135,\n",
       " ('diglett', 'diglett', 'diglett'): 51}"
      ]
     },
     "execution_count": 16,
     "metadata": {},
     "output_type": "execute_result"
    }
   ],
   "source": [
    "pokemon['ditto'] = pokemon['jolteon'] # change ditto value\n",
    "pokemon[('diglett', 'diglett', 'diglett')] = 51 # add a pair\n",
    "pokemon[25] = 'pikachu' # add a pair {25: 'pikachu'}\n",
    "pokemon"
   ]
  },
  {
   "cell_type": "code",
   "execution_count": 17,
   "metadata": {
    "collapsed": false
   },
   "outputs": [
    {
     "data": {
      "text/plain": [
       "{'pikachu': 25,\n",
       " 'dragonair': 148,\n",
       " 'mewtwo': 302,\n",
       " 25: 'pikachu',\n",
       " 'ditto': 135,\n",
       " 'mew': 151,\n",
       " 'jolteon': 135,\n",
       " ('diglett', 'diglett', 'diglett'): 51}"
      ]
     },
     "execution_count": 17,
     "metadata": {},
     "output_type": "execute_result"
    }
   ],
   "source": [
    "pokemon['mewtwo'] = pokemon['mew'] * 2\n",
    "pokemon"
   ]
  },
  {
   "cell_type": "code",
   "execution_count": 18,
   "metadata": {
    "collapsed": false
   },
   "outputs": [
    {
     "ename": "TypeError",
     "evalue": "unhashable type: 'list'",
     "output_type": "error",
     "traceback": [
      "\u001b[1;31m---------------------------------------------------------------------------\u001b[0m",
      "\u001b[1;31mTypeError\u001b[0m                                 Traceback (most recent call last)",
      "\u001b[1;32m<ipython-input-18-0b2955e65f82>\u001b[0m in \u001b[0;36m<module>\u001b[1;34m()\u001b[0m\n\u001b[1;32m----> 1\u001b[1;33m \u001b[0mpokemon\u001b[0m\u001b[1;33m[\u001b[0m\u001b[1;33m[\u001b[0m\u001b[1;34m'firetype'\u001b[0m\u001b[1;33m,\u001b[0m \u001b[1;34m'flying'\u001b[0m\u001b[1;33m]\u001b[0m\u001b[1;33m]\u001b[0m \u001b[1;33m=\u001b[0m \u001b[1;36m146\u001b[0m\u001b[1;33m\u001b[0m\u001b[0m\n\u001b[0m\u001b[0;32m      2\u001b[0m \u001b[0mpokemon\u001b[0m\u001b[1;33m\u001b[0m\u001b[0m\n",
      "\u001b[1;31mTypeError\u001b[0m: unhashable type: 'list'"
     ]
    }
   ],
   "source": [
    "pokemon[['firetype', 'flying']] = 146\n",
    "pokemon"
   ]
  },
  {
   "cell_type": "markdown",
   "metadata": {},
   "source": [
    "`2.` Given a (non-nested) dictionary d, write a function which deletes all occurrences of x as a value. You cannot delete items in a dictionary as you are iterating through it. "
   ]
  },
  {
   "cell_type": "code",
   "execution_count": 7,
   "metadata": {
    "collapsed": true
   },
   "outputs": [],
   "source": [
    "def remove_all(d, x):\n",
    "    \"\"\"\n",
    "    >>> d = {1:2, 2:3, 3:2, 4:3}\n",
    "    >>> remove_all(d, 2)\n",
    "    >>> d\n",
    "    {2: 3, 4: 3}\n",
    "    \"\"\"\n",
    "    del_key = []\n",
    "    for key, value in d.items():\n",
    "        if value == 2:\n",
    "            del_key.append(key)\n",
    "    count = len(del_key)\n",
    "    for i in range(len(del_key)):\n",
    "        del d[del_key[i]]"
   ]
  },
  {
   "cell_type": "code",
   "execution_count": 8,
   "metadata": {
    "collapsed": false
   },
   "outputs": [
    {
     "name": "stdout",
     "output_type": "stream",
     "text": [
      "Finding tests in NoName\n",
      "Trying:\n",
      "    d = {1:2, 2:3, 3:2, 4:3}\n",
      "Expecting nothing\n",
      "ok\n",
      "Trying:\n",
      "    remove_all(d, 2)\n",
      "Expecting nothing\n",
      "ok\n",
      "Trying:\n",
      "    d\n",
      "Expecting:\n",
      "    {2: 3, 4: 3}\n",
      "ok\n"
     ]
    }
   ],
   "source": [
    "run_docstring_examples(remove_all, globals(), True)"
   ]
  },
  {
   "cell_type": "code",
   "execution_count": 23,
   "metadata": {
    "collapsed": false
   },
   "outputs": [],
   "source": [
    "d = {1:2, 2:3, 3:2, 4:3}\n",
    "del_key = []\n",
    "for key,value in d.items():\n",
    "    if value == 2:\n",
    "        del_key.append(key)"
   ]
  },
  {
   "cell_type": "code",
   "execution_count": 2,
   "metadata": {
    "collapsed": false
   },
   "outputs": [
    {
     "data": {
      "text/plain": [
       "2"
      ]
     },
     "execution_count": 2,
     "metadata": {},
     "output_type": "execute_result"
    }
   ],
   "source": [
    "lst = [1, 2, 3]\n",
    "lst[1]"
   ]
  },
  {
   "cell_type": "code",
   "execution_count": 9,
   "metadata": {
    "collapsed": true
   },
   "outputs": [],
   "source": [
    "def remove_all(d,x):\n",
    "    keys_to_delete = [key for key in d[key] == x]\n",
    "    for key in keys_to_delete:\n",
    "        del d[key]"
   ]
  },
  {
   "cell_type": "markdown",
   "metadata": {},
   "source": [
    "`3.` Write a function group_by that takes in a sequence s and a function fn and returns a dictionary. The function fn will take in an element of the sequence and return some key. The returned dictionary gourps all of the elements in s by the key returned from fn. "
   ]
  },
  {
   "cell_type": "code",
   "execution_count": 10,
   "metadata": {
    "collapsed": true
   },
   "outputs": [],
   "source": [
    "def group_by(s, fn):\n",
    "    \"\"\"\n",
    "    >>> group_by([12, 23, 14, 45], lambda p: p // 10)\n",
    "    {1: [12, 14], 2:[23], 4: [45]}\n",
    "    >>> group_by(range(-3, 4), lambda x: x * x)\n",
    "    {0: [0], 1: [-1, 1], 4: [-2, 2], 9: [-3, 3]}\n",
    "    \"\"\"\n",
    "    grouped = {}\n",
    "    for element in s:\n",
    "        key = fn(element)\n",
    "        if key in grouped.keys():\n",
    "            grouped[key].append(element)\n",
    "        else:\n",
    "            grouped[key] = [element]\n",
    "    return grouped"
   ]
  },
  {
   "cell_type": "code",
   "execution_count": 12,
   "metadata": {
    "collapsed": false
   },
   "outputs": [
    {
     "data": {
      "text/plain": [
       "{1: [12, 14], 2: [23], 4: [45]}"
      ]
     },
     "execution_count": 12,
     "metadata": {},
     "output_type": "execute_result"
    }
   ],
   "source": [
    "group_by([12, 23, 14, 45], lambda p: p // 10)"
   ]
  },
  {
   "cell_type": "code",
   "execution_count": 13,
   "metadata": {
    "collapsed": false
   },
   "outputs": [
    {
     "data": {
      "text/plain": [
       "{0: [0], 1: [-1, 1], 4: [-2, 2], 9: [-3, 3]}"
      ]
     },
     "execution_count": 13,
     "metadata": {},
     "output_type": "execute_result"
    }
   ],
   "source": [
    "group_by(range(-3, 4), lambda x: x * x)"
   ]
  },
  {
   "cell_type": "markdown",
   "metadata": {},
   "source": [
    "`4.` Given an arbirarily deep dictionary d, repalce all occurences of x as a value (not a key) with y. Hint: You will need to combine iteration and recursion."
   ]
  },
  {
   "cell_type": "code",
   "execution_count": 14,
   "metadata": {
    "collapsed": true
   },
   "outputs": [],
   "source": [
    "def replace_all_deep(d, x, y):\n",
    "    \"\"\"\n",
    "    >>> d = {1: {2: 3, 3: 4}, 2: {4: 4, 5: 3}}\n",
    "    >>> replace_all_deep(d, 3, 1)\n",
    "    >>> d\n",
    "    {1: {2: 1, 3: 4}, 2: {4: 4, 5: 1}}\n",
    "    \"\"\"\n",
    "    for key in d:\n",
    "        if d[key] == x:\n",
    "            d[key] = y\n",
    "        elif type(d[key]) == dict:\n",
    "            replace_all_deep(d[key], x, y)"
   ]
  },
  {
   "cell_type": "code",
   "execution_count": null,
   "metadata": {
    "collapsed": true
   },
   "outputs": [],
   "source": []
  }
 ],
 "metadata": {
  "kernelspec": {
   "display_name": "Python 3",
   "language": "python",
   "name": "python3"
  },
  "language_info": {
   "codemirror_mode": {
    "name": "ipython",
    "version": 3
   },
   "file_extension": ".py",
   "mimetype": "text/x-python",
   "name": "python",
   "nbconvert_exporter": "python",
   "pygments_lexer": "ipython3",
   "version": "3.5.1"
  }
 },
 "nbformat": 4,
 "nbformat_minor": 0
}
