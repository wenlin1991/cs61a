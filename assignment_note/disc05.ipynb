{
 "cells": [
  {
   "cell_type": "markdown",
   "metadata": {},
   "source": [
    "# Trees and Mutation"
   ]
  },
  {
   "cell_type": "markdown",
   "metadata": {},
   "source": [
    "## Trees"
   ]
  },
  {
   "cell_type": "markdown",
   "metadata": {},
   "source": [
    "In computer science, trees are recursive data structures that are widely used in various settings. This is a diagram of a simple tree. "
   ]
  },
  {
   "cell_type": "markdown",
   "metadata": {},
   "source": [
    "Notice that the tree branches downward. In computer science, the root of a tree starts at the top, and the leaves at the bottom."
   ]
  },
  {
   "cell_type": "markdown",
   "metadata": {},
   "source": [
    "Some terminology regarding trees:\n",
    "  - Parent node: A node that has children. Parent nodes can have multiple children. \n",
    "  - Child node: A node that has a parent. A child node can only belong to one parent.\n",
    "  - Root: The top node of the tree. In our example, the node that contains 7 is the root. \n",
    "  - Leaf: A node that has no children. In our example, the node that contain - 4, 0, 6, 17, and 20 are leaves.\n",
    "  - Subtree: Notice that each dhild of a parent is itself the root of a smaller tree. In our example the node containing 1 is the root of another tree. This is why trees are recursive data structures: trees are made up of subtrees, which are trees themselves. \n",
    "  - Depth: How far away a node is from the root. In other words, the number of edges between the root of the tree to the node.\n",
    "  - Height: The depth of the lowest leaf. In the diagram, the nodes containing -4, 0, 6, and 17 are all the \"lowest leaves\", and they have depth 4. Thus, the entire tree has height 4. "
   ]
  },
  {
   "cell_type": "markdown",
   "metadata": {},
   "source": [
    "In computer science, there are many different types of trees. Some vary in the number of children each node has; others vary in the structure of the tree. A tree has both a label value and a sequence of children, which are also trees. In our implementation, we represent the children as lists of subtrees. Since a tree is an abstract data type, our choice to use lists is simply an implementation detail.\n",
    "  - The arguments to the constructor, tree, as a value for the label and a list of children. \n",
    "  - The selectors are label and children. "
   ]
  },
  {
   "cell_type": "code",
   "execution_count": 1,
   "metadata": {
    "collapsed": true
   },
   "outputs": [],
   "source": [
    "# Constructor\n",
    "def tree(label, children=[]):\n",
    "    return [label] + list(children)\n",
    "\n",
    "# Selector\n",
    "def label(tree):\n",
    "    return tree[0]\n",
    "\n",
    "def children(tree):\n",
    "    return tree[1:]\n",
    "\n",
    "def is_leaf(tree):\n",
    "    return not children(tree)"
   ]
  },
  {
   "cell_type": "code",
   "execution_count": 2,
   "metadata": {
    "collapsed": true
   },
   "outputs": [],
   "source": [
    "t = tree(1, \n",
    "         [tree(3, \n",
    "              [tree(4),\n",
    "               tree(5),\n",
    "               tree(6)]),\n",
    "         tree(2)])"
   ]
  },
  {
   "cell_type": "code",
   "execution_count": 3,
   "metadata": {
    "collapsed": false
   },
   "outputs": [
    {
     "data": {
      "text/plain": [
       "[1, [3, [4], [5], [6]], [2]]"
      ]
     },
     "execution_count": 3,
     "metadata": {},
     "output_type": "execute_result"
    }
   ],
   "source": [
    "t"
   ]
  },
  {
   "cell_type": "markdown",
   "metadata": {},
   "source": [
    "### 1.1 Questions"
   ]
  },
  {
   "cell_type": "markdown",
   "metadata": {},
   "source": [
    "1. Define a function square_tree(t) that squares every item in the tree t. It should return a new tree. You can assume that every item is a number."
   ]
  },
  {
   "cell_type": "code",
   "execution_count": 4,
   "metadata": {
    "collapsed": true
   },
   "outputs": [],
   "source": [
    "def square_tree(t):\n",
    "    \"\"\"Return a tree with the square of every element in t\"\"\"\n",
    "    sq_children = [square_tree(child) for child in children(t)]\n",
    "    return tree(label(T) ** 2, sq_children)"
   ]
  },
  {
   "cell_type": "code",
   "execution_count": 7,
   "metadata": {
    "collapsed": false
   },
   "outputs": [],
   "source": [
    "def tree_size(t):\n",
    "    size = 0\n",
    "    size_list = [size + 1 for child in children(t) if child != empty]\n",
    "    size = size_list[0]\n",
    "    if size == 0:\n",
    "        return size\n",
    "    else:\n",
    "        return size + 1"
   ]
  },
  {
   "cell_type": "code",
   "execution_count": 8,
   "metadata": {
    "collapsed": true
   },
   "outputs": [],
   "source": [
    "def tree_size(t):\n",
    "    \"\"\"Return the size of a tree.\"\"\"\n",
    "    return 1 + sum([tree_size(child) for child in children(t)])"
   ]
  },
  {
   "cell_type": "code",
   "execution_count": 9,
   "metadata": {
    "collapsed": false
   },
   "outputs": [
    {
     "data": {
      "text/plain": [
       "6"
      ]
     },
     "execution_count": 9,
     "metadata": {},
     "output_type": "execute_result"
    }
   ],
   "source": [
    "tree_size(t)"
   ]
  },
  {
   "cell_type": "markdown",
   "metadata": {},
   "source": [
    "3. Define the procedure find_path(tree, x) that, given a tree tree and a value x, returns a list containing the nodes along the path required to get from the root of tree to a node x. If x is not present in tree, return None. Assume that the labels of tree are unique.  "
   ]
  },
  {
   "cell_type": "code",
   "execution_count": 16,
   "metadata": {
    "collapsed": true
   },
   "outputs": [],
   "source": [
    "def find_path(tree, x):\n",
    "    if label(tree) == x:\n",
    "        return [label(tree)]\n",
    "    node, trees = label(tree), children(tree)\n",
    "    for path in [find_path(t, x) for t in trees]:\n",
    "        if path:\n",
    "            return [node] + path"
   ]
  },
  {
   "cell_type": "code",
   "execution_count": 12,
   "metadata": {
    "collapsed": false
   },
   "outputs": [],
   "source": [
    "path = []\n",
    "path.append(2)"
   ]
  },
  {
   "cell_type": "code",
   "execution_count": 13,
   "metadata": {
    "collapsed": false
   },
   "outputs": [
    {
     "data": {
      "text/plain": [
       "[2]"
      ]
     },
     "execution_count": 13,
     "metadata": {},
     "output_type": "execute_result"
    }
   ],
   "source": [
    "path"
   ]
  },
  {
   "cell_type": "code",
   "execution_count": 14,
   "metadata": {
    "collapsed": false
   },
   "outputs": [
    {
     "data": {
      "text/plain": [
       "[1, [3, [4], [5], [6]], [2]]"
      ]
     },
     "execution_count": 14,
     "metadata": {},
     "output_type": "execute_result"
    }
   ],
   "source": [
    "t"
   ]
  },
  {
   "cell_type": "code",
   "execution_count": 15,
   "metadata": {
    "collapsed": false
   },
   "outputs": [
    {
     "data": {
      "text/plain": [
       "[[3, [4], [5], [6]], [2]]"
      ]
     },
     "execution_count": 15,
     "metadata": {},
     "output_type": "execute_result"
    }
   ],
   "source": [
    "children(t)"
   ]
  },
  {
   "cell_type": "code",
   "execution_count": 17,
   "metadata": {
    "collapsed": false
   },
   "outputs": [
    {
     "data": {
      "text/plain": [
       "7"
      ]
     },
     "execution_count": 17,
     "metadata": {},
     "output_type": "execute_result"
    }
   ],
   "source": [
    "sum([1, 2, 4])"
   ]
  },
  {
   "cell_type": "code",
   "execution_count": 18,
   "metadata": {
    "collapsed": true
   },
   "outputs": [],
   "source": [
    "find_path(t, 15)"
   ]
  },
  {
   "cell_type": "code",
   "execution_count": 20,
   "metadata": {
    "collapsed": false
   },
   "outputs": [
    {
     "data": {
      "text/plain": [
       "[1, 3, 5]"
      ]
     },
     "execution_count": 20,
     "metadata": {},
     "output_type": "execute_result"
    }
   ],
   "source": [
    "find_path(t, 5)"
   ]
  },
  {
   "cell_type": "markdown",
   "metadata": {},
   "source": [
    "`4.` Implement a prune function which takes a tree t and a depth k, and should return a new tree that is a copy of only the first k levels of t. For example, it t is the tree shown in the previous question, then prune(t, 2) should return the tree. "
   ]
  },
  {
   "cell_type": "code",
   "execution_count": 21,
   "metadata": {
    "collapsed": true
   },
   "outputs": [],
   "source": [
    "def prune(t, k):\n",
    "    if k == 0:\n",
    "        return tree(label(t), [])\n",
    "    else:\n",
    "        return tree(label(t), [prune(child, k - 1) for \n",
    "                               child in children(t)])"
   ]
  },
  {
   "cell_type": "code",
   "execution_count": 22,
   "metadata": {
    "collapsed": true
   },
   "outputs": [],
   "source": [
    "def find_path(tree, x):\n",
    "    if label(tree) == x:\n",
    "        return [label(tree)]\n",
    "    node, trees = label(tree), children(tree)\n",
    "    for path in [find_path(t, x) for t in trees]:\n",
    "        if path:\n",
    "            return [node] + path"
   ]
  },
  {
   "cell_type": "markdown",
   "metadata": {},
   "source": [
    "## 2. Mutable Lists"
   ]
  },
  {
   "cell_type": "markdown",
   "metadata": {},
   "source": [
    "Let's imagine you order a mushroom and cheese pizza from Domino's, and that they represent your order as a list:"
   ]
  },
  {
   "cell_type": "code",
   "execution_count": 23,
   "metadata": {
    "collapsed": true
   },
   "outputs": [],
   "source": [
    "pizza1 = ['cheese', 'mushrooms']"
   ]
  },
  {
   "cell_type": "markdown",
   "metadata": {},
   "source": [
    "A couple miniutes later, you realize that you really want onions on the pizza. Based on what we know so far, Domino's would have to build an entirely new list to add onions:"
   ]
  },
  {
   "cell_type": "code",
   "execution_count": 24,
   "metadata": {
    "collapsed": false
   },
   "outputs": [
    {
     "data": {
      "text/plain": [
       "['cheese', 'mushrooms', 'onions']"
      ]
     },
     "execution_count": 24,
     "metadata": {},
     "output_type": "execute_result"
    }
   ],
   "source": [
    "pizza2 = pizza1 + ['onions']\n",
    "pizza2"
   ]
  },
  {
   "cell_type": "markdown",
   "metadata": {},
   "source": [
    "But this is silly, considering that all Domino's had to do was add onions on top of pizza1 instead of making an entirely new pizza2. "
   ]
  },
  {
   "cell_type": "markdown",
   "metadata": {},
   "source": [
    "Python actually allows you to mutate some objects, includings lists and dictionaries. Mutability means that the object's contents can be changed. So instead of building a new pizza2, we can use pizza1.append('onions') to mutate the pizza1. "
   ]
  },
  {
   "cell_type": "code",
   "execution_count": 25,
   "metadata": {
    "collapsed": true
   },
   "outputs": [],
   "source": [
    "pizza1.append('onions')"
   ]
  },
  {
   "cell_type": "code",
   "execution_count": 26,
   "metadata": {
    "collapsed": false
   },
   "outputs": [
    {
     "data": {
      "text/plain": [
       "['cheese', 'mushrooms', 'onions']"
      ]
     },
     "execution_count": 26,
     "metadata": {},
     "output_type": "execute_result"
    }
   ],
   "source": [
    "pizza1"
   ]
  },
  {
   "cell_type": "markdown",
   "metadata": {},
   "source": [
    "Although lists and dictionaries are mutable, many other objects, such as numeric types, tuples, and strings, are immutable, meaning they cannot be changed once they are created. We can use the familiar indexing operator to mutate a single element in a list. For instance lst[4] = 'hello' would change the fifth element in lst to be the string 'hello'. In addition to the indexing operator, lists have many mutating methods. List mehtods are functions that are bound to a specific list. Some useful list methods are listed here:\n",
    "  1. append(el) adds el to the add of the list\n",
    "  2. insert(i, el) insert el at index i (does not replace element but adds a new one)\n",
    "  3. remove(el) removes the first occurrence of el in list, otherwise errors\n",
    "  4. pop(i) removes and returns the element at index i\n"
   ]
  },
  {
   "cell_type": "markdown",
   "metadata": {},
   "source": [
    "List methods are called via dot notation, as in: "
   ]
  },
  {
   "cell_type": "code",
   "execution_count": 27,
   "metadata": {
    "collapsed": false
   },
   "outputs": [
    {
     "data": {
      "text/plain": [
       "'reggie wayne'"
      ]
     },
     "execution_count": 27,
     "metadata": {},
     "output_type": "execute_result"
    }
   ],
   "source": [
    "colts = ['andrew lusk', 'reggie wayne']\n",
    "colts.append('trent richardson')\n",
    "colts.pop(1)"
   ]
  },
  {
   "cell_type": "code",
   "execution_count": 28,
   "metadata": {
    "collapsed": false
   },
   "outputs": [
    {
     "data": {
      "text/plain": [
       "['andrew lusk', 'trent richardson']"
      ]
     },
     "execution_count": 28,
     "metadata": {},
     "output_type": "execute_result"
    }
   ],
   "source": [
    "colts"
   ]
  },
  {
   "cell_type": "markdown",
   "metadata": {},
   "source": [
    "### 2.1 Questions "
   ]
  },
  {
   "cell_type": "markdown",
   "metadata": {},
   "source": [
    "`1.` Consider the following definitions and assignments and determine what Python would output for each of the calls berlow if they were evaluated in order. It may be helpful to draw the box and pointers diagrams to the right in order to keep track of the state. "
   ]
  },
  {
   "cell_type": "code",
   "execution_count": 29,
   "metadata": {
    "collapsed": false
   },
   "outputs": [
    {
     "data": {
      "text/plain": [
       "True"
      ]
     },
     "execution_count": 29,
     "metadata": {},
     "output_type": "execute_result"
    }
   ],
   "source": [
    "lst1 = [1, 2, 3]\n",
    "lst2 = [1, 2, 3]\n",
    "lst1 == lst2  \n",
    "# True"
   ]
  },
  {
   "cell_type": "code",
   "execution_count": 30,
   "metadata": {
    "collapsed": false
   },
   "outputs": [
    {
     "data": {
      "text/plain": [
       "False"
      ]
     },
     "execution_count": 30,
     "metadata": {},
     "output_type": "execute_result"
    }
   ],
   "source": [
    "lst1 is lst2\n",
    "# False"
   ]
  },
  {
   "cell_type": "code",
   "execution_count": 32,
   "metadata": {
    "collapsed": false
   },
   "outputs": [
    {
     "data": {
      "text/plain": [
       "True"
      ]
     },
     "execution_count": 32,
     "metadata": {},
     "output_type": "execute_result"
    }
   ],
   "source": [
    "lst2 = lst1\n",
    "lst2 is lst1\n",
    "# True"
   ]
  },
  {
   "cell_type": "code",
   "execution_count": 33,
   "metadata": {
    "collapsed": false
   },
   "outputs": [
    {
     "data": {
      "text/plain": [
       "[1, 2, 3, 4]"
      ]
     },
     "execution_count": 33,
     "metadata": {},
     "output_type": "execute_result"
    }
   ],
   "source": [
    "lst1.append(4)\n",
    "lst1 \n",
    "# [ 1, 2, 3, 4]"
   ]
  },
  {
   "cell_type": "code",
   "execution_count": 34,
   "metadata": {
    "collapsed": false
   },
   "outputs": [
    {
     "data": {
      "text/plain": [
       "[1, 2, 3, 4]"
      ]
     },
     "execution_count": 34,
     "metadata": {},
     "output_type": "execute_result"
    }
   ],
   "source": [
    "lst2\n",
    "# [1, 2, 3]"
   ]
  },
  {
   "cell_type": "code",
   "execution_count": 35,
   "metadata": {
    "collapsed": false
   },
   "outputs": [
    {
     "data": {
      "text/plain": [
       "[1, 42, 3, 4]"
      ]
     },
     "execution_count": 35,
     "metadata": {},
     "output_type": "execute_result"
    }
   ],
   "source": [
    "lst2[1] = 42\n",
    "lst2\n",
    "# [1, 42, 3, 4]"
   ]
  },
  {
   "cell_type": "code",
   "execution_count": 36,
   "metadata": {
    "collapsed": false
   },
   "outputs": [
    {
     "data": {
      "text/plain": [
       "False"
      ]
     },
     "execution_count": 36,
     "metadata": {},
     "output_type": "execute_result"
    }
   ],
   "source": [
    "lst1 = lst1 + [5]\n",
    "lst1 == lst2\n",
    "# True"
   ]
  },
  {
   "cell_type": "code",
   "execution_count": 37,
   "metadata": {
    "collapsed": false
   },
   "outputs": [
    {
     "data": {
      "text/plain": [
       "[1, 42, 3, 4, 5]"
      ]
     },
     "execution_count": 37,
     "metadata": {},
     "output_type": "execute_result"
    }
   ],
   "source": [
    "lst1"
   ]
  },
  {
   "cell_type": "code",
   "execution_count": 38,
   "metadata": {
    "collapsed": false
   },
   "outputs": [
    {
     "data": {
      "text/plain": [
       "[1, 42, 3, 4]"
      ]
     },
     "execution_count": 38,
     "metadata": {},
     "output_type": "execute_result"
    }
   ],
   "source": [
    "lst2"
   ]
  },
  {
   "cell_type": "code",
   "execution_count": 39,
   "metadata": {
    "collapsed": false
   },
   "outputs": [
    {
     "data": {
      "text/plain": [
       "False"
      ]
     },
     "execution_count": 39,
     "metadata": {},
     "output_type": "execute_result"
    }
   ],
   "source": [
    "lst2 is lst1\n",
    "# False"
   ]
  },
  {
   "cell_type": "markdown",
   "metadata": {},
   "source": [
    "`2.` Write a function that removes all instances of an element from a list."
   ]
  },
  {
   "cell_type": "code",
   "execution_count": 54,
   "metadata": {
    "collapsed": false
   },
   "outputs": [],
   "source": [
    "def remove_all(el, lst):\n",
    "    \"\"\"\n",
    "    >>> x = [3, 1, 2, 1, 5, 1, 1, 7]\n",
    "    >>> remove_all(1, x)\n",
    "    >>> x \n",
    "    [3, 2, 5, 7]\n",
    "    \"\"\"\n",
    "    [lst.remove(i) for i in lst if i == el]\n",
    "    return lst"
   ]
  },
  {
   "cell_type": "code",
   "execution_count": 55,
   "metadata": {
    "collapsed": false
   },
   "outputs": [
    {
     "name": "stdout",
     "output_type": "stream",
     "text": [
      "Finding tests in NoName\n",
      "Trying:\n",
      "    x = [3, 1, 2, 1, 5, 1, 1, 7]\n",
      "Expecting nothing\n",
      "ok\n",
      "Trying:\n",
      "    remove_all(1, x)\n",
      "Expecting nothing\n",
      "**********************************************************************\n",
      "File \"__main__\", line 4, in NoName\n",
      "Failed example:\n",
      "    remove_all(1, x)\n",
      "Expected nothing\n",
      "Got:\n",
      "    [3, 2, 5, 1, 7]\n",
      "Trying:\n",
      "    x \n",
      "Expecting:\n",
      "    [3, 2, 5, 7]\n",
      "**********************************************************************\n",
      "File \"__main__\", line 5, in NoName\n",
      "Failed example:\n",
      "    x \n",
      "Expected:\n",
      "    [3, 2, 5, 7]\n",
      "Got:\n",
      "    [3, 2, 5, 1, 7]\n"
     ]
    }
   ],
   "source": [
    "from doctest import run_docstring_examples\n",
    "run_docstring_examples(remove_all, globals(), True)"
   ]
  },
  {
   "cell_type": "code",
   "execution_count": 44,
   "metadata": {
    "collapsed": true
   },
   "outputs": [],
   "source": [
    "lst = [1, 2, 3]\n",
    "lst.remove(1)"
   ]
  },
  {
   "cell_type": "code",
   "execution_count": 45,
   "metadata": {
    "collapsed": false
   },
   "outputs": [
    {
     "data": {
      "text/plain": [
       "[2, 3]"
      ]
     },
     "execution_count": 45,
     "metadata": {},
     "output_type": "execute_result"
    }
   ],
   "source": [
    "lst"
   ]
  },
  {
   "cell_type": "code",
   "execution_count": 56,
   "metadata": {
    "collapsed": true
   },
   "outputs": [],
   "source": [
    "x = [3, 1, 2, 1, 5, 1, 1, 7]"
   ]
  },
  {
   "cell_type": "code",
   "execution_count": 60,
   "metadata": {
    "collapsed": false
   },
   "outputs": [],
   "source": [
    "while 1 in x:\n",
    "    x.remove(1)"
   ]
  },
  {
   "cell_type": "code",
   "execution_count": 1,
   "metadata": {
    "collapsed": false
   },
   "outputs": [],
   "source": [
    "# Answer from CS61A Professor\n",
    "def remove_all(el, lst):\n",
    "    \"\"\"\n",
    "    >>> x = [3, 1, 2, 1, 5, 1, 1, 7]\n",
    "    >>> remove_all(1, x)\n",
    "    >>> x \n",
    "    [3, 2, 5, 7]\n",
    "    \"\"\"\n",
    "    while el in lst:\n",
    "        lst.remove(el)"
   ]
  },
  {
   "cell_type": "code",
   "execution_count": 2,
   "metadata": {
    "collapsed": false
   },
   "outputs": [
    {
     "name": "stdout",
     "output_type": "stream",
     "text": [
      "Finding tests in NoName\n",
      "Trying:\n",
      "    x = [3, 1, 2, 1, 5, 1, 1, 7]\n",
      "Expecting nothing\n",
      "ok\n",
      "Trying:\n",
      "    remove_all(1, x)\n",
      "Expecting nothing\n",
      "ok\n",
      "Trying:\n",
      "    x \n",
      "Expecting:\n",
      "    [3, 2, 5, 7]\n",
      "ok\n"
     ]
    }
   ],
   "source": [
    "from doctest import run_docstring_examples\n",
    "run_docstring_examples(remove_all, globals(), True)"
   ]
  },
  {
   "cell_type": "markdown",
   "metadata": {},
   "source": [
    "**Cannot use list comprehension here, must use while loop instead**"
   ]
  },
  {
   "cell_type": "markdown",
   "metadata": {},
   "source": [
    "`3.`Write a function that takes in two values x and el, and a list, and adds as many el's to the end of the list as there are x's."
   ]
  },
  {
   "cell_type": "code",
   "execution_count": 3,
   "metadata": {
    "collapsed": false
   },
   "outputs": [],
   "source": [
    "def add_this_many(x, el, lst):\n",
    "    \"\"\"Adds el to the end of lst the number of times x occurs in lst.\n",
    "    \n",
    "    >>> lst = [1, 2, 4, 2, 1]\n",
    "    >>> add_this_many(1, 5, lst)\n",
    "    >>> lst\n",
    "    [1, 2, 4, 2, 1, 5, 5]\n",
    "    >>> add_this_many(2, 2, lst)\n",
    "    >>> lst\n",
    "    [1, 2, 4, 2, 1, 5, 5, 2, 2]\n",
    "    \"\"\"\n",
    "    while i in lst:\n",
    "        if i == x:\n",
    "            lst.append(el)"
   ]
  },
  {
   "cell_type": "code",
   "execution_count": 4,
   "metadata": {
    "collapsed": false
   },
   "outputs": [
    {
     "name": "stdout",
     "output_type": "stream",
     "text": [
      "Finding tests in NoName\n",
      "Trying:\n",
      "    lst = [1, 2, 4, 2, 1]\n",
      "Expecting nothing\n",
      "ok\n",
      "Trying:\n",
      "    add_this_many(1, 5, lst)\n",
      "Expecting nothing\n",
      "**********************************************************************\n",
      "File \"__main__\", line 5, in NoName\n",
      "Failed example:\n",
      "    add_this_many(1, 5, lst)\n",
      "Exception raised:\n",
      "    Traceback (most recent call last):\n",
      "      File \"/Users/yinyijing/anaconda/envs/snakes/lib/python3.5/doctest.py\", line 1320, in __run\n",
      "        compileflags, 1), test.globs)\n",
      "      File \"<doctest NoName[1]>\", line 1, in <module>\n",
      "        add_this_many(1, 5, lst)\n",
      "      File \"<ipython-input-3-dda8ed908130>\", line 12, in add_this_many\n",
      "        while i in lst:\n",
      "    NameError: name 'i' is not defined\n",
      "Trying:\n",
      "    lst\n",
      "Expecting:\n",
      "    [1, 2, 4, 2, 1, 5, 5]\n",
      "**********************************************************************\n",
      "File \"__main__\", line 6, in NoName\n",
      "Failed example:\n",
      "    lst\n",
      "Expected:\n",
      "    [1, 2, 4, 2, 1, 5, 5]\n",
      "Got:\n",
      "    [1, 2, 4, 2, 1]\n",
      "Trying:\n",
      "    add_this_many(2, 2, lst)\n",
      "Expecting nothing\n",
      "**********************************************************************\n",
      "File \"__main__\", line 8, in NoName\n",
      "Failed example:\n",
      "    add_this_many(2, 2, lst)\n",
      "Exception raised:\n",
      "    Traceback (most recent call last):\n",
      "      File \"/Users/yinyijing/anaconda/envs/snakes/lib/python3.5/doctest.py\", line 1320, in __run\n",
      "        compileflags, 1), test.globs)\n",
      "      File \"<doctest NoName[3]>\", line 1, in <module>\n",
      "        add_this_many(2, 2, lst)\n",
      "      File \"<ipython-input-3-dda8ed908130>\", line 12, in add_this_many\n",
      "        while i in lst:\n",
      "    NameError: name 'i' is not defined\n",
      "Trying:\n",
      "    lst\n",
      "Expecting:\n",
      "    [1, 2, 4, 2, 1, 5, 5, 2, 2]\n",
      "**********************************************************************\n",
      "File \"__main__\", line 9, in NoName\n",
      "Failed example:\n",
      "    lst\n",
      "Expected:\n",
      "    [1, 2, 4, 2, 1, 5, 5, 2, 2]\n",
      "Got:\n",
      "    [1, 2, 4, 2, 1]\n"
     ]
    }
   ],
   "source": [
    "run_docstring_examples(add_this_many, globals(), True)"
   ]
  },
  {
   "cell_type": "code",
   "execution_count": 66,
   "metadata": {
    "collapsed": false
   },
   "outputs": [
    {
     "data": {
      "text/plain": [
       "[5, 5]"
      ]
     },
     "execution_count": 66,
     "metadata": {},
     "output_type": "execute_result"
    }
   ],
   "source": [
    "[5] * 2"
   ]
  },
  {
   "cell_type": "code",
   "execution_count": 67,
   "metadata": {
    "collapsed": false
   },
   "outputs": [
    {
     "data": {
      "text/plain": [
       "[1, 2, 3, 4, 5, 5]"
      ]
     },
     "execution_count": 67,
     "metadata": {},
     "output_type": "execute_result"
    }
   ],
   "source": [
    "[1, 2, 3, 4] + [5, 5]"
   ]
  },
  {
   "cell_type": "code",
   "execution_count": 91,
   "metadata": {
    "collapsed": false
   },
   "outputs": [],
   "source": [
    "x = [1, 2, 4, 2, 1] "
   ]
  },
  {
   "cell_type": "code",
   "execution_count": 92,
   "metadata": {
    "collapsed": false
   },
   "outputs": [
    {
     "data": {
      "text/plain": [
       "[1, 2, 4, 2, 1]"
      ]
     },
     "execution_count": 92,
     "metadata": {},
     "output_type": "execute_result"
    }
   ],
   "source": [
    "x"
   ]
  },
  {
   "cell_type": "code",
   "execution_count": 93,
   "metadata": {
    "collapsed": true
   },
   "outputs": [],
   "source": [
    "add_this_many(1, 5, x)"
   ]
  },
  {
   "cell_type": "code",
   "execution_count": 94,
   "metadata": {
    "collapsed": false
   },
   "outputs": [
    {
     "data": {
      "text/plain": [
       "[1, 2, 4, 2, 1]"
      ]
     },
     "execution_count": 94,
     "metadata": {},
     "output_type": "execute_result"
    }
   ],
   "source": [
    "x"
   ]
  },
  {
   "cell_type": "code",
   "execution_count": null,
   "metadata": {
    "collapsed": true
   },
   "outputs": [],
   "source": []
  }
 ],
 "metadata": {
  "kernelspec": {
   "display_name": "Python 3",
   "language": "python",
   "name": "python3"
  },
  "language_info": {
   "codemirror_mode": {
    "name": "ipython",
    "version": 3
   },
   "file_extension": ".py",
   "mimetype": "text/x-python",
   "name": "python",
   "nbconvert_exporter": "python",
   "pygments_lexer": "ipython3",
   "version": "3.5.1"
  }
 },
 "nbformat": 4,
 "nbformat_minor": 0
}
