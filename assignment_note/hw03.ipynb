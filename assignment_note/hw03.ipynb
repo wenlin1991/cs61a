{
 "cells": [
  {
   "cell_type": "markdown",
   "metadata": {},
   "source": [
    "## Sequences"
   ]
  },
  {
   "cell_type": "markdown",
   "metadata": {},
   "source": [
    "### Question 1: Flatten"
   ]
  },
  {
   "cell_type": "markdown",
   "metadata": {},
   "source": [
    "Write a function flatten that takes a (possibly deep) list and \"flattens\" it."
   ]
  },
  {
   "cell_type": "code",
   "execution_count": 16,
   "metadata": {
    "collapsed": true
   },
   "outputs": [],
   "source": [
    "def flatten(lst):\n",
    "    \"\"\"Returns a flattened version of lst.\n",
    "\n",
    "    >>> flatten([1, 2, 3])     # normal list\n",
    "    [1, 2, 3]\n",
    "    >>> x = [1, [2, 3], 4]      # deep list\n",
    "    >>> flatten(x)\n",
    "    [1, 2, 3, 4]\n",
    "    >>> x = [[1, [1, 1]], 1, [1, 1]] # deep list\n",
    "    >>> flatten(x)\n",
    "    [1, 1, 1, 1, 1, 1]\n",
    "    \"\"\"\n",
    "    flatten_list = []\n",
    "    for ele in lst:\n",
    "        if type(ele) == list:\n",
    "            flatten(ele)\n",
    "        else:\n",
    "            flatten_list.append(ele)\n",
    "    return flatten_list"
   ]
  },
  {
   "cell_type": "code",
   "execution_count": 17,
   "metadata": {
    "collapsed": true
   },
   "outputs": [],
   "source": [
    "from doctest import run_docstring_examples"
   ]
  },
  {
   "cell_type": "code",
   "execution_count": 18,
   "metadata": {
    "collapsed": false
   },
   "outputs": [
    {
     "data": {
      "text/plain": [
       "[1, 4]"
      ]
     },
     "execution_count": 18,
     "metadata": {},
     "output_type": "execute_result"
    }
   ],
   "source": [
    "flatten([1, [2, 3], 4])"
   ]
  },
  {
   "cell_type": "code",
   "execution_count": 7,
   "metadata": {
    "collapsed": false
   },
   "outputs": [
    {
     "name": "stdout",
     "output_type": "stream",
     "text": [
      "Finding tests in NoName\n",
      "Trying:\n",
      "    flatten([1, 2, 3])     # normal list\n",
      "Expecting:\n",
      "    [1, 2, 3]\n",
      "ok\n",
      "Trying:\n",
      "    x = [1, [2, 3], 4]      # deep list\n",
      "Expecting nothing\n",
      "ok\n",
      "Trying:\n",
      "    flatten(x)\n",
      "Expecting:\n",
      "    [1, 2, 3, 4]\n",
      "**********************************************************************\n",
      "File \"__main__\", line 7, in NoName\n",
      "Failed example:\n",
      "    flatten(x)\n",
      "Expected:\n",
      "    [1, 2, 3, 4]\n",
      "Got:\n",
      "    [1, [2, 3], 4]\n",
      "Trying:\n",
      "    x = [[1, [1, 1]], 1, [1, 1]] # deep list\n",
      "Expecting nothing\n",
      "ok\n",
      "Trying:\n",
      "    flatten(x)\n",
      "Expecting:\n",
      "    [1, 1, 1, 1, 1, 1]\n",
      "**********************************************************************\n",
      "File \"__main__\", line 10, in NoName\n",
      "Failed example:\n",
      "    flatten(x)\n",
      "Expected:\n",
      "    [1, 1, 1, 1, 1, 1]\n",
      "Got:\n",
      "    [[1, [1, 1]], 1, [1, 1]]\n"
     ]
    }
   ],
   "source": [
    "run_docstring_examples(flatten, globals(), True)"
   ]
  },
  {
   "cell_type": "code",
   "execution_count": 23,
   "metadata": {
    "collapsed": false
   },
   "outputs": [],
   "source": [
    "def flatten(lst):\n",
    "    \"\"\"Returns a flattened version of lst.\n",
    "\n",
    "    >>> flatten([1, 2, 3])     # normal list\n",
    "    [1, 2, 3]\n",
    "    >>> x = [1, [2, 3], 4]      # deep list\n",
    "    >>> flatten(x)\n",
    "    [1, 2, 3, 4]\n",
    "    >>> x = [[1, [1, 1]], 1, [1, 1]] # deep list\n",
    "    >>> flatten(x)\n",
    "    [1, 1, 1, 1, 1, 1]\n",
    "    \"\"\"\n",
    "    if not lst:\n",
    "        return []\n",
    "    elif type(lst[0]) == list:\n",
    "        return flatten(lst[0]) + flatten(lst[1:])\n",
    "    else:\n",
    "        return [lst[0]] + flatten(lst[1:])"
   ]
  },
  {
   "cell_type": "code",
   "execution_count": 25,
   "metadata": {
    "collapsed": false
   },
   "outputs": [
    {
     "name": "stdout",
     "output_type": "stream",
     "text": [
      "Finding tests in NoName\n",
      "Trying:\n",
      "    flatten([1, 2, 3])     # normal list\n",
      "Expecting:\n",
      "    [1, 2, 3]\n",
      "ok\n",
      "Trying:\n",
      "    x = [1, [2, 3], 4]      # deep list\n",
      "Expecting nothing\n",
      "ok\n",
      "Trying:\n",
      "    flatten(x)\n",
      "Expecting:\n",
      "    [1, 2, 3, 4]\n",
      "ok\n",
      "Trying:\n",
      "    x = [[1, [1, 1]], 1, [1, 1]] # deep list\n",
      "Expecting nothing\n",
      "ok\n",
      "Trying:\n",
      "    flatten(x)\n",
      "Expecting:\n",
      "    [1, 1, 1, 1, 1, 1]\n",
      "ok\n"
     ]
    }
   ],
   "source": [
    "run_docstring_examples(flatten, globals(), True)"
   ]
  },
  {
   "cell_type": "markdown",
   "metadata": {},
   "source": [
    "### Question 2: Interleave"
   ]
  },
  {
   "cell_type": "markdown",
   "metadata": {},
   "source": [
    "Write interleae(s0, s1), which takes two linked lists and produces a new linked list with elements of s0 and s1 interleaved. In other words, the resulting list should have the first element of the s0, the first element of s1, the second element of s0, the second element of s1, and so on. "
   ]
  },
  {
   "cell_type": "markdown",
   "metadata": {},
   "source": [
    "If the two lists are not the same lenth, then the leftover elements of the longer list should still appear at the end. "
   ]
  },
  {
   "cell_type": "code",
   "execution_count": 26,
   "metadata": {
    "collapsed": true
   },
   "outputs": [],
   "source": [
    "def interleave(s0, s1):\n",
    "    \"\"\"Interleave linked lists s0 and s1 to produce a new linked\n",
    "    list.\n",
    "\n",
    "    >>> evens = link(2, link(4, link(6, link(8, empty))))\n",
    "    >>> odds = link(1, link(3, empty))\n",
    "    >>> print_link(interleave(odds, evens))\n",
    "    1 2 3 4 6 8\n",
    "    >>> print_link(interleave(evens, odds))\n",
    "    2 1 4 3 6 8\n",
    "    >>> print_link(interleave(odds, odds))\n",
    "    1 1 3 3\n",
    "    \"\"\"\n",
    "    if s0 == empty:\n",
    "        return s1\n",
    "    elif s1 == empty:\n",
    "        return s0\n",
    "    return link(first(s0), \n",
    "                linke(first(s1),\n",
    "                     interleave(rest(s0), rest(s1))))"
   ]
  },
  {
   "cell_type": "code",
   "execution_count": 27,
   "metadata": {
    "collapsed": true
   },
   "outputs": [],
   "source": [
    "def interleave(s0, s1):\n",
    "    interleaved = empty\n",
    "    while s0 != empty and s1 != empty:\n",
    "        interleaved = link(first(s1), link(first(s0), interleaved))\n",
    "        s0, s1 = rest(s0), rest(s1)\n",
    "    remaining = s1 if s0 == empty else s0\n",
    "    while remaining != empty:\n",
    "        interleaved = link(first(remaining), interleaved)\n",
    "        remaining = rest(remaining)\n",
    "    return reverse_iterative(interleaved)"
   ]
  },
  {
   "cell_type": "code",
   "execution_count": 28,
   "metadata": {
    "collapsed": true
   },
   "outputs": [],
   "source": [
    "def reverse_iterative(s):\n",
    "    rev_list = empty\n",
    "    while s != empty:\n",
    "        rev_list = link(first(s), rev_list)\n",
    "        s = rest(s)\n",
    "    return rev_list"
   ]
  },
  {
   "cell_type": "markdown",
   "metadata": {},
   "source": [
    "### Question 3: Merge"
   ]
  },
  {
   "cell_type": "markdown",
   "metadata": {},
   "source": [
    "Write a function merge that takes 2 sorted lists lst1 and lst2, and returns a new list that contains all the elements in two lists in sorted order. "
   ]
  },
  {
   "cell_type": "code",
   "execution_count": 36,
   "metadata": {
    "collapsed": false
   },
   "outputs": [],
   "source": [
    "def merge(lst1, lst2):\n",
    "    \"\"\"Merges two sorted lists.\n",
    "\n",
    "    >>> merge([1, 3, 5], [2, 4, 6])\n",
    "    [1, 2, 3, 4, 5, 6]\n",
    "    >>> merge([], [2, 4, 6])\n",
    "    [2, 4, 6]\n",
    "    >>> merge([1, 2, 3], [])\n",
    "    [1, 2, 3]\n",
    "    >>> merge([5, 7], [2, 4, 6])\n",
    "    [2, 4, 5, 6, 7]\n",
    "    \"\"\"\n",
    "    if not lst1 or not lst2:\n",
    "        return lst1 + lst2\n",
    "    elif lst1[0] < lst2[0]:\n",
    "        return [lst1[0]] + merge(lst1[1:], lst2)\n",
    "    else:\n",
    "        return [lst2[0]] + merge(lst1, lst2[1:])"
   ]
  },
  {
   "cell_type": "code",
   "execution_count": 37,
   "metadata": {
    "collapsed": false
   },
   "outputs": [
    {
     "data": {
      "text/plain": [
       "[1, 2, 3, 4, 5]"
      ]
     },
     "execution_count": 37,
     "metadata": {},
     "output_type": "execute_result"
    }
   ],
   "source": [
    "merge([1,3,5], [2, 4])"
   ]
  },
  {
   "cell_type": "markdown",
   "metadata": {},
   "source": [
    "## Mergesort"
   ]
  },
  {
   "cell_type": "markdown",
   "metadata": {},
   "source": [
    "### Question 4: Mergesort"
   ]
  },
  {
   "cell_type": "markdown",
   "metadata": {},
   "source": [
    "Mergesort is a type of sorting algorithm. It follows a naturally recursive procedure:\n",
    "  - Break the input list into equally-sized halves\n",
    "  - Recursively sort both halves\n",
    "  - Merge the sorted halves"
   ]
  },
  {
   "cell_type": "code",
   "execution_count": 38,
   "metadata": {
    "collapsed": false
   },
   "outputs": [
    {
     "name": "stdout",
     "output_type": "stream",
     "text": [
      "Finding tests in NoName\n",
      "Trying:\n",
      "    mergesort([4, 2, 5, 2, 1])\n",
      "Expecting:\n",
      "    [1, 2, 2, 4, 5]\n",
      "ok\n",
      "Trying:\n",
      "    mergesort([])\n",
      "Expecting:\n",
      "    []\n",
      "ok\n",
      "Trying:\n",
      "    mergesort([1])\n",
      "Expecting:\n",
      "    [1]\n",
      "ok\n"
     ]
    }
   ],
   "source": [
    "def mergesort(seq):\n",
    "    \"\"\"Mergesort algorithm.\n",
    "    \n",
    "    >>> mergesort([4, 2, 5, 2, 1])\n",
    "    [1, 2, 2, 4, 5]\n",
    "    >>> mergesort([])\n",
    "    []\n",
    "    >>> mergesort([1])\n",
    "    [1]\n",
    "    \"\"\"\n",
    "    if len(seq) < 2:\n",
    "        return seq\n",
    "    mid = len(seq) // 2\n",
    "    return merge(mergesort(seq[:mid]), mergesort(seq[mid:]))\n",
    "run_docstring_examples(mergesort, globals(), True)"
   ]
  },
  {
   "cell_type": "code",
   "execution_count": 39,
   "metadata": {
    "collapsed": true
   },
   "outputs": [],
   "source": [
    "def mergesort_iter(seq):\n",
    "    if not seq:\n",
    "        return []\n",
    "    queue = [[elem] for elem in seq]\n",
    "    while len(queue) > 1:\n",
    "        first, second = queue[0], queue[1]\n",
    "        queue = queue[2:] + [merge(first, second)]\n",
    "    return queue[0]"
   ]
  },
  {
   "cell_type": "code",
   "execution_count": 40,
   "metadata": {
    "collapsed": false
   },
   "outputs": [
    {
     "data": {
      "text/plain": [
       "[[4], [2], [5], [2], [1]]"
      ]
     },
     "execution_count": 40,
     "metadata": {},
     "output_type": "execute_result"
    }
   ],
   "source": [
    "[[elem] for elem in [4, 2, 5, 2, 1]]"
   ]
  },
  {
   "cell_type": "code",
   "execution_count": 42,
   "metadata": {
    "collapsed": false
   },
   "outputs": [
    {
     "data": {
      "text/plain": [
       "5"
      ]
     },
     "execution_count": 42,
     "metadata": {},
     "output_type": "execute_result"
    }
   ],
   "source": [
    "len([[5], [2], [1] ] + [2, 4])"
   ]
  },
  {
   "cell_type": "markdown",
   "metadata": {},
   "source": [
    "## Trees"
   ]
  },
  {
   "cell_type": "code",
   "execution_count": 50,
   "metadata": {
    "collapsed": false
   },
   "outputs": [],
   "source": [
    "def tree(label, children=[]):\n",
    "    for branch in children:\n",
    "        assert is_tree(branch), 'children must be trees'\n",
    "    return (label, children)\n",
    "\n",
    "def label(tree):\n",
    "    return tree[0]\n",
    "\n",
    "def children(tree):\n",
    "    return tree[1]\n",
    "\n",
    "def is_tree(tree):\n",
    "    if type(tree) is not tuple or len(tree) != 2 \\\n",
    "    or (type(tree[1]) is not list and type(tree[1]) is not tuple):\n",
    "        return False\n",
    "    for branch in children(tree):\n",
    "        if not is_tree(branch):\n",
    "            return False\n",
    "    return True\n",
    "\n",
    "def is_leaf(tree):\n",
    "    return not children(tree)\n",
    "\n",
    "def print_tree(t, indent = 0):\n",
    "    print('  '*indent + str(label(t)))\n",
    "    for child in children(t):\n",
    "        print_tree(child, indent + 1)"
   ]
  },
  {
   "cell_type": "markdown",
   "metadata": {},
   "source": [
    "### Question 5"
   ]
  },
  {
   "cell_type": "code",
   "execution_count": 45,
   "metadata": {
    "collapsed": true
   },
   "outputs": [],
   "source": [
    "def mobile(left, right):\n",
    "    \"\"\"Construct a mobile from a left side and a right side.\"\"\"\n",
    "    return tree(None, [left, right])\n",
    "\n",
    "def sides(m):\n",
    "    \"\"\"Select the sides of a mobile.\"\"\"\n",
    "    return children(m)"
   ]
  },
  {
   "cell_type": "code",
   "execution_count": 46,
   "metadata": {
    "collapsed": true
   },
   "outputs": [],
   "source": [
    "def side(length, mobile_or_weight):\n",
    "    \"\"\"Construct a side: a length of rod with a mobile or weight at the end.\"\"\"\n",
    "    return tree(length, [mobile_or_weight])\n",
    "\n",
    "def length(s):\n",
    "    \"\"\"Select the length of a side.\"\"\"\n",
    "    return label(s)\n",
    "\n",
    "def end(s):\n",
    "    \"\"\"Select the mobile or weight hanging at the end of a side.\"\"\"\n",
    "    return label(s)"
   ]
  },
  {
   "cell_type": "markdown",
   "metadata": {},
   "source": [
    "### Question 7"
   ]
  },
  {
   "cell_type": "markdown",
   "metadata": {},
   "source": [
    "In lecture, you saw that one use of trees is in representing expressions (such as arithmetic expressoins). So, for example, the expression `2 * (3 + x)` can be represented as the tree. \n",
    "\n",
    "That is, each operand is a child of the operator that applies to it. In lecture, we looked at evaluating an expression that contains only numbers and operators. For this problem, we will work at simplifying an expression that may contain variables without necessarily evaluating it. For example, `2 * ( x + 0) + y * 0` could be simplified to `2 * x`."
   ]
  },
  {
   "cell_type": "markdown",
   "metadata": {},
   "source": [
    "For this problem, the only operators are `*`, `+`, and `-`, and the lables of leaves will either be numbers or strings containing variable names. Thus, our first example would be represented with "
   ]
  },
  {
   "cell_type": "code",
   "execution_count": 51,
   "metadata": {
    "collapsed": false
   },
   "outputs": [
    {
     "data": {
      "text/plain": [
       "('*', [(2, []), ('+', [(3, []), ('x', [])])])"
      ]
     },
     "execution_count": 51,
     "metadata": {},
     "output_type": "execute_result"
    }
   ],
   "source": [
    "tree('*', [tree(2), tree('+', [tree(3), tree('x')])])"
   ]
  },
  {
   "cell_type": "code",
   "execution_count": 52,
   "metadata": {
    "collapsed": false
   },
   "outputs": [],
   "source": [
    "def left_opnd(expr):\n",
    "    return children(expr)[0]\n",
    "\n",
    "def right_opnd(expr):\n",
    "    return children(expr)[1]\n",
    "\n",
    "def oper(expr):\n",
    "    return label(expr)\n",
    "\n",
    "# Useful constants:\n",
    "\n",
    "ZERO = tree('0')\n",
    "ONE = tree('1')\n",
    "\n",
    "def same_expr(expr0, expr1):\n",
    "    \"\"\"Return true iff expression trees EXPR0 and EXPR1 are identical.\"\"\"\n",
    "    if oper(expr0) != oper(expr1):\n",
    "        return False\n",
    "    elif is_leaf(expr0):\n",
    "        return True\n",
    "    else:\n",
    "        return same_expr(left_opnd(expr0), left_opnd(expr1)) and \\\n",
    "               same_expr(right_opnd(expr0), right_opnd(expr1))\n",
    "\n",
    "def postfix_to_expr(postfix_expr):\n",
    "    \"\"\"Return an expression tree equivalent to POSTFIX_EXPR, a string\n",
    "    in postfix (\"reverse Polish\") notation.  In postfix, one writes\n",
    "    E1 OP E2 (where E1 and E2 are expressions and OP is an operator) as\n",
    "    E1' E2' OP, where E1' and E2' are the postfix versions of E1 and E2. For\n",
    "    example, '2*(3+x)' is written '2 3 x + *' and '2*3+x' is `2 3 * x +'.\n",
    "    >>> print_tree(postfix_to_expr(\"2 3 x + *\"))\n",
    "    *\n",
    "      2\n",
    "      +\n",
    "        3\n",
    "        x\n",
    "    \"\"\"\n",
    "\n",
    "def expr_to_infix(expr):\n",
    "    \"\"\"A string containing a standard infix denotation of the expression\n",
    "    tree EXPR\"\"\""
   ]
  },
  {
   "cell_type": "code",
   "execution_count": null,
   "metadata": {
    "collapsed": true
   },
   "outputs": [],
   "source": []
  }
 ],
 "metadata": {
  "kernelspec": {
   "display_name": "Python 3",
   "language": "python",
   "name": "python3"
  },
  "language_info": {
   "codemirror_mode": {
    "name": "ipython",
    "version": 3
   },
   "file_extension": ".py",
   "mimetype": "text/x-python",
   "name": "python",
   "nbconvert_exporter": "python",
   "pygments_lexer": "ipython3",
   "version": "3.5.1"
  }
 },
 "nbformat": 4,
 "nbformat_minor": 0
}
