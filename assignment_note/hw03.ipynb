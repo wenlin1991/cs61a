{
 "cells": [
  {
   "cell_type": "markdown",
   "metadata": {},
   "source": [
    "## Sequences"
   ]
  },
  {
   "cell_type": "markdown",
   "metadata": {},
   "source": [
    "### Question 1: Flatten"
   ]
  },
  {
   "cell_type": "markdown",
   "metadata": {},
   "source": [
    "Write a function flatten that takes a (possibly deep) list and \"flattens\" it."
   ]
  },
  {
   "cell_type": "code",
   "execution_count": 16,
   "metadata": {
    "collapsed": true
   },
   "outputs": [],
   "source": [
    "def flatten(lst):\n",
    "    \"\"\"Returns a flattened version of lst.\n",
    "\n",
    "    >>> flatten([1, 2, 3])     # normal list\n",
    "    [1, 2, 3]\n",
    "    >>> x = [1, [2, 3], 4]      # deep list\n",
    "    >>> flatten(x)\n",
    "    [1, 2, 3, 4]\n",
    "    >>> x = [[1, [1, 1]], 1, [1, 1]] # deep list\n",
    "    >>> flatten(x)\n",
    "    [1, 1, 1, 1, 1, 1]\n",
    "    \"\"\"\n",
    "    flatten_list = []\n",
    "    for ele in lst:\n",
    "        if type(ele) == list:\n",
    "            flatten(ele)\n",
    "        else:\n",
    "            flatten_list.append(ele)\n",
    "    return flatten_list"
   ]
  },
  {
   "cell_type": "code",
   "execution_count": 17,
   "metadata": {
    "collapsed": true
   },
   "outputs": [],
   "source": [
    "from doctest import run_docstring_examples"
   ]
  },
  {
   "cell_type": "code",
   "execution_count": 18,
   "metadata": {
    "collapsed": false
   },
   "outputs": [
    {
     "data": {
      "text/plain": [
       "[1, 4]"
      ]
     },
     "execution_count": 18,
     "metadata": {},
     "output_type": "execute_result"
    }
   ],
   "source": [
    "flatten([1, [2, 3], 4])"
   ]
  },
  {
   "cell_type": "code",
   "execution_count": 7,
   "metadata": {
    "collapsed": false
   },
   "outputs": [
    {
     "name": "stdout",
     "output_type": "stream",
     "text": [
      "Finding tests in NoName\n",
      "Trying:\n",
      "    flatten([1, 2, 3])     # normal list\n",
      "Expecting:\n",
      "    [1, 2, 3]\n",
      "ok\n",
      "Trying:\n",
      "    x = [1, [2, 3], 4]      # deep list\n",
      "Expecting nothing\n",
      "ok\n",
      "Trying:\n",
      "    flatten(x)\n",
      "Expecting:\n",
      "    [1, 2, 3, 4]\n",
      "**********************************************************************\n",
      "File \"__main__\", line 7, in NoName\n",
      "Failed example:\n",
      "    flatten(x)\n",
      "Expected:\n",
      "    [1, 2, 3, 4]\n",
      "Got:\n",
      "    [1, [2, 3], 4]\n",
      "Trying:\n",
      "    x = [[1, [1, 1]], 1, [1, 1]] # deep list\n",
      "Expecting nothing\n",
      "ok\n",
      "Trying:\n",
      "    flatten(x)\n",
      "Expecting:\n",
      "    [1, 1, 1, 1, 1, 1]\n",
      "**********************************************************************\n",
      "File \"__main__\", line 10, in NoName\n",
      "Failed example:\n",
      "    flatten(x)\n",
      "Expected:\n",
      "    [1, 1, 1, 1, 1, 1]\n",
      "Got:\n",
      "    [[1, [1, 1]], 1, [1, 1]]\n"
     ]
    }
   ],
   "source": [
    "run_docstring_examples(flatten, globals(), True)"
   ]
  },
  {
   "cell_type": "code",
   "execution_count": 23,
   "metadata": {
    "collapsed": false
   },
   "outputs": [],
   "source": [
    "def flatten(lst):\n",
    "    \"\"\"Returns a flattened version of lst.\n",
    "\n",
    "    >>> flatten([1, 2, 3])     # normal list\n",
    "    [1, 2, 3]\n",
    "    >>> x = [1, [2, 3], 4]      # deep list\n",
    "    >>> flatten(x)\n",
    "    [1, 2, 3, 4]\n",
    "    >>> x = [[1, [1, 1]], 1, [1, 1]] # deep list\n",
    "    >>> flatten(x)\n",
    "    [1, 1, 1, 1, 1, 1]\n",
    "    \"\"\"\n",
    "    if not lst:\n",
    "        return []\n",
    "    elif type(lst[0]) == list:\n",
    "        return flatten(lst[0]) + flatten(lst[1:])\n",
    "    else:\n",
    "        return [lst[0]] + flatten(lst[1:])"
   ]
  },
  {
   "cell_type": "code",
   "execution_count": 25,
   "metadata": {
    "collapsed": false
   },
   "outputs": [
    {
     "name": "stdout",
     "output_type": "stream",
     "text": [
      "Finding tests in NoName\n",
      "Trying:\n",
      "    flatten([1, 2, 3])     # normal list\n",
      "Expecting:\n",
      "    [1, 2, 3]\n",
      "ok\n",
      "Trying:\n",
      "    x = [1, [2, 3], 4]      # deep list\n",
      "Expecting nothing\n",
      "ok\n",
      "Trying:\n",
      "    flatten(x)\n",
      "Expecting:\n",
      "    [1, 2, 3, 4]\n",
      "ok\n",
      "Trying:\n",
      "    x = [[1, [1, 1]], 1, [1, 1]] # deep list\n",
      "Expecting nothing\n",
      "ok\n",
      "Trying:\n",
      "    flatten(x)\n",
      "Expecting:\n",
      "    [1, 1, 1, 1, 1, 1]\n",
      "ok\n"
     ]
    }
   ],
   "source": [
    "run_docstring_examples(flatten, globals(), True)"
   ]
  },
  {
   "cell_type": "markdown",
   "metadata": {},
   "source": [
    "### Question 2: Interleave"
   ]
  },
  {
   "cell_type": "markdown",
   "metadata": {},
   "source": [
    "Write interleae(s0, s1), which takes two linked lists and produces a new linked list with elements of s0 and s1 interleaved. In other words, the resulting list should have the first element of the s0, the first element of s1, the second element of s0, the second element of s1, and so on. "
   ]
  },
  {
   "cell_type": "markdown",
   "metadata": {},
   "source": [
    "If the two lists are not the same lenth, then the leftover elements of the longer list should still appear at the end. "
   ]
  },
  {
   "cell_type": "code",
   "execution_count": 26,
   "metadata": {
    "collapsed": true
   },
   "outputs": [],
   "source": [
    "def interleave(s0, s1):\n",
    "    \"\"\"Interleave linked lists s0 and s1 to produce a new linked\n",
    "    list.\n",
    "\n",
    "    >>> evens = link(2, link(4, link(6, link(8, empty))))\n",
    "    >>> odds = link(1, link(3, empty))\n",
    "    >>> print_link(interleave(odds, evens))\n",
    "    1 2 3 4 6 8\n",
    "    >>> print_link(interleave(evens, odds))\n",
    "    2 1 4 3 6 8\n",
    "    >>> print_link(interleave(odds, odds))\n",
    "    1 1 3 3\n",
    "    \"\"\"\n",
    "    if s0 == empty:\n",
    "        return s1\n",
    "    elif s1 == empty:\n",
    "        return s0\n",
    "    return link(first(s0), \n",
    "                linke(first(s1),\n",
    "                     interleave(rest(s0), rest(s1))))"
   ]
  },
  {
   "cell_type": "code",
   "execution_count": 27,
   "metadata": {
    "collapsed": true
   },
   "outputs": [],
   "source": [
    "def interleave(s0, s1):\n",
    "    interleaved = empty\n",
    "    while s0 != empty and s1 != empty:\n",
    "        interleaved = link(first(s1), link(first(s0), interleaved))\n",
    "        s0, s1 = rest(s0), rest(s1)\n",
    "    remaining = s1 if s0 == empty else s0\n",
    "    while remaining != empty:\n",
    "        interleaved = link(first(remaining), interleaved)\n",
    "        remaining = rest(remaining)\n",
    "    return reverse_iterative(interleaved)"
   ]
  },
  {
   "cell_type": "code",
   "execution_count": 28,
   "metadata": {
    "collapsed": true
   },
   "outputs": [],
   "source": [
    "def reverse_iterative(s):\n",
    "    rev_list = empty\n",
    "    while s != empty:\n",
    "        rev_list = link(first(s), rev_list)\n",
    "        s = rest(s)\n",
    "    return rev_list"
   ]
  },
  {
   "cell_type": "code",
   "execution_count": null,
   "metadata": {
    "collapsed": true
   },
   "outputs": [],
   "source": []
  }
 ],
 "metadata": {
  "kernelspec": {
   "display_name": "Python 3",
   "language": "python",
   "name": "python3"
  },
  "language_info": {
   "codemirror_mode": {
    "name": "ipython",
    "version": 3
   },
   "file_extension": ".py",
   "mimetype": "text/x-python",
   "name": "python",
   "nbconvert_exporter": "python",
   "pygments_lexer": "ipython3",
   "version": "3.5.1"
  }
 },
 "nbformat": 4,
 "nbformat_minor": 0
}
