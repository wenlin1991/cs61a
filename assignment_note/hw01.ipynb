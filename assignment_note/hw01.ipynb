{
 "cells": [
  {
   "cell_type": "code",
   "execution_count": 7,
   "metadata": {
    "collapsed": true
   },
   "outputs": [],
   "source": [
    "from doctest import run_docstring_examples"
   ]
  },
  {
   "cell_type": "markdown",
   "metadata": {},
   "source": [
    "### Queston 2"
   ]
  },
  {
   "cell_type": "markdown",
   "metadata": {},
   "source": [
    "We've seen that we can give new names to existing functions. Fill in the blanks in the following function definition for adding `a` to the absolute value of `b`, without calling abs."
   ]
  },
  {
   "cell_type": "code",
   "execution_count": 2,
   "metadata": {
    "collapsed": true
   },
   "outputs": [],
   "source": [
    "from operator import add, sub\n",
    "def a_plus_abs_b(a, b):\n",
    "    \"\"\"Return a+abs(b), but without calling abs\n",
    "    \n",
    "    >>> a_plus_abs_b(2, 3)\n",
    "    5\n",
    "    >>> a_plus_abs_b(2, -3)\n",
    "    5\n",
    "    \"\"\"\n",
    "    if b < 0:\n",
    "        f = sub\n",
    "    else: \n",
    "        f = add\n",
    "    return f(a, b)"
   ]
  },
  {
   "cell_type": "code",
   "execution_count": 3,
   "metadata": {
    "collapsed": false
   },
   "outputs": [
    {
     "data": {
      "text/plain": [
       "5"
      ]
     },
     "execution_count": 3,
     "metadata": {},
     "output_type": "execute_result"
    }
   ],
   "source": [
    "a_plus_abs_b(2, -3)"
   ]
  },
  {
   "cell_type": "markdown",
   "metadata": {},
   "source": [
    "### Question 3"
   ]
  },
  {
   "cell_type": "markdown",
   "metadata": {},
   "source": [
    "Write a function that takes three positive numbers and returns the sum of the squares of the two largest numbers. Use only a single expression for the body of the function."
   ]
  },
  {
   "cell_type": "code",
   "execution_count": 6,
   "metadata": {
    "collapsed": false
   },
   "outputs": [],
   "source": [
    "def two_of_three(a, b, c):\n",
    "    \"\"\"Return x*x + y*y, where x and y are the two largest members of the \n",
    "    positive numbers a, b, and c.\n",
    "    \n",
    "    >>> two_of_three(1, 2, 3)\n",
    "    13\n",
    "    >>> two_of_three(5, 3, 1)\n",
    "    34\n",
    "    >>> two_of_three(10, 2, 8)\n",
    "    164\n",
    "    >>> two_of_three(5, 5, 5)\n",
    "    50\n",
    "    \"\"\"\n",
    "    return max((a*a+b*b), (b*b+c*c), (a*a+c*c))"
   ]
  },
  {
   "cell_type": "code",
   "execution_count": 8,
   "metadata": {
    "collapsed": false
   },
   "outputs": [
    {
     "name": "stdout",
     "output_type": "stream",
     "text": [
      "Finding tests in NoName\n",
      "Trying:\n",
      "    two_of_three(1, 2, 3)\n",
      "Expecting:\n",
      "    13\n",
      "ok\n",
      "Trying:\n",
      "    two_of_three(5, 3, 1)\n",
      "Expecting:\n",
      "    34\n",
      "ok\n",
      "Trying:\n",
      "    two_of_three(10, 2, 8)\n",
      "Expecting:\n",
      "    164\n",
      "ok\n",
      "Trying:\n",
      "    two_of_three(5, 5, 5)\n",
      "Expecting:\n",
      "    50\n",
      "ok\n"
     ]
    }
   ],
   "source": [
    "run_docstring_examples(two_of_three, globals(), True)"
   ]
  },
  {
   "cell_type": "markdown",
   "metadata": {},
   "source": [
    "If you cannot find a better way, try to write a simple method. You can also try to find the answer in the outcome, I mean the temporaly outcome."
   ]
  },
  {
   "cell_type": "markdown",
   "metadata": {},
   "source": [
    "### Question 4"
   ]
  },
  {
   "cell_type": "markdown",
   "metadata": {},
   "source": [
    "Write a function that takes an integer n greater than 1 and returns the largest integer smaller than n that evenly divides n*n-1."
   ]
  },
  {
   "cell_type": "code",
   "execution_count": 13,
   "metadata": {
    "collapsed": true
   },
   "outputs": [],
   "source": [
    "def largest_factor(n):\n",
    "    \"\"\"Return the largest factor of n*n-1 that is smaller than n. \n",
    "    \n",
    "    >>> largest_factor(4) # n*n-1 is 15; factors are 1,3,5,15\n",
    "    3\n",
    "    >>> largest_factor(9) # n*n-1 is 80; factors are 1,2,4,5,8....\n",
    "    8\n",
    "    \"\"\"\n",
    "    factors, numerator = [], n*n-1\n",
    "    for i in range(1, n):\n",
    "        if numerator % i == 0:\n",
    "            factors.append(i)\n",
    "    return factors[-1]"
   ]
  },
  {
   "cell_type": "code",
   "execution_count": 14,
   "metadata": {
    "collapsed": false
   },
   "outputs": [
    {
     "name": "stdout",
     "output_type": "stream",
     "text": [
      "Finding tests in NoName\n",
      "Trying:\n",
      "    largest_factor(4) # n*n-1 is 15; factors are 1,3,5,15\n",
      "Expecting:\n",
      "    3\n",
      "ok\n",
      "Trying:\n",
      "    largest_factor(9) # n*n-1 is 80; factors are 1,2,4,5,8....\n",
      "Expecting:\n",
      "    8\n",
      "ok\n"
     ]
    }
   ],
   "source": [
    "run_docstring_examples(largest_factor, globals(), True)"
   ]
  },
  {
   "cell_type": "markdown",
   "metadata": {},
   "source": [
    "因为需要找的是n*n-1的最大因子且小于n，当然答案是n-1"
   ]
  },
  {
   "cell_type": "code",
   "execution_count": null,
   "metadata": {
    "collapsed": true
   },
   "outputs": [],
   "source": [
    "# Answer from CS61A professor\n",
    "return n-1"
   ]
  },
  {
   "cell_type": "markdown",
   "metadata": {},
   "source": [
    "### Question 5"
   ]
  },
  {
   "cell_type": "markdown",
   "metadata": {},
   "source": [
    "Write a function that does the same thing as an if statement."
   ]
  },
  {
   "cell_type": "code",
   "execution_count": 16,
   "metadata": {
    "collapsed": true
   },
   "outputs": [],
   "source": [
    "def if_function(condition, true_result, false_result):\n",
    "    \"\"\"Return true_result if condition is a true value, and \n",
    "    false_result otherwise.\n",
    "    \n",
    "    >>> if_function(True, 2, 3)\n",
    "    2\n",
    "    >>> if_function(False, 2, 3)\n",
    "    3\n",
    "    >>> if_function(3==2, 3+2, 3-2)\n",
    "    1\n",
    "    >>> if_function(3>2, 3+2, 3-2)\n",
    "    5\n",
    "    \"\"\"\n",
    "    if condition:\n",
    "        return true_result\n",
    "    else:\n",
    "        return false_result"
   ]
  },
  {
   "cell_type": "code",
   "execution_count": 18,
   "metadata": {
    "collapsed": false
   },
   "outputs": [
    {
     "data": {
      "text/plain": [
       "3"
      ]
     },
     "execution_count": 18,
     "metadata": {},
     "output_type": "execute_result"
    }
   ],
   "source": [
    "if_function(None, 2, 3)"
   ]
  },
  {
   "cell_type": "markdown",
   "metadata": {},
   "source": [
    "Despite the doctests above, this function actually does not do the same thing as an if statement in all cases. To prove this fact, write functions c, t, and f such that with_if_statement returns the number 1, but with_if_function does not(it can do anything else)"
   ]
  },
  {
   "cell_type": "code",
   "execution_count": 23,
   "metadata": {
    "collapsed": true
   },
   "outputs": [],
   "source": [
    "def with_if_statement():\n",
    "    \"\"\"\n",
    "    >>> with_if_statement()\n",
    "    1\n",
    "    \"\"\"\n",
    "    if c():\n",
    "        return t()\n",
    "    else:\n",
    "        return f()\n",
    "    \n",
    "def with_if_function():\n",
    "    return if_function(c(), t(), f())\n",
    "\n",
    "def c():\n",
    "    return False\n",
    "\n",
    "def t():\n",
    "    1/0\n",
    "    \n",
    "def f():\n",
    "    return 1"
   ]
  },
  {
   "cell_type": "code",
   "execution_count": 24,
   "metadata": {
    "collapsed": false
   },
   "outputs": [
    {
     "name": "stdout",
     "output_type": "stream",
     "text": [
      "Finding tests in NoName\n",
      "Trying:\n",
      "    with_if_statement()\n",
      "Expecting:\n",
      "    1\n",
      "ok\n"
     ]
    }
   ],
   "source": [
    "run_docstring_examples(with_if_statement, globals(), True)"
   ]
  },
  {
   "cell_type": "markdown",
   "metadata": {},
   "source": [
    "The function with_if_function uses a call expression, which guarantees that of its operand subexpressions will be evaluated before if_function is applied to the resulting arguments. Therefore, even if c returns false, the function t will be called. By contrast, with_if_statement will never call t if c returns false. "
   ]
  },
  {
   "cell_type": "markdown",
   "metadata": {},
   "source": [
    "### Question 6"
   ]
  },
  {
   "cell_type": "code",
   "execution_count": 32,
   "metadata": {
    "collapsed": false
   },
   "outputs": [],
   "source": [
    "def hailstone(n):\n",
    "    \"\"\"Print the hailstone sequence starting at n and return its\n",
    "    length. \n",
    "    \n",
    "    >>> a = hailstone(10)\n",
    "    10\n",
    "    5\n",
    "    16\n",
    "    8\n",
    "    4\n",
    "    2\n",
    "    1\n",
    "    >>> a\n",
    "    7\n",
    "    \"\"\"\n",
    "    if n == 1:\n",
    "        print(n)\n",
    "        return 1\n",
    "    else:\n",
    "        print(n)\n",
    "        if n % 2 == 0:\n",
    "            return 1 + hailstone(n // 2)\n",
    "        else:\n",
    "            return 1 + hailstone(n * 3 + 1)"
   ]
  },
  {
   "cell_type": "code",
   "execution_count": 33,
   "metadata": {
    "collapsed": false
   },
   "outputs": [
    {
     "name": "stdout",
     "output_type": "stream",
     "text": [
      "10\n",
      "5\n",
      "16\n",
      "8\n",
      "4\n",
      "2\n",
      "1\n"
     ]
    },
    {
     "data": {
      "text/plain": [
       "7"
      ]
     },
     "execution_count": 33,
     "metadata": {},
     "output_type": "execute_result"
    }
   ],
   "source": [
    "hailstone(10)"
   ]
  },
  {
   "cell_type": "code",
   "execution_count": 34,
   "metadata": {
    "collapsed": true
   },
   "outputs": [],
   "source": [
    "# Answer from CS61A Professor\n",
    "def hailstone(n):\n",
    "    \"\"\"Print the hailstone sequence starting at an and return its \n",
    "    length.\n",
    "    \n",
    "    >>> a = hailstone(10)\n",
    "    10\n",
    "    5\n",
    "    16\n",
    "    8\n",
    "    4\n",
    "    2\n",
    "    1\n",
    "    >>> a\n",
    "    7\n",
    "    \"\"\"\n",
    "    length = 1\n",
    "    while n != 1:\n",
    "        print(n)\n",
    "        if n % 2 == 0:\n",
    "            n = n // 2\n",
    "        else:\n",
    "            n = n * 3 + 1\n",
    "        length = length + 1\n",
    "    print(n)\n",
    "    return length"
   ]
  },
  {
   "cell_type": "code",
   "execution_count": null,
   "metadata": {
    "collapsed": true
   },
   "outputs": [],
   "source": []
  }
 ],
 "metadata": {
  "kernelspec": {
   "display_name": "Python 3",
   "language": "python",
   "name": "python3"
  },
  "language_info": {
   "codemirror_mode": {
    "name": "ipython",
    "version": 3
   },
   "file_extension": ".py",
   "mimetype": "text/x-python",
   "name": "python",
   "nbconvert_exporter": "python",
   "pygments_lexer": "ipython3",
   "version": "3.5.1"
  }
 },
 "nbformat": 4,
 "nbformat_minor": 0
}
